{
 "cells": [
  {
   "cell_type": "code",
   "execution_count": 79,
   "id": "4d14f5f7-9cc6-4bf0-8003-6ee3aee8ce83",
   "metadata": {},
   "outputs": [],
   "source": [
    "import pandas as pd \n",
    "import datetime \n",
    "import numpy as np\n",
    "import streamlit as st\n",
    "import plotly.express as px"
   ]
  },
  {
   "cell_type": "code",
   "execution_count": 80,
   "id": "94afeb25-649c-492f-8c3e-c24263eeba72",
   "metadata": {},
   "outputs": [],
   "source": [
    "df = pd.read_csv('./latest_otter_data.csv')"
   ]
  },
  {
   "cell_type": "code",
   "execution_count": 81,
   "id": "e8f68605-47f8-4b63-ac15-0ea2136d0af0",
   "metadata": {},
   "outputs": [],
   "source": [
    "df.columns = map(str.lower, df.columns)\n",
    "df.columns = map(str.strip, df.columns)\n",
    "\n",
    "\n",
    "\n",
    "df['day_partition'] = pd.to_datetime(df['day_partition'])\n",
    "df['month_year_period'] = df['day_partition'].dt.to_period('M')"
   ]
  },
  {
   "cell_type": "code",
   "execution_count": 82,
   "id": "8382b4a5-9ee5-423b-b2bb-65994b02cd1d",
   "metadata": {},
   "outputs": [
    {
     "data": {
      "text/plain": [
       "Index(['day_partition', 'region', 'country', 'locations',\n",
       "       'overall_daily_active', 'overall_daily_access', 'overall_weekly_active',\n",
       "       'overall_weekly_access', 'overall_monthly_active',\n",
       "       'overall_monthly_access', 'core_daily_active', 'core_daily_access',\n",
       "       'core_weekly_active', 'core_weekly_access', 'core_monthly_active',\n",
       "       'core_monthly_access', 'premium_daily_active', 'premium_daily_access',\n",
       "       'premium_weekly_active', 'premium_weekly_access',\n",
       "       'premium_monthly_active', 'premium_monthly_access',\n",
       "       'promos_daily_active', 'promos_daily_access', 'promos_weekly_active',\n",
       "       'promos_weekly_access', 'promos_monthly_active',\n",
       "       'promos_monthly_access', 'custom_websites_daily_active',\n",
       "       'custom_websites_daily_access', 'custom_websites_weekly_active',\n",
       "       'custom_websites_weekly_access', 'custom_websites_monthly_active',\n",
       "       'custom_websites_monthly_access',\n",
       "       'custom_websites_premium_daily_active',\n",
       "       'custom_websites_premium_daily_access',\n",
       "       'custom_websites_premium_weekly_active',\n",
       "       'custom_websites_premium_weekly_access',\n",
       "       'custom_websites_premium_monthly_active',\n",
       "       'custom_websites_premium_monthly_access', 'basic_insights_daily_active',\n",
       "       'basic_insights_daily_access', 'basic_insights_weekly_active',\n",
       "       'basic_insights_weekly_access', 'basic_insights_monthly_active',\n",
       "       'basic_insights_monthly_access', 'adv_insights_daily_active',\n",
       "       'adv_insights_daily_access', 'adv_insights_weekly_active',\n",
       "       'adv_insights_weekly_access', 'adv_insights_monthly_active',\n",
       "       'adv_insights_monthly_access', 'super_insights_daily_active',\n",
       "       'super_insights_daily_access', 'super_insights_weekly_active',\n",
       "       'super_insights_weekly_access', 'super_insights_monthly_active',\n",
       "       'super_insights_monthly_access', 'month_year_period'],\n",
       "      dtype='object')"
      ]
     },
     "execution_count": 82,
     "metadata": {},
     "output_type": "execute_result"
    }
   ],
   "source": [
    "df.columns"
   ]
  },
  {
   "cell_type": "markdown",
   "id": "d64f7cad-efd4-4386-adb2-b47db376306a",
   "metadata": {},
   "source": [
    "## Product Stickiness"
   ]
  },
  {
   "cell_type": "code",
   "execution_count": 83,
   "id": "b4353757-5a24-41a8-a074-b0fead8df72d",
   "metadata": {},
   "outputs": [],
   "source": [
    "sticky_df = df.copy()"
   ]
  },
  {
   "cell_type": "code",
   "execution_count": 84,
   "id": "3159df2e-b792-4cc4-8382-419d856c130d",
   "metadata": {},
   "outputs": [],
   "source": [
    "products = ['overall','premium' ,'core','promos','custom_websites','basic_insights','adv_insights','super_insights']"
   ]
  },
  {
   "cell_type": "code",
   "execution_count": 85,
   "id": "233ca045-a8ca-433d-ad9a-3d5c35ac6e5b",
   "metadata": {},
   "outputs": [],
   "source": [
    "def get_dau_mau(daily, monthly):\n",
    "    if daily == 0:\n",
    "        return 0\n",
    "    else:\n",
    "        return daily / monthly * 100\n",
    "\n",
    "\n",
    "def get_dau_wau(daily, weekly):\n",
    "    if daily == 0:\n",
    "        return 0\n",
    "    else:\n",
    "        return daily / weekly * 100"
   ]
  },
  {
   "cell_type": "code",
   "execution_count": 86,
   "id": "5d8d493b-9583-49c4-a1c7-3eea646eef49",
   "metadata": {},
   "outputs": [
    {
     "name": "stdout",
     "output_type": "stream",
     "text": [
      "overall started\n",
      "premium started\n",
      "core started\n",
      "promos started\n",
      "custom_websites started\n",
      "basic_insights started\n",
      "adv_insights started\n",
      "super_insights started\n"
     ]
    }
   ],
   "source": [
    "for product in products:\n",
    "    print(product, \"started\")\n",
    "    sticky_df[product + '_dau_mau'] = sticky_df.apply(lambda x: get_dau_mau(x[product + \"_daily_active\"], x[product + \"_monthly_active\"]), axis = 1)\n",
    "    # sticky_df[product + '_dau_wau'] = sticky_df.apply(lambda x: get_dau_wau(x[product + \"_daily_active\"], x[product + \"_weekly_active\"]), axis = 1)"
   ]
  },
  {
   "cell_type": "code",
   "execution_count": 87,
   "id": "e90b6323-379c-4080-b2cc-31986ecf6a2c",
   "metadata": {},
   "outputs": [
    {
     "data": {
      "text/html": [
       "<div>\n",
       "<style scoped>\n",
       "    .dataframe tbody tr th:only-of-type {\n",
       "        vertical-align: middle;\n",
       "    }\n",
       "\n",
       "    .dataframe tbody tr th {\n",
       "        vertical-align: top;\n",
       "    }\n",
       "\n",
       "    .dataframe thead th {\n",
       "        text-align: right;\n",
       "    }\n",
       "</style>\n",
       "<table border=\"1\" class=\"dataframe\">\n",
       "  <thead>\n",
       "    <tr style=\"text-align: right;\">\n",
       "      <th></th>\n",
       "      <th>day_partition</th>\n",
       "      <th>region</th>\n",
       "      <th>country</th>\n",
       "      <th>locations</th>\n",
       "      <th>overall_daily_active</th>\n",
       "      <th>overall_daily_access</th>\n",
       "      <th>overall_weekly_active</th>\n",
       "      <th>overall_weekly_access</th>\n",
       "      <th>overall_monthly_active</th>\n",
       "      <th>overall_monthly_access</th>\n",
       "      <th>...</th>\n",
       "      <th>super_insights_monthly_access</th>\n",
       "      <th>month_year_period</th>\n",
       "      <th>overall_dau_mau</th>\n",
       "      <th>premium_dau_mau</th>\n",
       "      <th>core_dau_mau</th>\n",
       "      <th>promos_dau_mau</th>\n",
       "      <th>custom_websites_dau_mau</th>\n",
       "      <th>basic_insights_dau_mau</th>\n",
       "      <th>adv_insights_dau_mau</th>\n",
       "      <th>super_insights_dau_mau</th>\n",
       "    </tr>\n",
       "  </thead>\n",
       "  <tbody>\n",
       "    <tr>\n",
       "      <th>0</th>\n",
       "      <td>2022-01-01</td>\n",
       "      <td>Region 1</td>\n",
       "      <td>Country 1</td>\n",
       "      <td>3918</td>\n",
       "      <td>1489</td>\n",
       "      <td>3197</td>\n",
       "      <td>1489</td>\n",
       "      <td>3197</td>\n",
       "      <td>1489</td>\n",
       "      <td>3197</td>\n",
       "      <td>...</td>\n",
       "      <td>460</td>\n",
       "      <td>2022-01</td>\n",
       "      <td>100.000000</td>\n",
       "      <td>100.000000</td>\n",
       "      <td>100.000000</td>\n",
       "      <td>0.0</td>\n",
       "      <td>0.0</td>\n",
       "      <td>100.000000</td>\n",
       "      <td>0.0</td>\n",
       "      <td>100.000000</td>\n",
       "    </tr>\n",
       "    <tr>\n",
       "      <th>1</th>\n",
       "      <td>2022-01-03</td>\n",
       "      <td>Region 1</td>\n",
       "      <td>Country 1</td>\n",
       "      <td>3918</td>\n",
       "      <td>1571</td>\n",
       "      <td>3195</td>\n",
       "      <td>1759</td>\n",
       "      <td>3200</td>\n",
       "      <td>1759</td>\n",
       "      <td>3200</td>\n",
       "      <td>...</td>\n",
       "      <td>763</td>\n",
       "      <td>2022-01</td>\n",
       "      <td>89.312109</td>\n",
       "      <td>71.794872</td>\n",
       "      <td>90.816935</td>\n",
       "      <td>0.0</td>\n",
       "      <td>0.0</td>\n",
       "      <td>65.780731</td>\n",
       "      <td>0.0</td>\n",
       "      <td>58.346582</td>\n",
       "    </tr>\n",
       "    <tr>\n",
       "      <th>2</th>\n",
       "      <td>2022-01-04</td>\n",
       "      <td>Region 1</td>\n",
       "      <td>Country 1</td>\n",
       "      <td>3918</td>\n",
       "      <td>1709</td>\n",
       "      <td>3195</td>\n",
       "      <td>1876</td>\n",
       "      <td>3200</td>\n",
       "      <td>1876</td>\n",
       "      <td>3200</td>\n",
       "      <td>...</td>\n",
       "      <td>905</td>\n",
       "      <td>2022-01</td>\n",
       "      <td>91.098081</td>\n",
       "      <td>75.609756</td>\n",
       "      <td>91.210046</td>\n",
       "      <td>50.0</td>\n",
       "      <td>0.0</td>\n",
       "      <td>78.253119</td>\n",
       "      <td>0.0</td>\n",
       "      <td>60.384615</td>\n",
       "    </tr>\n",
       "    <tr>\n",
       "      <th>3</th>\n",
       "      <td>2022-01-05</td>\n",
       "      <td>Region 1</td>\n",
       "      <td>Country 1</td>\n",
       "      <td>3948</td>\n",
       "      <td>1720</td>\n",
       "      <td>3213</td>\n",
       "      <td>1922</td>\n",
       "      <td>3219</td>\n",
       "      <td>1922</td>\n",
       "      <td>3219</td>\n",
       "      <td>...</td>\n",
       "      <td>982</td>\n",
       "      <td>2022-01</td>\n",
       "      <td>89.490114</td>\n",
       "      <td>83.333333</td>\n",
       "      <td>91.727222</td>\n",
       "      <td>50.0</td>\n",
       "      <td>0.0</td>\n",
       "      <td>51.919866</td>\n",
       "      <td>0.0</td>\n",
       "      <td>55.490654</td>\n",
       "    </tr>\n",
       "    <tr>\n",
       "      <th>4</th>\n",
       "      <td>2022-01-06</td>\n",
       "      <td>Region 1</td>\n",
       "      <td>Country 1</td>\n",
       "      <td>3948</td>\n",
       "      <td>1776</td>\n",
       "      <td>3215</td>\n",
       "      <td>1968</td>\n",
       "      <td>3221</td>\n",
       "      <td>1968</td>\n",
       "      <td>3221</td>\n",
       "      <td>...</td>\n",
       "      <td>1001</td>\n",
       "      <td>2022-01</td>\n",
       "      <td>90.243902</td>\n",
       "      <td>82.222222</td>\n",
       "      <td>92.493151</td>\n",
       "      <td>100.0</td>\n",
       "      <td>0.0</td>\n",
       "      <td>51.132686</td>\n",
       "      <td>0.0</td>\n",
       "      <td>40.497738</td>\n",
       "    </tr>\n",
       "    <tr>\n",
       "      <th>...</th>\n",
       "      <td>...</td>\n",
       "      <td>...</td>\n",
       "      <td>...</td>\n",
       "      <td>...</td>\n",
       "      <td>...</td>\n",
       "      <td>...</td>\n",
       "      <td>...</td>\n",
       "      <td>...</td>\n",
       "      <td>...</td>\n",
       "      <td>...</td>\n",
       "      <td>...</td>\n",
       "      <td>...</td>\n",
       "      <td>...</td>\n",
       "      <td>...</td>\n",
       "      <td>...</td>\n",
       "      <td>...</td>\n",
       "      <td>...</td>\n",
       "      <td>...</td>\n",
       "      <td>...</td>\n",
       "      <td>...</td>\n",
       "      <td>...</td>\n",
       "    </tr>\n",
       "    <tr>\n",
       "      <th>20480</th>\n",
       "      <td>2023-06-07</td>\n",
       "      <td>Region 1</td>\n",
       "      <td>Country 9</td>\n",
       "      <td>7</td>\n",
       "      <td>2</td>\n",
       "      <td>4</td>\n",
       "      <td>3</td>\n",
       "      <td>4</td>\n",
       "      <td>4</td>\n",
       "      <td>6</td>\n",
       "      <td>...</td>\n",
       "      <td>2</td>\n",
       "      <td>2023-06</td>\n",
       "      <td>50.000000</td>\n",
       "      <td>0.000000</td>\n",
       "      <td>100.000000</td>\n",
       "      <td>0.0</td>\n",
       "      <td>0.0</td>\n",
       "      <td>25.000000</td>\n",
       "      <td>0.0</td>\n",
       "      <td>0.000000</td>\n",
       "    </tr>\n",
       "    <tr>\n",
       "      <th>20481</th>\n",
       "      <td>2023-06-08</td>\n",
       "      <td>Region 1</td>\n",
       "      <td>Country 9</td>\n",
       "      <td>7</td>\n",
       "      <td>2</td>\n",
       "      <td>4</td>\n",
       "      <td>3</td>\n",
       "      <td>4</td>\n",
       "      <td>4</td>\n",
       "      <td>6</td>\n",
       "      <td>...</td>\n",
       "      <td>2</td>\n",
       "      <td>2023-06</td>\n",
       "      <td>50.000000</td>\n",
       "      <td>0.000000</td>\n",
       "      <td>100.000000</td>\n",
       "      <td>0.0</td>\n",
       "      <td>0.0</td>\n",
       "      <td>25.000000</td>\n",
       "      <td>25.0</td>\n",
       "      <td>0.000000</td>\n",
       "    </tr>\n",
       "    <tr>\n",
       "      <th>20482</th>\n",
       "      <td>2023-06-09</td>\n",
       "      <td>Region 1</td>\n",
       "      <td>Country 9</td>\n",
       "      <td>7</td>\n",
       "      <td>2</td>\n",
       "      <td>4</td>\n",
       "      <td>3</td>\n",
       "      <td>4</td>\n",
       "      <td>4</td>\n",
       "      <td>6</td>\n",
       "      <td>...</td>\n",
       "      <td>2</td>\n",
       "      <td>2023-06</td>\n",
       "      <td>50.000000</td>\n",
       "      <td>0.000000</td>\n",
       "      <td>100.000000</td>\n",
       "      <td>0.0</td>\n",
       "      <td>0.0</td>\n",
       "      <td>25.000000</td>\n",
       "      <td>0.0</td>\n",
       "      <td>0.000000</td>\n",
       "    </tr>\n",
       "    <tr>\n",
       "      <th>20483</th>\n",
       "      <td>2023-06-10</td>\n",
       "      <td>Region 1</td>\n",
       "      <td>Country 9</td>\n",
       "      <td>7</td>\n",
       "      <td>3</td>\n",
       "      <td>4</td>\n",
       "      <td>3</td>\n",
       "      <td>4</td>\n",
       "      <td>4</td>\n",
       "      <td>6</td>\n",
       "      <td>...</td>\n",
       "      <td>2</td>\n",
       "      <td>2023-06</td>\n",
       "      <td>75.000000</td>\n",
       "      <td>0.000000</td>\n",
       "      <td>100.000000</td>\n",
       "      <td>0.0</td>\n",
       "      <td>0.0</td>\n",
       "      <td>50.000000</td>\n",
       "      <td>0.0</td>\n",
       "      <td>100.000000</td>\n",
       "    </tr>\n",
       "    <tr>\n",
       "      <th>20484</th>\n",
       "      <td>2023-06-11</td>\n",
       "      <td>Region 1</td>\n",
       "      <td>Country 9</td>\n",
       "      <td>7</td>\n",
       "      <td>2</td>\n",
       "      <td>4</td>\n",
       "      <td>3</td>\n",
       "      <td>4</td>\n",
       "      <td>4</td>\n",
       "      <td>6</td>\n",
       "      <td>...</td>\n",
       "      <td>2</td>\n",
       "      <td>2023-06</td>\n",
       "      <td>50.000000</td>\n",
       "      <td>0.000000</td>\n",
       "      <td>100.000000</td>\n",
       "      <td>0.0</td>\n",
       "      <td>0.0</td>\n",
       "      <td>0.000000</td>\n",
       "      <td>0.0</td>\n",
       "      <td>0.000000</td>\n",
       "    </tr>\n",
       "  </tbody>\n",
       "</table>\n",
       "<p>20485 rows × 67 columns</p>\n",
       "</div>"
      ],
      "text/plain": [
       "      day_partition    region    country  locations  overall_daily_active  \\\n",
       "0        2022-01-01  Region 1  Country 1       3918                  1489   \n",
       "1        2022-01-03  Region 1  Country 1       3918                  1571   \n",
       "2        2022-01-04  Region 1  Country 1       3918                  1709   \n",
       "3        2022-01-05  Region 1  Country 1       3948                  1720   \n",
       "4        2022-01-06  Region 1  Country 1       3948                  1776   \n",
       "...             ...       ...        ...        ...                   ...   \n",
       "20480    2023-06-07  Region 1  Country 9          7                     2   \n",
       "20481    2023-06-08  Region 1  Country 9          7                     2   \n",
       "20482    2023-06-09  Region 1  Country 9          7                     2   \n",
       "20483    2023-06-10  Region 1  Country 9          7                     3   \n",
       "20484    2023-06-11  Region 1  Country 9          7                     2   \n",
       "\n",
       "       overall_daily_access  overall_weekly_active  overall_weekly_access  \\\n",
       "0                      3197                   1489                   3197   \n",
       "1                      3195                   1759                   3200   \n",
       "2                      3195                   1876                   3200   \n",
       "3                      3213                   1922                   3219   \n",
       "4                      3215                   1968                   3221   \n",
       "...                     ...                    ...                    ...   \n",
       "20480                     4                      3                      4   \n",
       "20481                     4                      3                      4   \n",
       "20482                     4                      3                      4   \n",
       "20483                     4                      3                      4   \n",
       "20484                     4                      3                      4   \n",
       "\n",
       "       overall_monthly_active  overall_monthly_access  ...  \\\n",
       "0                        1489                    3197  ...   \n",
       "1                        1759                    3200  ...   \n",
       "2                        1876                    3200  ...   \n",
       "3                        1922                    3219  ...   \n",
       "4                        1968                    3221  ...   \n",
       "...                       ...                     ...  ...   \n",
       "20480                       4                       6  ...   \n",
       "20481                       4                       6  ...   \n",
       "20482                       4                       6  ...   \n",
       "20483                       4                       6  ...   \n",
       "20484                       4                       6  ...   \n",
       "\n",
       "       super_insights_monthly_access  month_year_period  overall_dau_mau  \\\n",
       "0                                460            2022-01       100.000000   \n",
       "1                                763            2022-01        89.312109   \n",
       "2                                905            2022-01        91.098081   \n",
       "3                                982            2022-01        89.490114   \n",
       "4                               1001            2022-01        90.243902   \n",
       "...                              ...                ...              ...   \n",
       "20480                              2            2023-06        50.000000   \n",
       "20481                              2            2023-06        50.000000   \n",
       "20482                              2            2023-06        50.000000   \n",
       "20483                              2            2023-06        75.000000   \n",
       "20484                              2            2023-06        50.000000   \n",
       "\n",
       "       premium_dau_mau  core_dau_mau  promos_dau_mau  custom_websites_dau_mau  \\\n",
       "0           100.000000    100.000000             0.0                      0.0   \n",
       "1            71.794872     90.816935             0.0                      0.0   \n",
       "2            75.609756     91.210046            50.0                      0.0   \n",
       "3            83.333333     91.727222            50.0                      0.0   \n",
       "4            82.222222     92.493151           100.0                      0.0   \n",
       "...                ...           ...             ...                      ...   \n",
       "20480         0.000000    100.000000             0.0                      0.0   \n",
       "20481         0.000000    100.000000             0.0                      0.0   \n",
       "20482         0.000000    100.000000             0.0                      0.0   \n",
       "20483         0.000000    100.000000             0.0                      0.0   \n",
       "20484         0.000000    100.000000             0.0                      0.0   \n",
       "\n",
       "       basic_insights_dau_mau  adv_insights_dau_mau  super_insights_dau_mau  \n",
       "0                  100.000000                   0.0              100.000000  \n",
       "1                   65.780731                   0.0               58.346582  \n",
       "2                   78.253119                   0.0               60.384615  \n",
       "3                   51.919866                   0.0               55.490654  \n",
       "4                   51.132686                   0.0               40.497738  \n",
       "...                       ...                   ...                     ...  \n",
       "20480               25.000000                   0.0                0.000000  \n",
       "20481               25.000000                  25.0                0.000000  \n",
       "20482               25.000000                   0.0                0.000000  \n",
       "20483               50.000000                   0.0              100.000000  \n",
       "20484                0.000000                   0.0                0.000000  \n",
       "\n",
       "[20485 rows x 67 columns]"
      ]
     },
     "execution_count": 87,
     "metadata": {},
     "output_type": "execute_result"
    }
   ],
   "source": [
    "sticky_df"
   ]
  },
  {
   "cell_type": "code",
   "execution_count": 88,
   "id": "6582e8c9-83c3-4541-a2b7-3dad0914ae33",
   "metadata": {},
   "outputs": [
    {
     "data": {
      "text/plain": [
       "Index(['day_partition', 'region', 'country', 'locations',\n",
       "       'overall_daily_active', 'overall_daily_access', 'overall_weekly_active',\n",
       "       'overall_weekly_access', 'overall_monthly_active',\n",
       "       'overall_monthly_access', 'core_daily_active', 'core_daily_access',\n",
       "       'core_weekly_active', 'core_weekly_access', 'core_monthly_active',\n",
       "       'core_monthly_access', 'premium_daily_active', 'premium_daily_access',\n",
       "       'premium_weekly_active', 'premium_weekly_access',\n",
       "       'premium_monthly_active', 'premium_monthly_access',\n",
       "       'promos_daily_active', 'promos_daily_access', 'promos_weekly_active',\n",
       "       'promos_weekly_access', 'promos_monthly_active',\n",
       "       'promos_monthly_access', 'custom_websites_daily_active',\n",
       "       'custom_websites_daily_access', 'custom_websites_weekly_active',\n",
       "       'custom_websites_weekly_access', 'custom_websites_monthly_active',\n",
       "       'custom_websites_monthly_access',\n",
       "       'custom_websites_premium_daily_active',\n",
       "       'custom_websites_premium_daily_access',\n",
       "       'custom_websites_premium_weekly_active',\n",
       "       'custom_websites_premium_weekly_access',\n",
       "       'custom_websites_premium_monthly_active',\n",
       "       'custom_websites_premium_monthly_access', 'basic_insights_daily_active',\n",
       "       'basic_insights_daily_access', 'basic_insights_weekly_active',\n",
       "       'basic_insights_weekly_access', 'basic_insights_monthly_active',\n",
       "       'basic_insights_monthly_access', 'adv_insights_daily_active',\n",
       "       'adv_insights_daily_access', 'adv_insights_weekly_active',\n",
       "       'adv_insights_weekly_access', 'adv_insights_monthly_active',\n",
       "       'adv_insights_monthly_access', 'super_insights_daily_active',\n",
       "       'super_insights_daily_access', 'super_insights_weekly_active',\n",
       "       'super_insights_weekly_access', 'super_insights_monthly_active',\n",
       "       'super_insights_monthly_access', 'month_year_period', 'overall_dau_mau',\n",
       "       'premium_dau_mau', 'core_dau_mau', 'promos_dau_mau',\n",
       "       'custom_websites_dau_mau', 'basic_insights_dau_mau',\n",
       "       'adv_insights_dau_mau', 'super_insights_dau_mau'],\n",
       "      dtype='object')"
      ]
     },
     "execution_count": 88,
     "metadata": {},
     "output_type": "execute_result"
    }
   ],
   "source": [
    "sticky_df.columns"
   ]
  },
  {
   "cell_type": "code",
   "execution_count": 89,
   "id": "aa239f99-d99e-41f3-90ea-38bb5dab3aa4",
   "metadata": {},
   "outputs": [],
   "source": [
    "regional_dau_mau = sticky_df[['month_year_period','day_partition', 'region'] + [col for col in sticky_df.columns if 'dau_mau' in col]]\n",
    "\n",
    "# regional_dau_mau['day_partition'] = pd.to_datetime(regional_dau_mau['day_partition'])\n",
    "\n",
    "# # Extract month and year as a period\n",
    "# regional_dau_mau['month_year_period'] = regional_dau_mau['day_partition'].dt.to_period('M')\n"
   ]
  },
  {
   "cell_type": "code",
   "execution_count": 90,
   "id": "e5d90a19-f0a4-4a38-a721-3cc34c751efe",
   "metadata": {},
   "outputs": [],
   "source": [
    "regional_dau_mau = regional_dau_mau[['month_year_period','region','overall_dau_mau',\n",
    "       'premium_dau_mau', 'core_dau_mau', 'promos_dau_mau',\n",
    "       'custom_websites_dau_mau', 'basic_insights_dau_mau',\n",
    "       'adv_insights_dau_mau', 'super_insights_dau_mau']].copy()"
   ]
  },
  {
   "cell_type": "code",
   "execution_count": 91,
   "id": "5c1090e3-a880-48a6-bc3d-9cb70820d6ee",
   "metadata": {},
   "outputs": [
    {
     "data": {
      "text/html": [
       "<div>\n",
       "<style scoped>\n",
       "    .dataframe tbody tr th:only-of-type {\n",
       "        vertical-align: middle;\n",
       "    }\n",
       "\n",
       "    .dataframe tbody tr th {\n",
       "        vertical-align: top;\n",
       "    }\n",
       "\n",
       "    .dataframe thead th {\n",
       "        text-align: right;\n",
       "    }\n",
       "</style>\n",
       "<table border=\"1\" class=\"dataframe\">\n",
       "  <thead>\n",
       "    <tr style=\"text-align: right;\">\n",
       "      <th></th>\n",
       "      <th>month_year_period</th>\n",
       "      <th>region</th>\n",
       "      <th>overall_dau_mau</th>\n",
       "      <th>premium_dau_mau</th>\n",
       "      <th>core_dau_mau</th>\n",
       "      <th>promos_dau_mau</th>\n",
       "      <th>custom_websites_dau_mau</th>\n",
       "      <th>basic_insights_dau_mau</th>\n",
       "      <th>adv_insights_dau_mau</th>\n",
       "      <th>super_insights_dau_mau</th>\n",
       "    </tr>\n",
       "  </thead>\n",
       "  <tbody>\n",
       "    <tr>\n",
       "      <th>0</th>\n",
       "      <td>2022-01</td>\n",
       "      <td>Region 1</td>\n",
       "      <td>100.000000</td>\n",
       "      <td>100.000000</td>\n",
       "      <td>100.000000</td>\n",
       "      <td>0.0</td>\n",
       "      <td>0.0</td>\n",
       "      <td>100.000000</td>\n",
       "      <td>0.0</td>\n",
       "      <td>100.000000</td>\n",
       "    </tr>\n",
       "    <tr>\n",
       "      <th>1</th>\n",
       "      <td>2022-01</td>\n",
       "      <td>Region 1</td>\n",
       "      <td>89.312109</td>\n",
       "      <td>71.794872</td>\n",
       "      <td>90.816935</td>\n",
       "      <td>0.0</td>\n",
       "      <td>0.0</td>\n",
       "      <td>65.780731</td>\n",
       "      <td>0.0</td>\n",
       "      <td>58.346582</td>\n",
       "    </tr>\n",
       "    <tr>\n",
       "      <th>2</th>\n",
       "      <td>2022-01</td>\n",
       "      <td>Region 1</td>\n",
       "      <td>91.098081</td>\n",
       "      <td>75.609756</td>\n",
       "      <td>91.210046</td>\n",
       "      <td>50.0</td>\n",
       "      <td>0.0</td>\n",
       "      <td>78.253119</td>\n",
       "      <td>0.0</td>\n",
       "      <td>60.384615</td>\n",
       "    </tr>\n",
       "    <tr>\n",
       "      <th>3</th>\n",
       "      <td>2022-01</td>\n",
       "      <td>Region 1</td>\n",
       "      <td>89.490114</td>\n",
       "      <td>83.333333</td>\n",
       "      <td>91.727222</td>\n",
       "      <td>50.0</td>\n",
       "      <td>0.0</td>\n",
       "      <td>51.919866</td>\n",
       "      <td>0.0</td>\n",
       "      <td>55.490654</td>\n",
       "    </tr>\n",
       "    <tr>\n",
       "      <th>4</th>\n",
       "      <td>2022-01</td>\n",
       "      <td>Region 1</td>\n",
       "      <td>90.243902</td>\n",
       "      <td>82.222222</td>\n",
       "      <td>92.493151</td>\n",
       "      <td>100.0</td>\n",
       "      <td>0.0</td>\n",
       "      <td>51.132686</td>\n",
       "      <td>0.0</td>\n",
       "      <td>40.497738</td>\n",
       "    </tr>\n",
       "    <tr>\n",
       "      <th>...</th>\n",
       "      <td>...</td>\n",
       "      <td>...</td>\n",
       "      <td>...</td>\n",
       "      <td>...</td>\n",
       "      <td>...</td>\n",
       "      <td>...</td>\n",
       "      <td>...</td>\n",
       "      <td>...</td>\n",
       "      <td>...</td>\n",
       "      <td>...</td>\n",
       "    </tr>\n",
       "    <tr>\n",
       "      <th>20480</th>\n",
       "      <td>2023-06</td>\n",
       "      <td>Region 1</td>\n",
       "      <td>50.000000</td>\n",
       "      <td>0.000000</td>\n",
       "      <td>100.000000</td>\n",
       "      <td>0.0</td>\n",
       "      <td>0.0</td>\n",
       "      <td>25.000000</td>\n",
       "      <td>0.0</td>\n",
       "      <td>0.000000</td>\n",
       "    </tr>\n",
       "    <tr>\n",
       "      <th>20481</th>\n",
       "      <td>2023-06</td>\n",
       "      <td>Region 1</td>\n",
       "      <td>50.000000</td>\n",
       "      <td>0.000000</td>\n",
       "      <td>100.000000</td>\n",
       "      <td>0.0</td>\n",
       "      <td>0.0</td>\n",
       "      <td>25.000000</td>\n",
       "      <td>25.0</td>\n",
       "      <td>0.000000</td>\n",
       "    </tr>\n",
       "    <tr>\n",
       "      <th>20482</th>\n",
       "      <td>2023-06</td>\n",
       "      <td>Region 1</td>\n",
       "      <td>50.000000</td>\n",
       "      <td>0.000000</td>\n",
       "      <td>100.000000</td>\n",
       "      <td>0.0</td>\n",
       "      <td>0.0</td>\n",
       "      <td>25.000000</td>\n",
       "      <td>0.0</td>\n",
       "      <td>0.000000</td>\n",
       "    </tr>\n",
       "    <tr>\n",
       "      <th>20483</th>\n",
       "      <td>2023-06</td>\n",
       "      <td>Region 1</td>\n",
       "      <td>75.000000</td>\n",
       "      <td>0.000000</td>\n",
       "      <td>100.000000</td>\n",
       "      <td>0.0</td>\n",
       "      <td>0.0</td>\n",
       "      <td>50.000000</td>\n",
       "      <td>0.0</td>\n",
       "      <td>100.000000</td>\n",
       "    </tr>\n",
       "    <tr>\n",
       "      <th>20484</th>\n",
       "      <td>2023-06</td>\n",
       "      <td>Region 1</td>\n",
       "      <td>50.000000</td>\n",
       "      <td>0.000000</td>\n",
       "      <td>100.000000</td>\n",
       "      <td>0.0</td>\n",
       "      <td>0.0</td>\n",
       "      <td>0.000000</td>\n",
       "      <td>0.0</td>\n",
       "      <td>0.000000</td>\n",
       "    </tr>\n",
       "  </tbody>\n",
       "</table>\n",
       "<p>20485 rows × 10 columns</p>\n",
       "</div>"
      ],
      "text/plain": [
       "      month_year_period    region  overall_dau_mau  premium_dau_mau  \\\n",
       "0               2022-01  Region 1       100.000000       100.000000   \n",
       "1               2022-01  Region 1        89.312109        71.794872   \n",
       "2               2022-01  Region 1        91.098081        75.609756   \n",
       "3               2022-01  Region 1        89.490114        83.333333   \n",
       "4               2022-01  Region 1        90.243902        82.222222   \n",
       "...                 ...       ...              ...              ...   \n",
       "20480           2023-06  Region 1        50.000000         0.000000   \n",
       "20481           2023-06  Region 1        50.000000         0.000000   \n",
       "20482           2023-06  Region 1        50.000000         0.000000   \n",
       "20483           2023-06  Region 1        75.000000         0.000000   \n",
       "20484           2023-06  Region 1        50.000000         0.000000   \n",
       "\n",
       "       core_dau_mau  promos_dau_mau  custom_websites_dau_mau  \\\n",
       "0        100.000000             0.0                      0.0   \n",
       "1         90.816935             0.0                      0.0   \n",
       "2         91.210046            50.0                      0.0   \n",
       "3         91.727222            50.0                      0.0   \n",
       "4         92.493151           100.0                      0.0   \n",
       "...             ...             ...                      ...   \n",
       "20480    100.000000             0.0                      0.0   \n",
       "20481    100.000000             0.0                      0.0   \n",
       "20482    100.000000             0.0                      0.0   \n",
       "20483    100.000000             0.0                      0.0   \n",
       "20484    100.000000             0.0                      0.0   \n",
       "\n",
       "       basic_insights_dau_mau  adv_insights_dau_mau  super_insights_dau_mau  \n",
       "0                  100.000000                   0.0              100.000000  \n",
       "1                   65.780731                   0.0               58.346582  \n",
       "2                   78.253119                   0.0               60.384615  \n",
       "3                   51.919866                   0.0               55.490654  \n",
       "4                   51.132686                   0.0               40.497738  \n",
       "...                       ...                   ...                     ...  \n",
       "20480               25.000000                   0.0                0.000000  \n",
       "20481               25.000000                  25.0                0.000000  \n",
       "20482               25.000000                   0.0                0.000000  \n",
       "20483               50.000000                   0.0              100.000000  \n",
       "20484                0.000000                   0.0                0.000000  \n",
       "\n",
       "[20485 rows x 10 columns]"
      ]
     },
     "execution_count": 91,
     "metadata": {},
     "output_type": "execute_result"
    }
   ],
   "source": [
    "regional_dau_mau"
   ]
  },
  {
   "cell_type": "code",
   "execution_count": 92,
   "id": "6563181e-a4e1-4dd9-a32f-ee6ce561d28b",
   "metadata": {},
   "outputs": [],
   "source": [
    "regional_dau_mau_final = regional_dau_mau.groupby(['month_year_period','region']).agg('mean').reset_index()"
   ]
  },
  {
   "cell_type": "code",
   "execution_count": 93,
   "id": "78ae098b-ad8d-479f-8449-7d4759390f98",
   "metadata": {},
   "outputs": [
    {
     "data": {
      "text/html": [
       "<div>\n",
       "<style scoped>\n",
       "    .dataframe tbody tr th:only-of-type {\n",
       "        vertical-align: middle;\n",
       "    }\n",
       "\n",
       "    .dataframe tbody tr th {\n",
       "        vertical-align: top;\n",
       "    }\n",
       "\n",
       "    .dataframe thead th {\n",
       "        text-align: right;\n",
       "    }\n",
       "</style>\n",
       "<table border=\"1\" class=\"dataframe\">\n",
       "  <thead>\n",
       "    <tr style=\"text-align: right;\">\n",
       "      <th></th>\n",
       "      <th>month_year_period</th>\n",
       "      <th>region</th>\n",
       "      <th>overall_dau_mau</th>\n",
       "      <th>premium_dau_mau</th>\n",
       "      <th>core_dau_mau</th>\n",
       "      <th>promos_dau_mau</th>\n",
       "      <th>custom_websites_dau_mau</th>\n",
       "      <th>basic_insights_dau_mau</th>\n",
       "      <th>adv_insights_dau_mau</th>\n",
       "      <th>super_insights_dau_mau</th>\n",
       "    </tr>\n",
       "  </thead>\n",
       "  <tbody>\n",
       "    <tr>\n",
       "      <th>0</th>\n",
       "      <td>2022-01</td>\n",
       "      <td>Region 1</td>\n",
       "      <td>71.571139</td>\n",
       "      <td>17.415826</td>\n",
       "      <td>73.396532</td>\n",
       "      <td>2.777778</td>\n",
       "      <td>5.662393</td>\n",
       "      <td>32.765643</td>\n",
       "      <td>0.000000</td>\n",
       "      <td>31.769584</td>\n",
       "    </tr>\n",
       "    <tr>\n",
       "      <th>1</th>\n",
       "      <td>2022-01</td>\n",
       "      <td>Region 2</td>\n",
       "      <td>68.309500</td>\n",
       "      <td>33.448507</td>\n",
       "      <td>70.678487</td>\n",
       "      <td>0.000000</td>\n",
       "      <td>0.476190</td>\n",
       "      <td>33.827587</td>\n",
       "      <td>0.000000</td>\n",
       "      <td>28.449041</td>\n",
       "    </tr>\n",
       "    <tr>\n",
       "      <th>2</th>\n",
       "      <td>2022-01</td>\n",
       "      <td>Region 3</td>\n",
       "      <td>81.223644</td>\n",
       "      <td>34.311619</td>\n",
       "      <td>84.620815</td>\n",
       "      <td>0.000000</td>\n",
       "      <td>0.000000</td>\n",
       "      <td>30.546265</td>\n",
       "      <td>0.000000</td>\n",
       "      <td>18.580713</td>\n",
       "    </tr>\n",
       "    <tr>\n",
       "      <th>3</th>\n",
       "      <td>2022-02</td>\n",
       "      <td>Region 1</td>\n",
       "      <td>65.229390</td>\n",
       "      <td>20.006922</td>\n",
       "      <td>67.389355</td>\n",
       "      <td>5.978218</td>\n",
       "      <td>9.038462</td>\n",
       "      <td>24.335975</td>\n",
       "      <td>0.000000</td>\n",
       "      <td>21.971433</td>\n",
       "    </tr>\n",
       "    <tr>\n",
       "      <th>4</th>\n",
       "      <td>2022-02</td>\n",
       "      <td>Region 2</td>\n",
       "      <td>65.232785</td>\n",
       "      <td>37.249704</td>\n",
       "      <td>70.365178</td>\n",
       "      <td>0.000000</td>\n",
       "      <td>0.510204</td>\n",
       "      <td>23.289557</td>\n",
       "      <td>0.000000</td>\n",
       "      <td>29.279268</td>\n",
       "    </tr>\n",
       "    <tr>\n",
       "      <th>5</th>\n",
       "      <td>2022-02</td>\n",
       "      <td>Region 3</td>\n",
       "      <td>68.496551</td>\n",
       "      <td>26.081454</td>\n",
       "      <td>76.267067</td>\n",
       "      <td>0.000000</td>\n",
       "      <td>0.000000</td>\n",
       "      <td>17.560764</td>\n",
       "      <td>0.000000</td>\n",
       "      <td>9.443616</td>\n",
       "    </tr>\n",
       "    <tr>\n",
       "      <th>6</th>\n",
       "      <td>2022-03</td>\n",
       "      <td>Region 1</td>\n",
       "      <td>68.216477</td>\n",
       "      <td>26.860263</td>\n",
       "      <td>71.136939</td>\n",
       "      <td>6.173144</td>\n",
       "      <td>10.398795</td>\n",
       "      <td>23.158376</td>\n",
       "      <td>2.233251</td>\n",
       "      <td>20.588447</td>\n",
       "    </tr>\n",
       "    <tr>\n",
       "      <th>7</th>\n",
       "      <td>2022-03</td>\n",
       "      <td>Region 2</td>\n",
       "      <td>63.329132</td>\n",
       "      <td>37.985820</td>\n",
       "      <td>70.978512</td>\n",
       "      <td>0.000000</td>\n",
       "      <td>2.073733</td>\n",
       "      <td>20.431990</td>\n",
       "      <td>2.304147</td>\n",
       "      <td>23.494225</td>\n",
       "    </tr>\n",
       "    <tr>\n",
       "      <th>8</th>\n",
       "      <td>2022-03</td>\n",
       "      <td>Region 3</td>\n",
       "      <td>67.008982</td>\n",
       "      <td>20.823242</td>\n",
       "      <td>75.607397</td>\n",
       "      <td>0.000000</td>\n",
       "      <td>0.268817</td>\n",
       "      <td>13.913297</td>\n",
       "      <td>0.000000</td>\n",
       "      <td>9.732142</td>\n",
       "    </tr>\n",
       "    <tr>\n",
       "      <th>9</th>\n",
       "      <td>2022-04</td>\n",
       "      <td>Region 1</td>\n",
       "      <td>65.594734</td>\n",
       "      <td>23.411178</td>\n",
       "      <td>67.388237</td>\n",
       "      <td>5.192288</td>\n",
       "      <td>6.999796</td>\n",
       "      <td>24.036613</td>\n",
       "      <td>6.281507</td>\n",
       "      <td>21.061672</td>\n",
       "    </tr>\n",
       "    <tr>\n",
       "      <th>10</th>\n",
       "      <td>2022-04</td>\n",
       "      <td>Region 2</td>\n",
       "      <td>61.658361</td>\n",
       "      <td>35.231229</td>\n",
       "      <td>63.360575</td>\n",
       "      <td>0.000000</td>\n",
       "      <td>0.238095</td>\n",
       "      <td>26.907439</td>\n",
       "      <td>3.717002</td>\n",
       "      <td>24.640304</td>\n",
       "    </tr>\n",
       "    <tr>\n",
       "      <th>11</th>\n",
       "      <td>2022-04</td>\n",
       "      <td>Region 3</td>\n",
       "      <td>67.949105</td>\n",
       "      <td>26.310168</td>\n",
       "      <td>70.297493</td>\n",
       "      <td>0.000000</td>\n",
       "      <td>0.000000</td>\n",
       "      <td>13.042839</td>\n",
       "      <td>0.277778</td>\n",
       "      <td>9.710284</td>\n",
       "    </tr>\n",
       "    <tr>\n",
       "      <th>12</th>\n",
       "      <td>2022-05</td>\n",
       "      <td>Region 1</td>\n",
       "      <td>70.117878</td>\n",
       "      <td>24.492406</td>\n",
       "      <td>71.313671</td>\n",
       "      <td>5.220107</td>\n",
       "      <td>5.897158</td>\n",
       "      <td>29.192345</td>\n",
       "      <td>12.545856</td>\n",
       "      <td>22.819322</td>\n",
       "    </tr>\n",
       "    <tr>\n",
       "      <th>13</th>\n",
       "      <td>2022-05</td>\n",
       "      <td>Region 2</td>\n",
       "      <td>61.461732</td>\n",
       "      <td>31.929374</td>\n",
       "      <td>63.758521</td>\n",
       "      <td>0.000000</td>\n",
       "      <td>1.036866</td>\n",
       "      <td>30.563621</td>\n",
       "      <td>7.439945</td>\n",
       "      <td>23.576343</td>\n",
       "    </tr>\n",
       "    <tr>\n",
       "      <th>14</th>\n",
       "      <td>2022-05</td>\n",
       "      <td>Region 3</td>\n",
       "      <td>66.940017</td>\n",
       "      <td>29.670657</td>\n",
       "      <td>68.590537</td>\n",
       "      <td>0.000000</td>\n",
       "      <td>0.000000</td>\n",
       "      <td>19.269767</td>\n",
       "      <td>1.330645</td>\n",
       "      <td>11.112390</td>\n",
       "    </tr>\n",
       "    <tr>\n",
       "      <th>15</th>\n",
       "      <td>2022-06</td>\n",
       "      <td>Region 1</td>\n",
       "      <td>69.623730</td>\n",
       "      <td>29.042526</td>\n",
       "      <td>71.912018</td>\n",
       "      <td>5.316592</td>\n",
       "      <td>7.489536</td>\n",
       "      <td>30.922871</td>\n",
       "      <td>7.623926</td>\n",
       "      <td>31.178853</td>\n",
       "    </tr>\n",
       "    <tr>\n",
       "      <th>16</th>\n",
       "      <td>2022-06</td>\n",
       "      <td>Region 2</td>\n",
       "      <td>63.777142</td>\n",
       "      <td>34.824303</td>\n",
       "      <td>68.340111</td>\n",
       "      <td>0.000000</td>\n",
       "      <td>0.357143</td>\n",
       "      <td>27.566732</td>\n",
       "      <td>7.847566</td>\n",
       "      <td>31.125319</td>\n",
       "    </tr>\n",
       "    <tr>\n",
       "      <th>17</th>\n",
       "      <td>2022-06</td>\n",
       "      <td>Region 3</td>\n",
       "      <td>61.967457</td>\n",
       "      <td>29.170508</td>\n",
       "      <td>66.537736</td>\n",
       "      <td>0.000000</td>\n",
       "      <td>0.277778</td>\n",
       "      <td>21.300202</td>\n",
       "      <td>0.277778</td>\n",
       "      <td>19.891240</td>\n",
       "    </tr>\n",
       "    <tr>\n",
       "      <th>18</th>\n",
       "      <td>2022-07</td>\n",
       "      <td>Region 1</td>\n",
       "      <td>66.328245</td>\n",
       "      <td>31.145595</td>\n",
       "      <td>71.289632</td>\n",
       "      <td>5.207543</td>\n",
       "      <td>7.561753</td>\n",
       "      <td>25.076704</td>\n",
       "      <td>9.148663</td>\n",
       "      <td>21.129446</td>\n",
       "    </tr>\n",
       "    <tr>\n",
       "      <th>19</th>\n",
       "      <td>2022-07</td>\n",
       "      <td>Region 2</td>\n",
       "      <td>62.167020</td>\n",
       "      <td>35.217700</td>\n",
       "      <td>67.803181</td>\n",
       "      <td>0.000000</td>\n",
       "      <td>0.806317</td>\n",
       "      <td>26.633616</td>\n",
       "      <td>6.135009</td>\n",
       "      <td>23.085439</td>\n",
       "    </tr>\n",
       "    <tr>\n",
       "      <th>20</th>\n",
       "      <td>2022-07</td>\n",
       "      <td>Region 3</td>\n",
       "      <td>55.979241</td>\n",
       "      <td>31.450032</td>\n",
       "      <td>65.009639</td>\n",
       "      <td>0.000000</td>\n",
       "      <td>0.000000</td>\n",
       "      <td>16.136701</td>\n",
       "      <td>2.150538</td>\n",
       "      <td>10.176334</td>\n",
       "    </tr>\n",
       "    <tr>\n",
       "      <th>21</th>\n",
       "      <td>2022-08</td>\n",
       "      <td>Region 1</td>\n",
       "      <td>64.877185</td>\n",
       "      <td>26.170593</td>\n",
       "      <td>68.364425</td>\n",
       "      <td>5.728438</td>\n",
       "      <td>7.153355</td>\n",
       "      <td>23.748891</td>\n",
       "      <td>6.998837</td>\n",
       "      <td>16.238819</td>\n",
       "    </tr>\n",
       "    <tr>\n",
       "      <th>22</th>\n",
       "      <td>2022-08</td>\n",
       "      <td>Region 2</td>\n",
       "      <td>57.161055</td>\n",
       "      <td>35.031144</td>\n",
       "      <td>62.133888</td>\n",
       "      <td>0.000000</td>\n",
       "      <td>5.683350</td>\n",
       "      <td>25.920795</td>\n",
       "      <td>5.814659</td>\n",
       "      <td>19.793879</td>\n",
       "    </tr>\n",
       "    <tr>\n",
       "      <th>23</th>\n",
       "      <td>2022-08</td>\n",
       "      <td>Region 3</td>\n",
       "      <td>48.672314</td>\n",
       "      <td>36.679608</td>\n",
       "      <td>59.708747</td>\n",
       "      <td>0.000000</td>\n",
       "      <td>0.000000</td>\n",
       "      <td>14.282629</td>\n",
       "      <td>0.268817</td>\n",
       "      <td>11.479342</td>\n",
       "    </tr>\n",
       "    <tr>\n",
       "      <th>24</th>\n",
       "      <td>2022-09</td>\n",
       "      <td>Region 1</td>\n",
       "      <td>59.692824</td>\n",
       "      <td>25.603795</td>\n",
       "      <td>62.419575</td>\n",
       "      <td>5.844788</td>\n",
       "      <td>11.485829</td>\n",
       "      <td>30.924475</td>\n",
       "      <td>7.503434</td>\n",
       "      <td>17.030822</td>\n",
       "    </tr>\n",
       "    <tr>\n",
       "      <th>25</th>\n",
       "      <td>2022-09</td>\n",
       "      <td>Region 2</td>\n",
       "      <td>56.290632</td>\n",
       "      <td>36.402719</td>\n",
       "      <td>61.847072</td>\n",
       "      <td>5.891083</td>\n",
       "      <td>3.979148</td>\n",
       "      <td>25.716808</td>\n",
       "      <td>6.201057</td>\n",
       "      <td>18.418986</td>\n",
       "    </tr>\n",
       "    <tr>\n",
       "      <th>26</th>\n",
       "      <td>2022-09</td>\n",
       "      <td>Region 3</td>\n",
       "      <td>52.005164</td>\n",
       "      <td>31.868375</td>\n",
       "      <td>59.510682</td>\n",
       "      <td>0.000000</td>\n",
       "      <td>0.555556</td>\n",
       "      <td>21.404183</td>\n",
       "      <td>2.222222</td>\n",
       "      <td>12.377080</td>\n",
       "    </tr>\n",
       "    <tr>\n",
       "      <th>27</th>\n",
       "      <td>2022-10</td>\n",
       "      <td>Region 1</td>\n",
       "      <td>59.540557</td>\n",
       "      <td>23.491431</td>\n",
       "      <td>66.102753</td>\n",
       "      <td>5.670330</td>\n",
       "      <td>16.763075</td>\n",
       "      <td>20.275261</td>\n",
       "      <td>7.470636</td>\n",
       "      <td>21.633199</td>\n",
       "    </tr>\n",
       "    <tr>\n",
       "      <th>28</th>\n",
       "      <td>2022-10</td>\n",
       "      <td>Region 2</td>\n",
       "      <td>58.117767</td>\n",
       "      <td>41.891228</td>\n",
       "      <td>64.977180</td>\n",
       "      <td>9.536191</td>\n",
       "      <td>7.326886</td>\n",
       "      <td>23.952274</td>\n",
       "      <td>12.579566</td>\n",
       "      <td>27.065987</td>\n",
       "    </tr>\n",
       "    <tr>\n",
       "      <th>29</th>\n",
       "      <td>2022-10</td>\n",
       "      <td>Region 3</td>\n",
       "      <td>61.418895</td>\n",
       "      <td>36.244329</td>\n",
       "      <td>66.336053</td>\n",
       "      <td>0.000000</td>\n",
       "      <td>4.121864</td>\n",
       "      <td>13.970465</td>\n",
       "      <td>1.858568</td>\n",
       "      <td>15.083619</td>\n",
       "    </tr>\n",
       "    <tr>\n",
       "      <th>30</th>\n",
       "      <td>2022-11</td>\n",
       "      <td>Region 1</td>\n",
       "      <td>61.206087</td>\n",
       "      <td>26.404520</td>\n",
       "      <td>66.922846</td>\n",
       "      <td>5.570400</td>\n",
       "      <td>10.466551</td>\n",
       "      <td>22.929230</td>\n",
       "      <td>6.815906</td>\n",
       "      <td>17.237165</td>\n",
       "    </tr>\n",
       "    <tr>\n",
       "      <th>31</th>\n",
       "      <td>2022-11</td>\n",
       "      <td>Region 2</td>\n",
       "      <td>57.477773</td>\n",
       "      <td>47.228516</td>\n",
       "      <td>64.050758</td>\n",
       "      <td>10.158386</td>\n",
       "      <td>6.903733</td>\n",
       "      <td>24.714882</td>\n",
       "      <td>16.695414</td>\n",
       "      <td>27.971130</td>\n",
       "    </tr>\n",
       "    <tr>\n",
       "      <th>32</th>\n",
       "      <td>2022-11</td>\n",
       "      <td>Region 3</td>\n",
       "      <td>56.032919</td>\n",
       "      <td>38.869152</td>\n",
       "      <td>60.973871</td>\n",
       "      <td>0.000000</td>\n",
       "      <td>6.711310</td>\n",
       "      <td>11.949426</td>\n",
       "      <td>1.111419</td>\n",
       "      <td>13.033702</td>\n",
       "    </tr>\n",
       "    <tr>\n",
       "      <th>33</th>\n",
       "      <td>2022-12</td>\n",
       "      <td>Region 1</td>\n",
       "      <td>58.734115</td>\n",
       "      <td>24.790327</td>\n",
       "      <td>63.364578</td>\n",
       "      <td>5.518732</td>\n",
       "      <td>18.601919</td>\n",
       "      <td>24.771514</td>\n",
       "      <td>5.895212</td>\n",
       "      <td>15.413912</td>\n",
       "    </tr>\n",
       "    <tr>\n",
       "      <th>34</th>\n",
       "      <td>2022-12</td>\n",
       "      <td>Region 2</td>\n",
       "      <td>56.099790</td>\n",
       "      <td>52.120956</td>\n",
       "      <td>60.992389</td>\n",
       "      <td>9.451133</td>\n",
       "      <td>6.942671</td>\n",
       "      <td>25.498972</td>\n",
       "      <td>9.584455</td>\n",
       "      <td>27.999639</td>\n",
       "    </tr>\n",
       "    <tr>\n",
       "      <th>35</th>\n",
       "      <td>2022-12</td>\n",
       "      <td>Region 3</td>\n",
       "      <td>59.048022</td>\n",
       "      <td>40.088114</td>\n",
       "      <td>64.149205</td>\n",
       "      <td>0.000000</td>\n",
       "      <td>2.473758</td>\n",
       "      <td>10.256820</td>\n",
       "      <td>0.325190</td>\n",
       "      <td>9.928119</td>\n",
       "    </tr>\n",
       "    <tr>\n",
       "      <th>36</th>\n",
       "      <td>2023-01</td>\n",
       "      <td>Region 1</td>\n",
       "      <td>50.082201</td>\n",
       "      <td>29.439046</td>\n",
       "      <td>57.640561</td>\n",
       "      <td>9.200103</td>\n",
       "      <td>13.600446</td>\n",
       "      <td>16.592106</td>\n",
       "      <td>6.848730</td>\n",
       "      <td>5.864046</td>\n",
       "    </tr>\n",
       "    <tr>\n",
       "      <th>37</th>\n",
       "      <td>2023-01</td>\n",
       "      <td>Region 2</td>\n",
       "      <td>57.056101</td>\n",
       "      <td>49.737604</td>\n",
       "      <td>66.903263</td>\n",
       "      <td>10.570087</td>\n",
       "      <td>6.424722</td>\n",
       "      <td>32.323506</td>\n",
       "      <td>13.597527</td>\n",
       "      <td>21.399358</td>\n",
       "    </tr>\n",
       "    <tr>\n",
       "      <th>38</th>\n",
       "      <td>2023-01</td>\n",
       "      <td>Region 3</td>\n",
       "      <td>60.834042</td>\n",
       "      <td>47.025455</td>\n",
       "      <td>69.518215</td>\n",
       "      <td>0.000000</td>\n",
       "      <td>3.989695</td>\n",
       "      <td>12.045575</td>\n",
       "      <td>1.732378</td>\n",
       "      <td>8.708693</td>\n",
       "    </tr>\n",
       "    <tr>\n",
       "      <th>39</th>\n",
       "      <td>2023-02</td>\n",
       "      <td>Region 1</td>\n",
       "      <td>58.738395</td>\n",
       "      <td>29.262845</td>\n",
       "      <td>65.465525</td>\n",
       "      <td>10.734452</td>\n",
       "      <td>13.159928</td>\n",
       "      <td>20.852896</td>\n",
       "      <td>6.817166</td>\n",
       "      <td>12.529526</td>\n",
       "    </tr>\n",
       "    <tr>\n",
       "      <th>40</th>\n",
       "      <td>2023-02</td>\n",
       "      <td>Region 2</td>\n",
       "      <td>63.497399</td>\n",
       "      <td>54.444445</td>\n",
       "      <td>71.701556</td>\n",
       "      <td>15.646745</td>\n",
       "      <td>9.251655</td>\n",
       "      <td>27.940467</td>\n",
       "      <td>12.582177</td>\n",
       "      <td>24.079186</td>\n",
       "    </tr>\n",
       "    <tr>\n",
       "      <th>41</th>\n",
       "      <td>2023-02</td>\n",
       "      <td>Region 3</td>\n",
       "      <td>67.645160</td>\n",
       "      <td>50.989696</td>\n",
       "      <td>73.711142</td>\n",
       "      <td>0.000000</td>\n",
       "      <td>4.792430</td>\n",
       "      <td>18.182165</td>\n",
       "      <td>4.491212</td>\n",
       "      <td>15.022546</td>\n",
       "    </tr>\n",
       "    <tr>\n",
       "      <th>42</th>\n",
       "      <td>2023-03</td>\n",
       "      <td>Region 1</td>\n",
       "      <td>52.382871</td>\n",
       "      <td>28.174113</td>\n",
       "      <td>53.830916</td>\n",
       "      <td>10.273571</td>\n",
       "      <td>15.541925</td>\n",
       "      <td>27.981824</td>\n",
       "      <td>6.462687</td>\n",
       "      <td>15.650102</td>\n",
       "    </tr>\n",
       "    <tr>\n",
       "      <th>43</th>\n",
       "      <td>2023-03</td>\n",
       "      <td>Region 2</td>\n",
       "      <td>59.255009</td>\n",
       "      <td>54.195788</td>\n",
       "      <td>65.083581</td>\n",
       "      <td>18.667559</td>\n",
       "      <td>11.362647</td>\n",
       "      <td>26.041251</td>\n",
       "      <td>7.281577</td>\n",
       "      <td>25.491113</td>\n",
       "    </tr>\n",
       "    <tr>\n",
       "      <th>44</th>\n",
       "      <td>2023-03</td>\n",
       "      <td>Region 3</td>\n",
       "      <td>54.355132</td>\n",
       "      <td>51.742348</td>\n",
       "      <td>59.158022</td>\n",
       "      <td>0.000000</td>\n",
       "      <td>4.242474</td>\n",
       "      <td>17.423444</td>\n",
       "      <td>9.042486</td>\n",
       "      <td>12.182519</td>\n",
       "    </tr>\n",
       "    <tr>\n",
       "      <th>45</th>\n",
       "      <td>2023-04</td>\n",
       "      <td>Region 1</td>\n",
       "      <td>51.631654</td>\n",
       "      <td>27.186272</td>\n",
       "      <td>55.876990</td>\n",
       "      <td>10.453703</td>\n",
       "      <td>13.808350</td>\n",
       "      <td>27.644249</td>\n",
       "      <td>5.376263</td>\n",
       "      <td>10.178715</td>\n",
       "    </tr>\n",
       "    <tr>\n",
       "      <th>46</th>\n",
       "      <td>2023-04</td>\n",
       "      <td>Region 2</td>\n",
       "      <td>63.105526</td>\n",
       "      <td>51.466037</td>\n",
       "      <td>69.060135</td>\n",
       "      <td>19.419658</td>\n",
       "      <td>10.861543</td>\n",
       "      <td>23.764500</td>\n",
       "      <td>4.796728</td>\n",
       "      <td>19.861096</td>\n",
       "    </tr>\n",
       "    <tr>\n",
       "      <th>47</th>\n",
       "      <td>2023-04</td>\n",
       "      <td>Region 3</td>\n",
       "      <td>60.837663</td>\n",
       "      <td>51.062118</td>\n",
       "      <td>66.067785</td>\n",
       "      <td>0.000000</td>\n",
       "      <td>2.968111</td>\n",
       "      <td>19.081318</td>\n",
       "      <td>8.204564</td>\n",
       "      <td>10.271219</td>\n",
       "    </tr>\n",
       "    <tr>\n",
       "      <th>48</th>\n",
       "      <td>2023-05</td>\n",
       "      <td>Region 1</td>\n",
       "      <td>55.738411</td>\n",
       "      <td>28.376058</td>\n",
       "      <td>59.115861</td>\n",
       "      <td>9.107324</td>\n",
       "      <td>11.128443</td>\n",
       "      <td>28.049650</td>\n",
       "      <td>7.791987</td>\n",
       "      <td>10.673690</td>\n",
       "    </tr>\n",
       "    <tr>\n",
       "      <th>49</th>\n",
       "      <td>2023-05</td>\n",
       "      <td>Region 2</td>\n",
       "      <td>64.171633</td>\n",
       "      <td>52.896743</td>\n",
       "      <td>68.078842</td>\n",
       "      <td>18.148756</td>\n",
       "      <td>11.044370</td>\n",
       "      <td>27.055847</td>\n",
       "      <td>11.129468</td>\n",
       "      <td>19.248391</td>\n",
       "    </tr>\n",
       "    <tr>\n",
       "      <th>50</th>\n",
       "      <td>2023-05</td>\n",
       "      <td>Region 3</td>\n",
       "      <td>67.155601</td>\n",
       "      <td>51.215689</td>\n",
       "      <td>73.685766</td>\n",
       "      <td>0.000000</td>\n",
       "      <td>5.187766</td>\n",
       "      <td>18.034305</td>\n",
       "      <td>10.981779</td>\n",
       "      <td>13.239917</td>\n",
       "    </tr>\n",
       "    <tr>\n",
       "      <th>51</th>\n",
       "      <td>2023-06</td>\n",
       "      <td>Region 1</td>\n",
       "      <td>52.081281</td>\n",
       "      <td>31.749043</td>\n",
       "      <td>60.125370</td>\n",
       "      <td>9.136022</td>\n",
       "      <td>11.956960</td>\n",
       "      <td>25.341012</td>\n",
       "      <td>8.150622</td>\n",
       "      <td>8.739849</td>\n",
       "    </tr>\n",
       "    <tr>\n",
       "      <th>52</th>\n",
       "      <td>2023-06</td>\n",
       "      <td>Region 2</td>\n",
       "      <td>64.846166</td>\n",
       "      <td>49.372978</td>\n",
       "      <td>65.442615</td>\n",
       "      <td>17.088755</td>\n",
       "      <td>12.294770</td>\n",
       "      <td>30.056677</td>\n",
       "      <td>10.438571</td>\n",
       "      <td>25.433311</td>\n",
       "    </tr>\n",
       "    <tr>\n",
       "      <th>53</th>\n",
       "      <td>2023-06</td>\n",
       "      <td>Region 3</td>\n",
       "      <td>67.749132</td>\n",
       "      <td>51.080231</td>\n",
       "      <td>73.644687</td>\n",
       "      <td>0.000000</td>\n",
       "      <td>5.838917</td>\n",
       "      <td>16.855701</td>\n",
       "      <td>8.092601</td>\n",
       "      <td>15.128953</td>\n",
       "    </tr>\n",
       "  </tbody>\n",
       "</table>\n",
       "</div>"
      ],
      "text/plain": [
       "   month_year_period    region  overall_dau_mau  premium_dau_mau  \\\n",
       "0            2022-01  Region 1        71.571139        17.415826   \n",
       "1            2022-01  Region 2        68.309500        33.448507   \n",
       "2            2022-01  Region 3        81.223644        34.311619   \n",
       "3            2022-02  Region 1        65.229390        20.006922   \n",
       "4            2022-02  Region 2        65.232785        37.249704   \n",
       "5            2022-02  Region 3        68.496551        26.081454   \n",
       "6            2022-03  Region 1        68.216477        26.860263   \n",
       "7            2022-03  Region 2        63.329132        37.985820   \n",
       "8            2022-03  Region 3        67.008982        20.823242   \n",
       "9            2022-04  Region 1        65.594734        23.411178   \n",
       "10           2022-04  Region 2        61.658361        35.231229   \n",
       "11           2022-04  Region 3        67.949105        26.310168   \n",
       "12           2022-05  Region 1        70.117878        24.492406   \n",
       "13           2022-05  Region 2        61.461732        31.929374   \n",
       "14           2022-05  Region 3        66.940017        29.670657   \n",
       "15           2022-06  Region 1        69.623730        29.042526   \n",
       "16           2022-06  Region 2        63.777142        34.824303   \n",
       "17           2022-06  Region 3        61.967457        29.170508   \n",
       "18           2022-07  Region 1        66.328245        31.145595   \n",
       "19           2022-07  Region 2        62.167020        35.217700   \n",
       "20           2022-07  Region 3        55.979241        31.450032   \n",
       "21           2022-08  Region 1        64.877185        26.170593   \n",
       "22           2022-08  Region 2        57.161055        35.031144   \n",
       "23           2022-08  Region 3        48.672314        36.679608   \n",
       "24           2022-09  Region 1        59.692824        25.603795   \n",
       "25           2022-09  Region 2        56.290632        36.402719   \n",
       "26           2022-09  Region 3        52.005164        31.868375   \n",
       "27           2022-10  Region 1        59.540557        23.491431   \n",
       "28           2022-10  Region 2        58.117767        41.891228   \n",
       "29           2022-10  Region 3        61.418895        36.244329   \n",
       "30           2022-11  Region 1        61.206087        26.404520   \n",
       "31           2022-11  Region 2        57.477773        47.228516   \n",
       "32           2022-11  Region 3        56.032919        38.869152   \n",
       "33           2022-12  Region 1        58.734115        24.790327   \n",
       "34           2022-12  Region 2        56.099790        52.120956   \n",
       "35           2022-12  Region 3        59.048022        40.088114   \n",
       "36           2023-01  Region 1        50.082201        29.439046   \n",
       "37           2023-01  Region 2        57.056101        49.737604   \n",
       "38           2023-01  Region 3        60.834042        47.025455   \n",
       "39           2023-02  Region 1        58.738395        29.262845   \n",
       "40           2023-02  Region 2        63.497399        54.444445   \n",
       "41           2023-02  Region 3        67.645160        50.989696   \n",
       "42           2023-03  Region 1        52.382871        28.174113   \n",
       "43           2023-03  Region 2        59.255009        54.195788   \n",
       "44           2023-03  Region 3        54.355132        51.742348   \n",
       "45           2023-04  Region 1        51.631654        27.186272   \n",
       "46           2023-04  Region 2        63.105526        51.466037   \n",
       "47           2023-04  Region 3        60.837663        51.062118   \n",
       "48           2023-05  Region 1        55.738411        28.376058   \n",
       "49           2023-05  Region 2        64.171633        52.896743   \n",
       "50           2023-05  Region 3        67.155601        51.215689   \n",
       "51           2023-06  Region 1        52.081281        31.749043   \n",
       "52           2023-06  Region 2        64.846166        49.372978   \n",
       "53           2023-06  Region 3        67.749132        51.080231   \n",
       "\n",
       "    core_dau_mau  promos_dau_mau  custom_websites_dau_mau  \\\n",
       "0      73.396532        2.777778                 5.662393   \n",
       "1      70.678487        0.000000                 0.476190   \n",
       "2      84.620815        0.000000                 0.000000   \n",
       "3      67.389355        5.978218                 9.038462   \n",
       "4      70.365178        0.000000                 0.510204   \n",
       "5      76.267067        0.000000                 0.000000   \n",
       "6      71.136939        6.173144                10.398795   \n",
       "7      70.978512        0.000000                 2.073733   \n",
       "8      75.607397        0.000000                 0.268817   \n",
       "9      67.388237        5.192288                 6.999796   \n",
       "10     63.360575        0.000000                 0.238095   \n",
       "11     70.297493        0.000000                 0.000000   \n",
       "12     71.313671        5.220107                 5.897158   \n",
       "13     63.758521        0.000000                 1.036866   \n",
       "14     68.590537        0.000000                 0.000000   \n",
       "15     71.912018        5.316592                 7.489536   \n",
       "16     68.340111        0.000000                 0.357143   \n",
       "17     66.537736        0.000000                 0.277778   \n",
       "18     71.289632        5.207543                 7.561753   \n",
       "19     67.803181        0.000000                 0.806317   \n",
       "20     65.009639        0.000000                 0.000000   \n",
       "21     68.364425        5.728438                 7.153355   \n",
       "22     62.133888        0.000000                 5.683350   \n",
       "23     59.708747        0.000000                 0.000000   \n",
       "24     62.419575        5.844788                11.485829   \n",
       "25     61.847072        5.891083                 3.979148   \n",
       "26     59.510682        0.000000                 0.555556   \n",
       "27     66.102753        5.670330                16.763075   \n",
       "28     64.977180        9.536191                 7.326886   \n",
       "29     66.336053        0.000000                 4.121864   \n",
       "30     66.922846        5.570400                10.466551   \n",
       "31     64.050758       10.158386                 6.903733   \n",
       "32     60.973871        0.000000                 6.711310   \n",
       "33     63.364578        5.518732                18.601919   \n",
       "34     60.992389        9.451133                 6.942671   \n",
       "35     64.149205        0.000000                 2.473758   \n",
       "36     57.640561        9.200103                13.600446   \n",
       "37     66.903263       10.570087                 6.424722   \n",
       "38     69.518215        0.000000                 3.989695   \n",
       "39     65.465525       10.734452                13.159928   \n",
       "40     71.701556       15.646745                 9.251655   \n",
       "41     73.711142        0.000000                 4.792430   \n",
       "42     53.830916       10.273571                15.541925   \n",
       "43     65.083581       18.667559                11.362647   \n",
       "44     59.158022        0.000000                 4.242474   \n",
       "45     55.876990       10.453703                13.808350   \n",
       "46     69.060135       19.419658                10.861543   \n",
       "47     66.067785        0.000000                 2.968111   \n",
       "48     59.115861        9.107324                11.128443   \n",
       "49     68.078842       18.148756                11.044370   \n",
       "50     73.685766        0.000000                 5.187766   \n",
       "51     60.125370        9.136022                11.956960   \n",
       "52     65.442615       17.088755                12.294770   \n",
       "53     73.644687        0.000000                 5.838917   \n",
       "\n",
       "    basic_insights_dau_mau  adv_insights_dau_mau  super_insights_dau_mau  \n",
       "0                32.765643              0.000000               31.769584  \n",
       "1                33.827587              0.000000               28.449041  \n",
       "2                30.546265              0.000000               18.580713  \n",
       "3                24.335975              0.000000               21.971433  \n",
       "4                23.289557              0.000000               29.279268  \n",
       "5                17.560764              0.000000                9.443616  \n",
       "6                23.158376              2.233251               20.588447  \n",
       "7                20.431990              2.304147               23.494225  \n",
       "8                13.913297              0.000000                9.732142  \n",
       "9                24.036613              6.281507               21.061672  \n",
       "10               26.907439              3.717002               24.640304  \n",
       "11               13.042839              0.277778                9.710284  \n",
       "12               29.192345             12.545856               22.819322  \n",
       "13               30.563621              7.439945               23.576343  \n",
       "14               19.269767              1.330645               11.112390  \n",
       "15               30.922871              7.623926               31.178853  \n",
       "16               27.566732              7.847566               31.125319  \n",
       "17               21.300202              0.277778               19.891240  \n",
       "18               25.076704              9.148663               21.129446  \n",
       "19               26.633616              6.135009               23.085439  \n",
       "20               16.136701              2.150538               10.176334  \n",
       "21               23.748891              6.998837               16.238819  \n",
       "22               25.920795              5.814659               19.793879  \n",
       "23               14.282629              0.268817               11.479342  \n",
       "24               30.924475              7.503434               17.030822  \n",
       "25               25.716808              6.201057               18.418986  \n",
       "26               21.404183              2.222222               12.377080  \n",
       "27               20.275261              7.470636               21.633199  \n",
       "28               23.952274             12.579566               27.065987  \n",
       "29               13.970465              1.858568               15.083619  \n",
       "30               22.929230              6.815906               17.237165  \n",
       "31               24.714882             16.695414               27.971130  \n",
       "32               11.949426              1.111419               13.033702  \n",
       "33               24.771514              5.895212               15.413912  \n",
       "34               25.498972              9.584455               27.999639  \n",
       "35               10.256820              0.325190                9.928119  \n",
       "36               16.592106              6.848730                5.864046  \n",
       "37               32.323506             13.597527               21.399358  \n",
       "38               12.045575              1.732378                8.708693  \n",
       "39               20.852896              6.817166               12.529526  \n",
       "40               27.940467             12.582177               24.079186  \n",
       "41               18.182165              4.491212               15.022546  \n",
       "42               27.981824              6.462687               15.650102  \n",
       "43               26.041251              7.281577               25.491113  \n",
       "44               17.423444              9.042486               12.182519  \n",
       "45               27.644249              5.376263               10.178715  \n",
       "46               23.764500              4.796728               19.861096  \n",
       "47               19.081318              8.204564               10.271219  \n",
       "48               28.049650              7.791987               10.673690  \n",
       "49               27.055847             11.129468               19.248391  \n",
       "50               18.034305             10.981779               13.239917  \n",
       "51               25.341012              8.150622                8.739849  \n",
       "52               30.056677             10.438571               25.433311  \n",
       "53               16.855701              8.092601               15.128953  "
      ]
     },
     "execution_count": 93,
     "metadata": {},
     "output_type": "execute_result"
    }
   ],
   "source": [
    "regional_dau_mau_final"
   ]
  },
  {
   "cell_type": "code",
   "execution_count": 94,
   "id": "ae456b51-5543-4dbc-8e8b-5d94ff0d1ec8",
   "metadata": {},
   "outputs": [],
   "source": [
    "latest_dau_mau = regional_dau_mau_final[regional_dau_mau_final.month_year_period == '2023-06']"
   ]
  },
  {
   "cell_type": "code",
   "execution_count": 95,
   "id": "c6e5547d-820e-465e-8b60-6161e419405f",
   "metadata": {},
   "outputs": [
    {
     "data": {
      "text/html": [
       "<div>\n",
       "<style scoped>\n",
       "    .dataframe tbody tr th:only-of-type {\n",
       "        vertical-align: middle;\n",
       "    }\n",
       "\n",
       "    .dataframe tbody tr th {\n",
       "        vertical-align: top;\n",
       "    }\n",
       "\n",
       "    .dataframe thead th {\n",
       "        text-align: right;\n",
       "    }\n",
       "</style>\n",
       "<table border=\"1\" class=\"dataframe\">\n",
       "  <thead>\n",
       "    <tr style=\"text-align: right;\">\n",
       "      <th></th>\n",
       "      <th>month_year_period</th>\n",
       "      <th>region</th>\n",
       "      <th>overall_dau_mau</th>\n",
       "      <th>premium_dau_mau</th>\n",
       "      <th>core_dau_mau</th>\n",
       "      <th>promos_dau_mau</th>\n",
       "      <th>custom_websites_dau_mau</th>\n",
       "      <th>basic_insights_dau_mau</th>\n",
       "      <th>adv_insights_dau_mau</th>\n",
       "      <th>super_insights_dau_mau</th>\n",
       "    </tr>\n",
       "  </thead>\n",
       "  <tbody>\n",
       "    <tr>\n",
       "      <th>51</th>\n",
       "      <td>2023-06</td>\n",
       "      <td>Region 1</td>\n",
       "      <td>52.081281</td>\n",
       "      <td>31.749043</td>\n",
       "      <td>60.125370</td>\n",
       "      <td>9.136022</td>\n",
       "      <td>11.956960</td>\n",
       "      <td>25.341012</td>\n",
       "      <td>8.150622</td>\n",
       "      <td>8.739849</td>\n",
       "    </tr>\n",
       "    <tr>\n",
       "      <th>52</th>\n",
       "      <td>2023-06</td>\n",
       "      <td>Region 2</td>\n",
       "      <td>64.846166</td>\n",
       "      <td>49.372978</td>\n",
       "      <td>65.442615</td>\n",
       "      <td>17.088755</td>\n",
       "      <td>12.294770</td>\n",
       "      <td>30.056677</td>\n",
       "      <td>10.438571</td>\n",
       "      <td>25.433311</td>\n",
       "    </tr>\n",
       "    <tr>\n",
       "      <th>53</th>\n",
       "      <td>2023-06</td>\n",
       "      <td>Region 3</td>\n",
       "      <td>67.749132</td>\n",
       "      <td>51.080231</td>\n",
       "      <td>73.644687</td>\n",
       "      <td>0.000000</td>\n",
       "      <td>5.838917</td>\n",
       "      <td>16.855701</td>\n",
       "      <td>8.092601</td>\n",
       "      <td>15.128953</td>\n",
       "    </tr>\n",
       "  </tbody>\n",
       "</table>\n",
       "</div>"
      ],
      "text/plain": [
       "   month_year_period    region  overall_dau_mau  premium_dau_mau  \\\n",
       "51           2023-06  Region 1        52.081281        31.749043   \n",
       "52           2023-06  Region 2        64.846166        49.372978   \n",
       "53           2023-06  Region 3        67.749132        51.080231   \n",
       "\n",
       "    core_dau_mau  promos_dau_mau  custom_websites_dau_mau  \\\n",
       "51     60.125370        9.136022                11.956960   \n",
       "52     65.442615       17.088755                12.294770   \n",
       "53     73.644687        0.000000                 5.838917   \n",
       "\n",
       "    basic_insights_dau_mau  adv_insights_dau_mau  super_insights_dau_mau  \n",
       "51               25.341012              8.150622                8.739849  \n",
       "52               30.056677             10.438571               25.433311  \n",
       "53               16.855701              8.092601               15.128953  "
      ]
     },
     "execution_count": 95,
     "metadata": {},
     "output_type": "execute_result"
    }
   ],
   "source": [
    "latest_dau_mau"
   ]
  },
  {
   "cell_type": "code",
   "execution_count": 96,
   "id": "b994bd2e-03f5-4ea9-b143-716681f68392",
   "metadata": {},
   "outputs": [
    {
     "name": "stdout",
     "output_type": "stream",
     "text": [
      "Region 1\n",
      "Region 2\n",
      "Region 3\n"
     ]
    },
    {
     "name": "stderr",
     "output_type": "stream",
     "text": [
      "/var/folders/_7/4ybfgjcj1f10b_0pmwylvx_80000gn/T/ipykernel_4379/1988728830.py:14: RuntimeWarning:\n",
      "\n",
      "invalid value encountered in scalar divide\n",
      "\n"
     ]
    },
    {
     "data": {
      "text/html": [
       "<div>\n",
       "<style scoped>\n",
       "    .dataframe tbody tr th:only-of-type {\n",
       "        vertical-align: middle;\n",
       "    }\n",
       "\n",
       "    .dataframe tbody tr th {\n",
       "        vertical-align: top;\n",
       "    }\n",
       "\n",
       "    .dataframe thead th {\n",
       "        text-align: right;\n",
       "    }\n",
       "</style>\n",
       "<table border=\"1\" class=\"dataframe\">\n",
       "  <thead>\n",
       "    <tr style=\"text-align: right;\">\n",
       "      <th></th>\n",
       "      <th>region</th>\n",
       "      <th>overall_growth_rate</th>\n",
       "      <th>premium_growth_rate</th>\n",
       "      <th>core_growth_rate</th>\n",
       "      <th>promos_growth_rate</th>\n",
       "      <th>custom_websites_growth_rate</th>\n",
       "      <th>basic_insights_growth_rate</th>\n",
       "      <th>adv_insights_growth_rate</th>\n",
       "      <th>super_insights_growth_rate</th>\n",
       "    </tr>\n",
       "  </thead>\n",
       "  <tbody>\n",
       "    <tr>\n",
       "      <th>0</th>\n",
       "      <td>Region 1</td>\n",
       "      <td>-0.575742</td>\n",
       "      <td>12.688704</td>\n",
       "      <td>11.693009</td>\n",
       "      <td>-11.072572</td>\n",
       "      <td>-23.066415</td>\n",
       "      <td>-9.437598</td>\n",
       "      <td>26.118171</td>\n",
       "      <td>-44.154685</td>\n",
       "    </tr>\n",
       "    <tr>\n",
       "      <th>1</th>\n",
       "      <td>Region 2</td>\n",
       "      <td>9.435754</td>\n",
       "      <td>-8.898866</td>\n",
       "      <td>0.551651</td>\n",
       "      <td>-8.457472</td>\n",
       "      <td>8.203391</td>\n",
       "      <td>15.419484</td>\n",
       "      <td>43.355911</td>\n",
       "      <td>-0.226754</td>\n",
       "    </tr>\n",
       "    <tr>\n",
       "      <th>2</th>\n",
       "      <td>Region 3</td>\n",
       "      <td>24.641647</td>\n",
       "      <td>-1.279642</td>\n",
       "      <td>24.488084</td>\n",
       "      <td>NaN</td>\n",
       "      <td>37.630001</td>\n",
       "      <td>-3.258501</td>\n",
       "      <td>-10.504691</td>\n",
       "      <td>24.185755</td>\n",
       "    </tr>\n",
       "  </tbody>\n",
       "</table>\n",
       "</div>"
      ],
      "text/plain": [
       "     region  overall_growth_rate  premium_growth_rate  core_growth_rate  \\\n",
       "0  Region 1            -0.575742            12.688704         11.693009   \n",
       "1  Region 2             9.435754            -8.898866          0.551651   \n",
       "2  Region 3            24.641647            -1.279642         24.488084   \n",
       "\n",
       "   promos_growth_rate  custom_websites_growth_rate  \\\n",
       "0          -11.072572                   -23.066415   \n",
       "1           -8.457472                     8.203391   \n",
       "2                 NaN                    37.630001   \n",
       "\n",
       "   basic_insights_growth_rate  adv_insights_growth_rate  \\\n",
       "0                   -9.437598                 26.118171   \n",
       "1                   15.419484                 43.355911   \n",
       "2                   -3.258501                -10.504691   \n",
       "\n",
       "   super_insights_growth_rate  \n",
       "0                  -44.154685  \n",
       "1                   -0.226754  \n",
       "2                   24.185755  "
      ]
     },
     "metadata": {},
     "output_type": "display_data"
    }
   ],
   "source": [
    "growth_df = pd.DataFrame(columns=['region'] + [f\"{product}_growth_rate\" for product in products])\n",
    "\n",
    "for region in regional_dau_mau_final['region'].unique():\n",
    "    print(region)\n",
    "    start_df = regional_dau_mau_final[(regional_dau_mau_final['month_year_period'] == '2023-03') & (regional_dau_mau_final['region'] == region)]\n",
    "    end_df = regional_dau_mau_final[(regional_dau_mau_final['month_year_period'] == '2023-06') & (regional_dau_mau_final['region'] == region)]\n",
    "    \n",
    "    # Calculate growth rates\n",
    "    growth_rates = [region]\n",
    "    for product in products:\n",
    "        start_value = start_df[f\"{product}_dau_mau\"].values[0]\n",
    "        end_value = end_df[f\"{product}_dau_mau\"].values[0]\n",
    "        \n",
    "        growth_rate = ((end_value - start_value) / start_value) * 100\n",
    "        growth_rates.append(growth_rate)\n",
    "        \n",
    "    growth_df.loc[len(growth_df)] = growth_rates\n",
    "\n",
    "display(growth_df)\n"
   ]
  },
  {
   "cell_type": "code",
   "execution_count": 97,
   "id": "6271b846-065b-4061-95f2-e79e1c95cde1",
   "metadata": {},
   "outputs": [
    {
     "data": {
      "text/html": [
       "<div>\n",
       "<style scoped>\n",
       "    .dataframe tbody tr th:only-of-type {\n",
       "        vertical-align: middle;\n",
       "    }\n",
       "\n",
       "    .dataframe tbody tr th {\n",
       "        vertical-align: top;\n",
       "    }\n",
       "\n",
       "    .dataframe thead th {\n",
       "        text-align: right;\n",
       "    }\n",
       "</style>\n",
       "<table border=\"1\" class=\"dataframe\">\n",
       "  <thead>\n",
       "    <tr style=\"text-align: right;\">\n",
       "      <th></th>\n",
       "      <th>month_year_period</th>\n",
       "      <th>region</th>\n",
       "      <th>overall_dau_mau</th>\n",
       "      <th>premium_dau_mau</th>\n",
       "      <th>core_dau_mau</th>\n",
       "      <th>promos_dau_mau</th>\n",
       "      <th>custom_websites_dau_mau</th>\n",
       "      <th>basic_insights_dau_mau</th>\n",
       "      <th>adv_insights_dau_mau</th>\n",
       "      <th>super_insights_dau_mau</th>\n",
       "    </tr>\n",
       "  </thead>\n",
       "  <tbody>\n",
       "    <tr>\n",
       "      <th>51</th>\n",
       "      <td>2023-06</td>\n",
       "      <td>Region 1</td>\n",
       "      <td>52.081281</td>\n",
       "      <td>31.749043</td>\n",
       "      <td>60.125370</td>\n",
       "      <td>9.136022</td>\n",
       "      <td>11.956960</td>\n",
       "      <td>25.341012</td>\n",
       "      <td>8.150622</td>\n",
       "      <td>8.739849</td>\n",
       "    </tr>\n",
       "    <tr>\n",
       "      <th>52</th>\n",
       "      <td>2023-06</td>\n",
       "      <td>Region 2</td>\n",
       "      <td>64.846166</td>\n",
       "      <td>49.372978</td>\n",
       "      <td>65.442615</td>\n",
       "      <td>17.088755</td>\n",
       "      <td>12.294770</td>\n",
       "      <td>30.056677</td>\n",
       "      <td>10.438571</td>\n",
       "      <td>25.433311</td>\n",
       "    </tr>\n",
       "    <tr>\n",
       "      <th>53</th>\n",
       "      <td>2023-06</td>\n",
       "      <td>Region 3</td>\n",
       "      <td>67.749132</td>\n",
       "      <td>51.080231</td>\n",
       "      <td>73.644687</td>\n",
       "      <td>0.000000</td>\n",
       "      <td>5.838917</td>\n",
       "      <td>16.855701</td>\n",
       "      <td>8.092601</td>\n",
       "      <td>15.128953</td>\n",
       "    </tr>\n",
       "  </tbody>\n",
       "</table>\n",
       "</div>"
      ],
      "text/plain": [
       "   month_year_period    region  overall_dau_mau  premium_dau_mau  \\\n",
       "51           2023-06  Region 1        52.081281        31.749043   \n",
       "52           2023-06  Region 2        64.846166        49.372978   \n",
       "53           2023-06  Region 3        67.749132        51.080231   \n",
       "\n",
       "    core_dau_mau  promos_dau_mau  custom_websites_dau_mau  \\\n",
       "51     60.125370        9.136022                11.956960   \n",
       "52     65.442615       17.088755                12.294770   \n",
       "53     73.644687        0.000000                 5.838917   \n",
       "\n",
       "    basic_insights_dau_mau  adv_insights_dau_mau  super_insights_dau_mau  \n",
       "51               25.341012              8.150622                8.739849  \n",
       "52               30.056677             10.438571               25.433311  \n",
       "53               16.855701              8.092601               15.128953  "
      ]
     },
     "execution_count": 97,
     "metadata": {},
     "output_type": "execute_result"
    }
   ],
   "source": [
    "latest_dau_mau"
   ]
  },
  {
   "cell_type": "code",
   "execution_count": 98,
   "id": "0707715e-11df-48b0-8be6-5f8979153fde",
   "metadata": {},
   "outputs": [
    {
     "data": {
      "text/html": [
       "<div>\n",
       "<style scoped>\n",
       "    .dataframe tbody tr th:only-of-type {\n",
       "        vertical-align: middle;\n",
       "    }\n",
       "\n",
       "    .dataframe tbody tr th {\n",
       "        vertical-align: top;\n",
       "    }\n",
       "\n",
       "    .dataframe thead th {\n",
       "        text-align: right;\n",
       "    }\n",
       "</style>\n",
       "<table border=\"1\" class=\"dataframe\">\n",
       "  <thead>\n",
       "    <tr style=\"text-align: right;\">\n",
       "      <th></th>\n",
       "      <th>region</th>\n",
       "      <th>product</th>\n",
       "      <th>dau/mau</th>\n",
       "      <th>growth</th>\n",
       "    </tr>\n",
       "  </thead>\n",
       "  <tbody>\n",
       "    <tr>\n",
       "      <th>0</th>\n",
       "      <td>Region 1</td>\n",
       "      <td>overall</td>\n",
       "      <td>52.081281</td>\n",
       "      <td>-0.575742</td>\n",
       "    </tr>\n",
       "    <tr>\n",
       "      <th>1</th>\n",
       "      <td>Region 2</td>\n",
       "      <td>overall</td>\n",
       "      <td>64.846166</td>\n",
       "      <td>9.435754</td>\n",
       "    </tr>\n",
       "    <tr>\n",
       "      <th>2</th>\n",
       "      <td>Region 3</td>\n",
       "      <td>overall</td>\n",
       "      <td>67.749132</td>\n",
       "      <td>24.641647</td>\n",
       "    </tr>\n",
       "    <tr>\n",
       "      <th>3</th>\n",
       "      <td>Region 1</td>\n",
       "      <td>premium</td>\n",
       "      <td>31.749043</td>\n",
       "      <td>12.688704</td>\n",
       "    </tr>\n",
       "    <tr>\n",
       "      <th>4</th>\n",
       "      <td>Region 2</td>\n",
       "      <td>premium</td>\n",
       "      <td>49.372978</td>\n",
       "      <td>-8.898866</td>\n",
       "    </tr>\n",
       "    <tr>\n",
       "      <th>5</th>\n",
       "      <td>Region 3</td>\n",
       "      <td>premium</td>\n",
       "      <td>51.080231</td>\n",
       "      <td>-1.279642</td>\n",
       "    </tr>\n",
       "    <tr>\n",
       "      <th>6</th>\n",
       "      <td>Region 1</td>\n",
       "      <td>core</td>\n",
       "      <td>60.125370</td>\n",
       "      <td>11.693009</td>\n",
       "    </tr>\n",
       "    <tr>\n",
       "      <th>7</th>\n",
       "      <td>Region 2</td>\n",
       "      <td>core</td>\n",
       "      <td>65.442615</td>\n",
       "      <td>0.551651</td>\n",
       "    </tr>\n",
       "    <tr>\n",
       "      <th>8</th>\n",
       "      <td>Region 3</td>\n",
       "      <td>core</td>\n",
       "      <td>73.644687</td>\n",
       "      <td>24.488084</td>\n",
       "    </tr>\n",
       "    <tr>\n",
       "      <th>9</th>\n",
       "      <td>Region 1</td>\n",
       "      <td>promos</td>\n",
       "      <td>9.136022</td>\n",
       "      <td>-11.072572</td>\n",
       "    </tr>\n",
       "    <tr>\n",
       "      <th>10</th>\n",
       "      <td>Region 2</td>\n",
       "      <td>promos</td>\n",
       "      <td>17.088755</td>\n",
       "      <td>-8.457472</td>\n",
       "    </tr>\n",
       "    <tr>\n",
       "      <th>11</th>\n",
       "      <td>Region 3</td>\n",
       "      <td>promos</td>\n",
       "      <td>0.000000</td>\n",
       "      <td>NaN</td>\n",
       "    </tr>\n",
       "    <tr>\n",
       "      <th>12</th>\n",
       "      <td>Region 1</td>\n",
       "      <td>custom_websites</td>\n",
       "      <td>11.956960</td>\n",
       "      <td>-23.066415</td>\n",
       "    </tr>\n",
       "    <tr>\n",
       "      <th>13</th>\n",
       "      <td>Region 2</td>\n",
       "      <td>custom_websites</td>\n",
       "      <td>12.294770</td>\n",
       "      <td>8.203391</td>\n",
       "    </tr>\n",
       "    <tr>\n",
       "      <th>14</th>\n",
       "      <td>Region 3</td>\n",
       "      <td>custom_websites</td>\n",
       "      <td>5.838917</td>\n",
       "      <td>37.630001</td>\n",
       "    </tr>\n",
       "    <tr>\n",
       "      <th>15</th>\n",
       "      <td>Region 1</td>\n",
       "      <td>basic_insights</td>\n",
       "      <td>25.341012</td>\n",
       "      <td>-9.437598</td>\n",
       "    </tr>\n",
       "    <tr>\n",
       "      <th>16</th>\n",
       "      <td>Region 2</td>\n",
       "      <td>basic_insights</td>\n",
       "      <td>30.056677</td>\n",
       "      <td>15.419484</td>\n",
       "    </tr>\n",
       "    <tr>\n",
       "      <th>17</th>\n",
       "      <td>Region 3</td>\n",
       "      <td>basic_insights</td>\n",
       "      <td>16.855701</td>\n",
       "      <td>-3.258501</td>\n",
       "    </tr>\n",
       "    <tr>\n",
       "      <th>18</th>\n",
       "      <td>Region 1</td>\n",
       "      <td>adv_insights</td>\n",
       "      <td>8.150622</td>\n",
       "      <td>26.118171</td>\n",
       "    </tr>\n",
       "    <tr>\n",
       "      <th>19</th>\n",
       "      <td>Region 2</td>\n",
       "      <td>adv_insights</td>\n",
       "      <td>10.438571</td>\n",
       "      <td>43.355911</td>\n",
       "    </tr>\n",
       "    <tr>\n",
       "      <th>20</th>\n",
       "      <td>Region 3</td>\n",
       "      <td>adv_insights</td>\n",
       "      <td>8.092601</td>\n",
       "      <td>-10.504691</td>\n",
       "    </tr>\n",
       "    <tr>\n",
       "      <th>21</th>\n",
       "      <td>Region 1</td>\n",
       "      <td>super_insights</td>\n",
       "      <td>8.739849</td>\n",
       "      <td>-44.154685</td>\n",
       "    </tr>\n",
       "    <tr>\n",
       "      <th>22</th>\n",
       "      <td>Region 2</td>\n",
       "      <td>super_insights</td>\n",
       "      <td>25.433311</td>\n",
       "      <td>-0.226754</td>\n",
       "    </tr>\n",
       "    <tr>\n",
       "      <th>23</th>\n",
       "      <td>Region 3</td>\n",
       "      <td>super_insights</td>\n",
       "      <td>15.128953</td>\n",
       "      <td>24.185755</td>\n",
       "    </tr>\n",
       "  </tbody>\n",
       "</table>\n",
       "</div>"
      ],
      "text/plain": [
       "      region          product    dau/mau     growth\n",
       "0   Region 1          overall  52.081281  -0.575742\n",
       "1   Region 2          overall  64.846166   9.435754\n",
       "2   Region 3          overall  67.749132  24.641647\n",
       "3   Region 1          premium  31.749043  12.688704\n",
       "4   Region 2          premium  49.372978  -8.898866\n",
       "5   Region 3          premium  51.080231  -1.279642\n",
       "6   Region 1             core  60.125370  11.693009\n",
       "7   Region 2             core  65.442615   0.551651\n",
       "8   Region 3             core  73.644687  24.488084\n",
       "9   Region 1           promos   9.136022 -11.072572\n",
       "10  Region 2           promos  17.088755  -8.457472\n",
       "11  Region 3           promos   0.000000        NaN\n",
       "12  Region 1  custom_websites  11.956960 -23.066415\n",
       "13  Region 2  custom_websites  12.294770   8.203391\n",
       "14  Region 3  custom_websites   5.838917  37.630001\n",
       "15  Region 1   basic_insights  25.341012  -9.437598\n",
       "16  Region 2   basic_insights  30.056677  15.419484\n",
       "17  Region 3   basic_insights  16.855701  -3.258501\n",
       "18  Region 1     adv_insights   8.150622  26.118171\n",
       "19  Region 2     adv_insights  10.438571  43.355911\n",
       "20  Region 3     adv_insights   8.092601 -10.504691\n",
       "21  Region 1   super_insights   8.739849 -44.154685\n",
       "22  Region 2   super_insights  25.433311  -0.226754\n",
       "23  Region 3   super_insights  15.128953  24.185755"
      ]
     },
     "metadata": {},
     "output_type": "display_data"
    }
   ],
   "source": [
    "melted_june_data = pd.melt(latest_dau_mau, id_vars='region', value_vars=[f\"{product}_dau_mau\" for product in products], var_name='product', value_name='dau/mau')\n",
    "\n",
    "melted_june_data['product'] = melted_june_data['product'].str.replace('_dau_mau', '')\n",
    "\n",
    "melted_growth_df = pd.melt(growth_df, id_vars='region', value_vars=[f\"{product}_growth_rate\" for product in products], var_name='product', value_name='growth')\n",
    "\n",
    "melted_growth_df['product'] = melted_growth_df['product'].str.replace('_growth_rate', '')\n",
    "\n",
    "final_growth_df = melted_june_data.merge(melted_growth_df, on=['region', 'product'])\n",
    "\n",
    "display(final_growth_df)\n"
   ]
  },
  {
   "cell_type": "code",
   "execution_count": 99,
   "id": "854a2392-63b0-483f-ab3d-962e5c65a40a",
   "metadata": {},
   "outputs": [],
   "source": [
    "# final_growth_df.to_clipboard()"
   ]
  },
  {
   "cell_type": "markdown",
   "id": "add50e1f-5fab-4e26-a43b-e72ff58553f6",
   "metadata": {},
   "source": [
    "## Revenue Metrics"
   ]
  },
  {
   "cell_type": "code",
   "execution_count": 100,
   "id": "e996318b-d5ed-4ffc-a87d-15edb7759dee",
   "metadata": {},
   "outputs": [],
   "source": [
    "revenue_df = df.copy()"
   ]
  },
  {
   "cell_type": "code",
   "execution_count": 101,
   "id": "9497e1e6-aaf2-49e5-bfdf-17906033ca2c",
   "metadata": {},
   "outputs": [],
   "source": [
    "revenue_df = revenue_df[['day_partition','region','country'] + [col for col in revenue_df.columns if 'monthly_access' in col]]\n",
    "# revenue_df['year_month'] = revenue_df['year'].astype(str) + ' ' + final_revenue_df['month'].apply(lambda x: calendar.month_abbr[x])\n",
    "# revenue_df['year_month_date'] = pd.to_datetime(revenue_df['year_month'], format='%Y %b')\n",
    "# revenue_df = revenue_df.sort_values(by='year_month_date')"
   ]
  },
  {
   "cell_type": "code",
   "execution_count": 102,
   "id": "9fb0ee41-ffd9-4e90-9216-5d1659c48fba",
   "metadata": {},
   "outputs": [
    {
     "data": {
      "text/html": [
       "<div>\n",
       "<style scoped>\n",
       "    .dataframe tbody tr th:only-of-type {\n",
       "        vertical-align: middle;\n",
       "    }\n",
       "\n",
       "    .dataframe tbody tr th {\n",
       "        vertical-align: top;\n",
       "    }\n",
       "\n",
       "    .dataframe thead th {\n",
       "        text-align: right;\n",
       "    }\n",
       "</style>\n",
       "<table border=\"1\" class=\"dataframe\">\n",
       "  <thead>\n",
       "    <tr style=\"text-align: right;\">\n",
       "      <th></th>\n",
       "      <th>day_partition</th>\n",
       "      <th>region</th>\n",
       "      <th>country</th>\n",
       "      <th>overall_monthly_access</th>\n",
       "      <th>core_monthly_access</th>\n",
       "      <th>premium_monthly_access</th>\n",
       "      <th>promos_monthly_access</th>\n",
       "      <th>custom_websites_monthly_access</th>\n",
       "      <th>custom_websites_premium_monthly_access</th>\n",
       "      <th>basic_insights_monthly_access</th>\n",
       "      <th>adv_insights_monthly_access</th>\n",
       "      <th>super_insights_monthly_access</th>\n",
       "    </tr>\n",
       "  </thead>\n",
       "  <tbody>\n",
       "    <tr>\n",
       "      <th>0</th>\n",
       "      <td>2022-01-01</td>\n",
       "      <td>Region 1</td>\n",
       "      <td>Country 1</td>\n",
       "      <td>3197</td>\n",
       "      <td>2366</td>\n",
       "      <td>40</td>\n",
       "      <td>0</td>\n",
       "      <td>0</td>\n",
       "      <td>68</td>\n",
       "      <td>1123</td>\n",
       "      <td>0</td>\n",
       "      <td>460</td>\n",
       "    </tr>\n",
       "    <tr>\n",
       "      <th>1</th>\n",
       "      <td>2022-01-03</td>\n",
       "      <td>Region 1</td>\n",
       "      <td>Country 1</td>\n",
       "      <td>3200</td>\n",
       "      <td>2419</td>\n",
       "      <td>49</td>\n",
       "      <td>1</td>\n",
       "      <td>0</td>\n",
       "      <td>80</td>\n",
       "      <td>1216</td>\n",
       "      <td>0</td>\n",
       "      <td>763</td>\n",
       "    </tr>\n",
       "    <tr>\n",
       "      <th>2</th>\n",
       "      <td>2022-01-04</td>\n",
       "      <td>Region 1</td>\n",
       "      <td>Country 1</td>\n",
       "      <td>3200</td>\n",
       "      <td>2439</td>\n",
       "      <td>51</td>\n",
       "      <td>2</td>\n",
       "      <td>0</td>\n",
       "      <td>90</td>\n",
       "      <td>1324</td>\n",
       "      <td>0</td>\n",
       "      <td>905</td>\n",
       "    </tr>\n",
       "    <tr>\n",
       "      <th>3</th>\n",
       "      <td>2022-01-05</td>\n",
       "      <td>Region 1</td>\n",
       "      <td>Country 1</td>\n",
       "      <td>3219</td>\n",
       "      <td>2456</td>\n",
       "      <td>52</td>\n",
       "      <td>2</td>\n",
       "      <td>0</td>\n",
       "      <td>101</td>\n",
       "      <td>1340</td>\n",
       "      <td>0</td>\n",
       "      <td>982</td>\n",
       "    </tr>\n",
       "    <tr>\n",
       "      <th>4</th>\n",
       "      <td>2022-01-06</td>\n",
       "      <td>Region 1</td>\n",
       "      <td>Country 1</td>\n",
       "      <td>3221</td>\n",
       "      <td>2464</td>\n",
       "      <td>53</td>\n",
       "      <td>2</td>\n",
       "      <td>0</td>\n",
       "      <td>107</td>\n",
       "      <td>1352</td>\n",
       "      <td>0</td>\n",
       "      <td>1001</td>\n",
       "    </tr>\n",
       "    <tr>\n",
       "      <th>...</th>\n",
       "      <td>...</td>\n",
       "      <td>...</td>\n",
       "      <td>...</td>\n",
       "      <td>...</td>\n",
       "      <td>...</td>\n",
       "      <td>...</td>\n",
       "      <td>...</td>\n",
       "      <td>...</td>\n",
       "      <td>...</td>\n",
       "      <td>...</td>\n",
       "      <td>...</td>\n",
       "      <td>...</td>\n",
       "    </tr>\n",
       "    <tr>\n",
       "      <th>20480</th>\n",
       "      <td>2023-06-07</td>\n",
       "      <td>Region 1</td>\n",
       "      <td>Country 9</td>\n",
       "      <td>6</td>\n",
       "      <td>3</td>\n",
       "      <td>0</td>\n",
       "      <td>0</td>\n",
       "      <td>0</td>\n",
       "      <td>0</td>\n",
       "      <td>5</td>\n",
       "      <td>4</td>\n",
       "      <td>2</td>\n",
       "    </tr>\n",
       "    <tr>\n",
       "      <th>20481</th>\n",
       "      <td>2023-06-08</td>\n",
       "      <td>Region 1</td>\n",
       "      <td>Country 9</td>\n",
       "      <td>6</td>\n",
       "      <td>3</td>\n",
       "      <td>0</td>\n",
       "      <td>0</td>\n",
       "      <td>0</td>\n",
       "      <td>0</td>\n",
       "      <td>5</td>\n",
       "      <td>4</td>\n",
       "      <td>2</td>\n",
       "    </tr>\n",
       "    <tr>\n",
       "      <th>20482</th>\n",
       "      <td>2023-06-09</td>\n",
       "      <td>Region 1</td>\n",
       "      <td>Country 9</td>\n",
       "      <td>6</td>\n",
       "      <td>3</td>\n",
       "      <td>0</td>\n",
       "      <td>0</td>\n",
       "      <td>0</td>\n",
       "      <td>0</td>\n",
       "      <td>5</td>\n",
       "      <td>4</td>\n",
       "      <td>2</td>\n",
       "    </tr>\n",
       "    <tr>\n",
       "      <th>20483</th>\n",
       "      <td>2023-06-10</td>\n",
       "      <td>Region 1</td>\n",
       "      <td>Country 9</td>\n",
       "      <td>6</td>\n",
       "      <td>3</td>\n",
       "      <td>0</td>\n",
       "      <td>0</td>\n",
       "      <td>0</td>\n",
       "      <td>0</td>\n",
       "      <td>5</td>\n",
       "      <td>4</td>\n",
       "      <td>2</td>\n",
       "    </tr>\n",
       "    <tr>\n",
       "      <th>20484</th>\n",
       "      <td>2023-06-11</td>\n",
       "      <td>Region 1</td>\n",
       "      <td>Country 9</td>\n",
       "      <td>6</td>\n",
       "      <td>3</td>\n",
       "      <td>0</td>\n",
       "      <td>0</td>\n",
       "      <td>0</td>\n",
       "      <td>0</td>\n",
       "      <td>5</td>\n",
       "      <td>4</td>\n",
       "      <td>2</td>\n",
       "    </tr>\n",
       "  </tbody>\n",
       "</table>\n",
       "<p>20485 rows × 12 columns</p>\n",
       "</div>"
      ],
      "text/plain": [
       "      day_partition    region    country  overall_monthly_access  \\\n",
       "0        2022-01-01  Region 1  Country 1                    3197   \n",
       "1        2022-01-03  Region 1  Country 1                    3200   \n",
       "2        2022-01-04  Region 1  Country 1                    3200   \n",
       "3        2022-01-05  Region 1  Country 1                    3219   \n",
       "4        2022-01-06  Region 1  Country 1                    3221   \n",
       "...             ...       ...        ...                     ...   \n",
       "20480    2023-06-07  Region 1  Country 9                       6   \n",
       "20481    2023-06-08  Region 1  Country 9                       6   \n",
       "20482    2023-06-09  Region 1  Country 9                       6   \n",
       "20483    2023-06-10  Region 1  Country 9                       6   \n",
       "20484    2023-06-11  Region 1  Country 9                       6   \n",
       "\n",
       "       core_monthly_access  premium_monthly_access  promos_monthly_access  \\\n",
       "0                     2366                      40                      0   \n",
       "1                     2419                      49                      1   \n",
       "2                     2439                      51                      2   \n",
       "3                     2456                      52                      2   \n",
       "4                     2464                      53                      2   \n",
       "...                    ...                     ...                    ...   \n",
       "20480                    3                       0                      0   \n",
       "20481                    3                       0                      0   \n",
       "20482                    3                       0                      0   \n",
       "20483                    3                       0                      0   \n",
       "20484                    3                       0                      0   \n",
       "\n",
       "       custom_websites_monthly_access  custom_websites_premium_monthly_access  \\\n",
       "0                                   0                                      68   \n",
       "1                                   0                                      80   \n",
       "2                                   0                                      90   \n",
       "3                                   0                                     101   \n",
       "4                                   0                                     107   \n",
       "...                               ...                                     ...   \n",
       "20480                               0                                       0   \n",
       "20481                               0                                       0   \n",
       "20482                               0                                       0   \n",
       "20483                               0                                       0   \n",
       "20484                               0                                       0   \n",
       "\n",
       "       basic_insights_monthly_access  adv_insights_monthly_access  \\\n",
       "0                               1123                            0   \n",
       "1                               1216                            0   \n",
       "2                               1324                            0   \n",
       "3                               1340                            0   \n",
       "4                               1352                            0   \n",
       "...                              ...                          ...   \n",
       "20480                              5                            4   \n",
       "20481                              5                            4   \n",
       "20482                              5                            4   \n",
       "20483                              5                            4   \n",
       "20484                              5                            4   \n",
       "\n",
       "       super_insights_monthly_access  \n",
       "0                                460  \n",
       "1                                763  \n",
       "2                                905  \n",
       "3                                982  \n",
       "4                               1001  \n",
       "...                              ...  \n",
       "20480                              2  \n",
       "20481                              2  \n",
       "20482                              2  \n",
       "20483                              2  \n",
       "20484                              2  \n",
       "\n",
       "[20485 rows x 12 columns]"
      ]
     },
     "execution_count": 102,
     "metadata": {},
     "output_type": "execute_result"
    }
   ],
   "source": [
    "revenue_df"
   ]
  },
  {
   "cell_type": "code",
   "execution_count": 103,
   "id": "9308e5cc-bb70-4057-ac92-6c31abae783b",
   "metadata": {},
   "outputs": [
    {
     "data": {
      "text/plain": [
       "Index(['day_partition', 'region', 'country', 'overall_monthly_access',\n",
       "       'core_monthly_access', 'premium_monthly_access',\n",
       "       'promos_monthly_access', 'custom_websites_monthly_access',\n",
       "       'custom_websites_premium_monthly_access',\n",
       "       'basic_insights_monthly_access', 'adv_insights_monthly_access',\n",
       "       'super_insights_monthly_access'],\n",
       "      dtype='object')"
      ]
     },
     "execution_count": 103,
     "metadata": {},
     "output_type": "execute_result"
    }
   ],
   "source": [
    "revenue_df.columns"
   ]
  },
  {
   "cell_type": "code",
   "execution_count": 104,
   "id": "72e876aa-91fc-4b88-934b-1a650f67055e",
   "metadata": {},
   "outputs": [
    {
     "name": "stdout",
     "output_type": "stream",
     "text": [
      "day_partition                             0\n",
      "region                                    0\n",
      "country                                   0\n",
      "overall_monthly_access                    0\n",
      "core_monthly_access                       0\n",
      "premium_monthly_access                    0\n",
      "promos_monthly_access                     0\n",
      "custom_websites_monthly_access            0\n",
      "custom_websites_premium_monthly_access    0\n",
      "basic_insights_monthly_access             0\n",
      "adv_insights_monthly_access               0\n",
      "super_insights_monthly_access             0\n",
      "dtype: int64\n"
     ]
    }
   ],
   "source": [
    "print(revenue_df.isnull().sum())"
   ]
  },
  {
   "cell_type": "code",
   "execution_count": 105,
   "id": "025b8a6a-c693-441f-823c-9b8075da576d",
   "metadata": {},
   "outputs": [
    {
     "data": {
      "text/html": [
       "<div>\n",
       "<style scoped>\n",
       "    .dataframe tbody tr th:only-of-type {\n",
       "        vertical-align: middle;\n",
       "    }\n",
       "\n",
       "    .dataframe tbody tr th {\n",
       "        vertical-align: top;\n",
       "    }\n",
       "\n",
       "    .dataframe thead th {\n",
       "        text-align: right;\n",
       "    }\n",
       "</style>\n",
       "<table border=\"1\" class=\"dataframe\">\n",
       "  <thead>\n",
       "    <tr style=\"text-align: right;\">\n",
       "      <th></th>\n",
       "      <th>region</th>\n",
       "      <th>country</th>\n",
       "      <th>product</th>\n",
       "      <th>revenue</th>\n",
       "      <th>year_month</th>\n",
       "    </tr>\n",
       "  </thead>\n",
       "  <tbody>\n",
       "    <tr>\n",
       "      <th>0</th>\n",
       "      <td>Region 1</td>\n",
       "      <td>Country 1</td>\n",
       "      <td>premium</td>\n",
       "      <td>1180.0</td>\n",
       "      <td>2022 Jan</td>\n",
       "    </tr>\n",
       "    <tr>\n",
       "      <th>1</th>\n",
       "      <td>Region 1</td>\n",
       "      <td>Country 1</td>\n",
       "      <td>premium</td>\n",
       "      <td>1480.0</td>\n",
       "      <td>2022 Feb</td>\n",
       "    </tr>\n",
       "    <tr>\n",
       "      <th>2</th>\n",
       "      <td>Region 1</td>\n",
       "      <td>Country 1</td>\n",
       "      <td>premium</td>\n",
       "      <td>1760.0</td>\n",
       "      <td>2022 Mar</td>\n",
       "    </tr>\n",
       "    <tr>\n",
       "      <th>3</th>\n",
       "      <td>Region 1</td>\n",
       "      <td>Country 1</td>\n",
       "      <td>premium</td>\n",
       "      <td>1880.0</td>\n",
       "      <td>2022 Apr</td>\n",
       "    </tr>\n",
       "    <tr>\n",
       "      <th>4</th>\n",
       "      <td>Region 1</td>\n",
       "      <td>Country 1</td>\n",
       "      <td>premium</td>\n",
       "      <td>1980.0</td>\n",
       "      <td>2022 May</td>\n",
       "    </tr>\n",
       "    <tr>\n",
       "      <th>...</th>\n",
       "      <td>...</td>\n",
       "      <td>...</td>\n",
       "      <td>...</td>\n",
       "      <td>...</td>\n",
       "      <td>...</td>\n",
       "    </tr>\n",
       "    <tr>\n",
       "      <th>1759</th>\n",
       "      <td>Region 3</td>\n",
       "      <td>Country 7</td>\n",
       "      <td>super_insights</td>\n",
       "      <td>0.0</td>\n",
       "      <td>2023 Feb</td>\n",
       "    </tr>\n",
       "    <tr>\n",
       "      <th>1760</th>\n",
       "      <td>Region 3</td>\n",
       "      <td>Country 7</td>\n",
       "      <td>super_insights</td>\n",
       "      <td>3630.0</td>\n",
       "      <td>2023 Mar</td>\n",
       "    </tr>\n",
       "    <tr>\n",
       "      <th>1761</th>\n",
       "      <td>Region 3</td>\n",
       "      <td>Country 7</td>\n",
       "      <td>super_insights</td>\n",
       "      <td>480.0</td>\n",
       "      <td>2023 Apr</td>\n",
       "    </tr>\n",
       "    <tr>\n",
       "      <th>1762</th>\n",
       "      <td>Region 3</td>\n",
       "      <td>Country 7</td>\n",
       "      <td>super_insights</td>\n",
       "      <td>0.0</td>\n",
       "      <td>2023 May</td>\n",
       "    </tr>\n",
       "    <tr>\n",
       "      <th>1763</th>\n",
       "      <td>Region 3</td>\n",
       "      <td>Country 7</td>\n",
       "      <td>super_insights</td>\n",
       "      <td>102000.0</td>\n",
       "      <td>2023 Jun</td>\n",
       "    </tr>\n",
       "  </tbody>\n",
       "</table>\n",
       "<p>1764 rows × 5 columns</p>\n",
       "</div>"
      ],
      "text/plain": [
       "        region    country         product   revenue year_month\n",
       "0     Region 1  Country 1         premium    1180.0   2022 Jan\n",
       "1     Region 1  Country 1         premium    1480.0   2022 Feb\n",
       "2     Region 1  Country 1         premium    1760.0   2022 Mar\n",
       "3     Region 1  Country 1         premium    1880.0   2022 Apr\n",
       "4     Region 1  Country 1         premium    1980.0   2022 May\n",
       "...        ...        ...             ...       ...        ...\n",
       "1759  Region 3  Country 7  super_insights       0.0   2023 Feb\n",
       "1760  Region 3  Country 7  super_insights    3630.0   2023 Mar\n",
       "1761  Region 3  Country 7  super_insights     480.0   2023 Apr\n",
       "1762  Region 3  Country 7  super_insights       0.0   2023 May\n",
       "1763  Region 3  Country 7  super_insights  102000.0   2023 Jun\n",
       "\n",
       "[1764 rows x 5 columns]"
      ]
     },
     "metadata": {},
     "output_type": "display_data"
    }
   ],
   "source": [
    "import calendar\n",
    "\n",
    "if isinstance(revenue_df.index, pd.MultiIndex):\n",
    "    revenue_df = revenue_df.reset_index()\n",
    "\n",
    "pricing_structure = {\n",
    "    'premium': {\n",
    "        'Region 1': (20, 100),\n",
    "        'Region 2': (30, 150),\n",
    "        'Region 3': (80, 200)\n",
    "    },\n",
    "    'core': {\n",
    "        'Region 1': (15, 0),\n",
    "        'Region 2': (30, 0),\n",
    "        'Region 3': (60, 0)\n",
    "    },\n",
    "    'promos': {\n",
    "        'Region 1': (20, 0),\n",
    "        'Region 2': (15, 0),\n",
    "        'Region 3': (80, 0)\n",
    "    },\n",
    "    'custom_websites': {\n",
    "        'Region 1': (5, 0),\n",
    "        'Region 2': (5, 0),\n",
    "        'Region 3': (20, 0)\n",
    "    },\n",
    "    'basic_insights': {\n",
    "        'Region 1': (5, 0),\n",
    "        'Region 2': (5, 0),\n",
    "        'Region 3': (10, 0)\n",
    "    },\n",
    "    'adv_insights': {\n",
    "        'Region 1': (10/12, 0),  \n",
    "        'Region 2': (10/12, 0),\n",
    "        'Region 3': (60/12, 0)\n",
    "    },\n",
    "    'super_insights': {\n",
    "        'Region 1': (0, 20),\n",
    "        'Region 2': (0, 25),\n",
    "        'Region 3': (0, 30)\n",
    "    }\n",
    "}\n",
    "\n",
    "# Extract month and year from day_partition\n",
    "revenue_df['month'] = revenue_df['day_partition'].dt.month\n",
    "revenue_df['year'] = revenue_df['day_partition'].dt.year\n",
    "\n",
    "revenues = []\n",
    "for product in pricing_structure:\n",
    "    for region, (monthly_fee, activation_fee) in pricing_structure[product].items():\n",
    "        for country in revenue_df['country'].unique():\n",
    "            subset_data = revenue_df[(revenue_df['region'] == region) & (revenue_df['country'] == country)]\n",
    "            \n",
    "            max_access_df = subset_data.groupby(['year', 'month']).agg(max_access=pd.NamedAgg(column=f'{product}_monthly_access', aggfunc='max')).reset_index()\n",
    "            previous_max_access_df = max_access_df.copy()\n",
    "            previous_max_access_df['month'] = previous_max_access_df['month'] - 1\n",
    "            previous_max_access_df.columns = ['year', 'month', 'previous_max_access']\n",
    "            \n",
    "            monthly_data = pd.merge(max_access_df, previous_max_access_df, on=['year', 'month'], how='left').fillna(0)\n",
    "\n",
    "            monthly_data['new_users'] = monthly_data['max_access'] - monthly_data['previous_max_access']\n",
    "            monthly_data['new_users'] = monthly_data['new_users'].clip(lower=0)  # No negative new users\n",
    "\n",
    "            if product == \"super_insights\":\n",
    "                monthly_data['revenue'] = monthly_data['new_users'] * activation_fee\n",
    "            elif product == \"adv_insights\":\n",
    "                monthly_data['revenue'] = monthly_data['max_access'] * monthly_fee\n",
    "            else:\n",
    "                monthly_data['revenue'] = monthly_data['max_access'] * monthly_fee + monthly_data['new_users'] * activation_fee\n",
    "\n",
    "            for index, row in monthly_data.iterrows():\n",
    "                revenues.append({\n",
    "                    'region': region,\n",
    "                    'country': country,\n",
    "                    'product': product,\n",
    "                    'year': row['year'],\n",
    "                    'month': row['month'],\n",
    "                    'revenue': row['revenue']\n",
    "                })\n",
    "\n",
    "final_revenue_df = pd.DataFrame(revenues)\n",
    "\n",
    "\n",
    "\n",
    "# Convert year and month columns to a single column with format 'YYYY Mon'\n",
    "final_revenue_df['year'] = final_revenue_df['year'].astype(int)  # Ensure year is int\n",
    "final_revenue_df['month'] = final_revenue_df['month'].astype(int)  # Ensure month is int\n",
    "final_revenue_df['year_month'] = final_revenue_df['year'].astype(str) + ' ' + final_revenue_df['month'].apply(lambda x: calendar.month_abbr[x])\n",
    "\n",
    "# Drop the separate 'year' and 'month' columns\n",
    "final_revenue_df.drop(columns=['year', 'month'], inplace=True)\n",
    "\n",
    "# You can display or continue with other operations on final_revenue_df\n",
    "display(final_revenue_df)\n",
    "\n"
   ]
  },
  {
   "cell_type": "code",
   "execution_count": 106,
   "id": "5b2fb956-94c5-4b9c-b7ad-67988c90fb68",
   "metadata": {},
   "outputs": [
    {
     "data": {
      "text/html": [
       "<div>\n",
       "<style scoped>\n",
       "    .dataframe tbody tr th:only-of-type {\n",
       "        vertical-align: middle;\n",
       "    }\n",
       "\n",
       "    .dataframe tbody tr th {\n",
       "        vertical-align: top;\n",
       "    }\n",
       "\n",
       "    .dataframe thead th {\n",
       "        text-align: right;\n",
       "    }\n",
       "</style>\n",
       "<table border=\"1\" class=\"dataframe\">\n",
       "  <thead>\n",
       "    <tr style=\"text-align: right;\">\n",
       "      <th></th>\n",
       "      <th>region</th>\n",
       "      <th>country</th>\n",
       "      <th>revenue_x</th>\n",
       "      <th>revenue_y</th>\n",
       "    </tr>\n",
       "  </thead>\n",
       "  <tbody>\n",
       "    <tr>\n",
       "      <th>0</th>\n",
       "      <td>Region 1</td>\n",
       "      <td>Country 1</td>\n",
       "      <td>43950</td>\n",
       "      <td>43950.0</td>\n",
       "    </tr>\n",
       "    <tr>\n",
       "      <th>1</th>\n",
       "      <td>Region 1</td>\n",
       "      <td>Country 10</td>\n",
       "      <td>1057305</td>\n",
       "      <td>1057305.0</td>\n",
       "    </tr>\n",
       "    <tr>\n",
       "      <th>2</th>\n",
       "      <td>Region 1</td>\n",
       "      <td>Country 11</td>\n",
       "      <td>14775</td>\n",
       "      <td>14775.0</td>\n",
       "    </tr>\n",
       "    <tr>\n",
       "      <th>3</th>\n",
       "      <td>Region 1</td>\n",
       "      <td>Country 12</td>\n",
       "      <td>60</td>\n",
       "      <td>60.0</td>\n",
       "    </tr>\n",
       "    <tr>\n",
       "      <th>4</th>\n",
       "      <td>Region 1</td>\n",
       "      <td>Country 13</td>\n",
       "      <td>58605</td>\n",
       "      <td>58605.0</td>\n",
       "    </tr>\n",
       "    <tr>\n",
       "      <th>5</th>\n",
       "      <td>Region 1</td>\n",
       "      <td>Country 14</td>\n",
       "      <td>16920</td>\n",
       "      <td>16920.0</td>\n",
       "    </tr>\n",
       "    <tr>\n",
       "      <th>6</th>\n",
       "      <td>Region 1</td>\n",
       "      <td>Country 15</td>\n",
       "      <td>18420</td>\n",
       "      <td>18420.0</td>\n",
       "    </tr>\n",
       "    <tr>\n",
       "      <th>7</th>\n",
       "      <td>Region 1</td>\n",
       "      <td>Country 9</td>\n",
       "      <td>30</td>\n",
       "      <td>30.0</td>\n",
       "    </tr>\n",
       "    <tr>\n",
       "      <th>8</th>\n",
       "      <td>Region 2</td>\n",
       "      <td>Country 2</td>\n",
       "      <td>2490</td>\n",
       "      <td>2490.0</td>\n",
       "    </tr>\n",
       "    <tr>\n",
       "      <th>9</th>\n",
       "      <td>Region 2</td>\n",
       "      <td>Country 3</td>\n",
       "      <td>45810</td>\n",
       "      <td>45810.0</td>\n",
       "    </tr>\n",
       "    <tr>\n",
       "      <th>10</th>\n",
       "      <td>Region 2</td>\n",
       "      <td>Country 4</td>\n",
       "      <td>39510</td>\n",
       "      <td>39510.0</td>\n",
       "    </tr>\n",
       "    <tr>\n",
       "      <th>11</th>\n",
       "      <td>Region 2</td>\n",
       "      <td>Country 5</td>\n",
       "      <td>51720</td>\n",
       "      <td>51720.0</td>\n",
       "    </tr>\n",
       "    <tr>\n",
       "      <th>12</th>\n",
       "      <td>Region 3</td>\n",
       "      <td>Country 6</td>\n",
       "      <td>200700</td>\n",
       "      <td>200700.0</td>\n",
       "    </tr>\n",
       "    <tr>\n",
       "      <th>13</th>\n",
       "      <td>Region 3</td>\n",
       "      <td>Country 7</td>\n",
       "      <td>244380</td>\n",
       "      <td>244380.0</td>\n",
       "    </tr>\n",
       "  </tbody>\n",
       "</table>\n",
       "</div>"
      ],
      "text/plain": [
       "      region     country  revenue_x  revenue_y\n",
       "0   Region 1   Country 1      43950    43950.0\n",
       "1   Region 1  Country 10    1057305  1057305.0\n",
       "2   Region 1  Country 11      14775    14775.0\n",
       "3   Region 1  Country 12         60       60.0\n",
       "4   Region 1  Country 13      58605    58605.0\n",
       "5   Region 1  Country 14      16920    16920.0\n",
       "6   Region 1  Country 15      18420    18420.0\n",
       "7   Region 1   Country 9         30       30.0\n",
       "8   Region 2   Country 2       2490     2490.0\n",
       "9   Region 2   Country 3      45810    45810.0\n",
       "10  Region 2   Country 4      39510    39510.0\n",
       "11  Region 2   Country 5      51720    51720.0\n",
       "12  Region 3   Country 6     200700   200700.0\n",
       "13  Region 3   Country 7     244380   244380.0"
      ]
     },
     "execution_count": 106,
     "metadata": {},
     "output_type": "execute_result"
    }
   ],
   "source": [
    "# verifying results\n",
    "def calc_rev_core(region, access):\n",
    "    if region == \"Region 1\":\n",
    "        return access * 15\n",
    "    elif region == \"Region 2\":\n",
    "        return access * 30\n",
    "    else:\n",
    "        return access * 60\n",
    "test = revenue_df.copy()\n",
    "test = test.groupby(['month','year','region','country']).agg({'core_monthly_access':'max'}).reset_index()\n",
    "test['revenue'] = test.apply(lambda x: calc_rev_core(x['region'], x['core_monthly_access']), axis = 1)\n",
    "\n",
    "jan23_verify = test[(test.month == 1) & (test.year == 2023)]\n",
    "jan23_actual = final_revenue_df[(final_revenue_df.year_month == '2023 Jan') & (final_revenue_df['product'].str.contains('core'))].sort_values(['region','country']).reset_index(drop = True)\n",
    "\n",
    "jan23_verify[['region','country','revenue']].merge(jan23_actual[['region','country','revenue']], on = ['region','country'], how = 'left')"
   ]
  },
  {
   "cell_type": "code",
   "execution_count": 107,
   "id": "78e8872a-8379-478b-866d-119c31997a69",
   "metadata": {},
   "outputs": [
    {
     "data": {
      "application/vnd.plotly.v1+json": {
       "config": {
        "plotlyServerURL": "https://plot.ly"
       },
       "data": [
        {
         "marker": {
          "color": "#1F7368"
         },
         "name": "Region 1",
         "type": "bar",
         "x": [
          "2022 Apr",
          "2022 Aug",
          "2022 Dec",
          "2022 Feb",
          "2022 Jan",
          "2022 Jul",
          "2022 Jun",
          "2022 Mar",
          "2022 May",
          "2022 Nov",
          "2022 Oct",
          "2022 Sep",
          "2023 Apr",
          "2023 Feb",
          "2023 Jan",
          "2023 Jun",
          "2023 Mar",
          "2023 May"
         ],
         "y": [
          591645.8333333334,
          1041760,
          1512844.1666666667,
          444942.5,
          416866.6666666667,
          945105,
          785080.8333333334,
          534510,
          684605.8333333334,
          1252027.5,
          1144433.3333333333,
          1069610.8333333333,
          1510192.5,
          1334377.5,
          1326560.8333333333,
          297686.6666666667,
          1563512.5,
          171334.16666666666
         ]
        },
        {
         "marker": {
          "color": "#B185B4"
         },
         "name": "Region 2",
         "type": "bar",
         "x": [
          "2022 Apr",
          "2022 Aug",
          "2022 Dec",
          "2022 Feb",
          "2022 Jan",
          "2022 Jul",
          "2022 Jun",
          "2022 Mar",
          "2022 May",
          "2022 Nov",
          "2022 Oct",
          "2022 Sep",
          "2023 Apr",
          "2023 Feb",
          "2023 Jan",
          "2023 Jun",
          "2023 Mar",
          "2023 May"
         ],
         "y": [
          190280.83333333334,
          211731.66666666666,
          374434.1666666667,
          168957.5,
          155482.5,
          193335.83333333334,
          188828.33333333334,
          178965.83333333334,
          192491.66666666666,
          259939.16666666666,
          222402.5,
          213210,
          228948.33333333334,
          193666.66666666666,
          231048.33333333334,
          341820,
          228786.66666666666,
          201495
         ]
        },
        {
         "marker": {
          "color": "#A6C1D8"
         },
         "name": "Region 3",
         "type": "bar",
         "x": [
          "2022 Apr",
          "2022 Aug",
          "2022 Dec",
          "2022 Feb",
          "2022 Jan",
          "2022 Jul",
          "2022 Jun",
          "2022 Mar",
          "2022 May",
          "2022 Nov",
          "2022 Oct",
          "2022 Sep",
          "2023 Apr",
          "2023 Feb",
          "2023 Jan",
          "2023 Jun",
          "2023 Mar",
          "2023 May"
         ],
         "y": [
          516275,
          686805,
          1229085,
          436620,
          405320,
          614685,
          547865,
          476120,
          526390,
          855340,
          620190,
          741955,
          630010,
          752495,
          707175,
          986995,
          732430,
          602595
         ]
        }
       ],
       "layout": {
        "annotations": [
         {
          "showarrow": false,
          "text": "<b>0.6M<b><br><b>(46%)</b>",
          "x": "2022 Apr",
          "y": 295822.9166666667
         },
         {
          "showarrow": false,
          "text": "<b>0.2M<b><br><b>(15%)</b>",
          "x": "2022 Apr",
          "y": 686786.25
         },
         {
          "showarrow": false,
          "text": "<b>0.5M<b><br><b>(40%)</b>",
          "x": "2022 Apr",
          "y": 1040064.1666666667
         },
         {
          "showarrow": false,
          "text": "<b>1.0M<b><br><b>(54%)</b>",
          "x": "2022 Aug",
          "y": 520880
         },
         {
          "showarrow": false,
          "text": "<b>0.2M<b><br><b>(11%)</b>",
          "x": "2022 Aug",
          "y": 1147625.8333333333
         },
         {
          "showarrow": false,
          "text": "<b>0.7M<b><br><b>(35%)</b>",
          "x": "2022 Aug",
          "y": 1596894.1666666667
         },
         {
          "showarrow": false,
          "text": "<b>1.5M<b><br><b>(49%)</b>",
          "x": "2022 Dec",
          "y": 756422.0833333334
         },
         {
          "showarrow": false,
          "text": "<b>0.4M<b><br><b>(12%)</b>",
          "x": "2022 Dec",
          "y": 1700061.25
         },
         {
          "showarrow": false,
          "text": "<b>1.2M<b><br><b>(39%)</b>",
          "x": "2022 Dec",
          "y": 2501820.8333333335
         },
         {
          "showarrow": false,
          "text": "<b>0.4M<b><br><b>(42%)</b>",
          "x": "2022 Feb",
          "y": 222471.25
         },
         {
          "showarrow": false,
          "text": "<b>0.2M<b><br><b>(16%)</b>",
          "x": "2022 Feb",
          "y": 529421.25
         },
         {
          "showarrow": false,
          "text": "<b>0.4M<b><br><b>(42%)</b>",
          "x": "2022 Feb",
          "y": 832210
         },
         {
          "showarrow": false,
          "text": "<b>0.4M<b><br><b>(43%)</b>",
          "x": "2022 Jan",
          "y": 208433.33333333334
         },
         {
          "showarrow": false,
          "text": "<b>0.2M<b><br><b>(16%)</b>",
          "x": "2022 Jan",
          "y": 494607.9166666667
         },
         {
          "showarrow": false,
          "text": "<b>0.4M<b><br><b>(41%)</b>",
          "x": "2022 Jan",
          "y": 775009.1666666667
         },
         {
          "showarrow": false,
          "text": "<b>0.9M<b><br><b>(54%)</b>",
          "x": "2022 Jul",
          "y": 472552.5
         },
         {
          "showarrow": false,
          "text": "<b>0.2M<b><br><b>(11%)</b>",
          "x": "2022 Jul",
          "y": 1041772.9166666666
         },
         {
          "showarrow": false,
          "text": "<b>0.6M<b><br><b>(35%)</b>",
          "x": "2022 Jul",
          "y": 1445783.3333333333
         },
         {
          "showarrow": false,
          "text": "<b>0.8M<b><br><b>(52%)</b>",
          "x": "2022 Jun",
          "y": 392540.4166666667
         },
         {
          "showarrow": false,
          "text": "<b>0.2M<b><br><b>(12%)</b>",
          "x": "2022 Jun",
          "y": 879495
         },
         {
          "showarrow": false,
          "text": "<b>0.5M<b><br><b>(36%)</b>",
          "x": "2022 Jun",
          "y": 1247841.6666666667
         },
         {
          "showarrow": false,
          "text": "<b>0.5M<b><br><b>(45%)</b>",
          "x": "2022 Mar",
          "y": 267255
         },
         {
          "showarrow": false,
          "text": "<b>0.2M<b><br><b>(15%)</b>",
          "x": "2022 Mar",
          "y": 623992.9166666666
         },
         {
          "showarrow": false,
          "text": "<b>0.5M<b><br><b>(40%)</b>",
          "x": "2022 Mar",
          "y": 951535.8333333334
         },
         {
          "showarrow": false,
          "text": "<b>0.7M<b><br><b>(49%)</b>",
          "x": "2022 May",
          "y": 342302.9166666667
         },
         {
          "showarrow": false,
          "text": "<b>0.2M<b><br><b>(14%)</b>",
          "x": "2022 May",
          "y": 780851.6666666667
         },
         {
          "showarrow": false,
          "text": "<b>0.5M<b><br><b>(38%)</b>",
          "x": "2022 May",
          "y": 1140292.5
         },
         {
          "showarrow": false,
          "text": "<b>1.3M<b><br><b>(53%)</b>",
          "x": "2022 Nov",
          "y": 626013.75
         },
         {
          "showarrow": false,
          "text": "<b>0.3M<b><br><b>(11%)</b>",
          "x": "2022 Nov",
          "y": 1381997.0833333333
         },
         {
          "showarrow": false,
          "text": "<b>0.9M<b><br><b>(36%)</b>",
          "x": "2022 Nov",
          "y": 1939636.6666666667
         },
         {
          "showarrow": false,
          "text": "<b>1.1M<b><br><b>(58%)</b>",
          "x": "2022 Oct",
          "y": 572216.6666666666
         },
         {
          "showarrow": false,
          "text": "<b>0.2M<b><br><b>(11%)</b>",
          "x": "2022 Oct",
          "y": 1255634.5833333333
         },
         {
          "showarrow": false,
          "text": "<b>0.6M<b><br><b>(31%)</b>",
          "x": "2022 Oct",
          "y": 1676930.8333333333
         },
         {
          "showarrow": false,
          "text": "<b>1.1M<b><br><b>(53%)</b>",
          "x": "2022 Sep",
          "y": 534805.4166666666
         },
         {
          "showarrow": false,
          "text": "<b>0.2M<b><br><b>(11%)</b>",
          "x": "2022 Sep",
          "y": 1176215.8333333333
         },
         {
          "showarrow": false,
          "text": "<b>0.7M<b><br><b>(37%)</b>",
          "x": "2022 Sep",
          "y": 1653798.3333333333
         },
         {
          "showarrow": false,
          "text": "<b>1.5M<b><br><b>(64%)</b>",
          "x": "2023 Apr",
          "y": 755096.25
         },
         {
          "showarrow": false,
          "text": "<b>0.2M<b><br><b>(10%)</b>",
          "x": "2023 Apr",
          "y": 1624666.6666666667
         },
         {
          "showarrow": false,
          "text": "<b>0.6M<b><br><b>(27%)</b>",
          "x": "2023 Apr",
          "y": 2054145.8333333333
         },
         {
          "showarrow": false,
          "text": "<b>1.3M<b><br><b>(59%)</b>",
          "x": "2023 Feb",
          "y": 667188.75
         },
         {
          "showarrow": false,
          "text": "<b>0.2M<b><br><b>(8%)</b>",
          "x": "2023 Feb",
          "y": 1431210.8333333333
         },
         {
          "showarrow": false,
          "text": "<b>0.8M<b><br><b>(33%)</b>",
          "x": "2023 Feb",
          "y": 1904291.6666666667
         },
         {
          "showarrow": false,
          "text": "<b>1.3M<b><br><b>(59%)</b>",
          "x": "2023 Jan",
          "y": 663280.4166666666
         },
         {
          "showarrow": false,
          "text": "<b>0.2M<b><br><b>(10%)</b>",
          "x": "2023 Jan",
          "y": 1442085
         },
         {
          "showarrow": false,
          "text": "<b>0.7M<b><br><b>(31%)</b>",
          "x": "2023 Jan",
          "y": 1911196.6666666665
         },
         {
          "showarrow": false,
          "text": "<b>0.3M<b><br><b>(18%)</b>",
          "x": "2023 Jun",
          "y": 148843.33333333334
         },
         {
          "showarrow": false,
          "text": "<b>0.3M<b><br><b>(21%)</b>",
          "x": "2023 Jun",
          "y": 468596.6666666667
         },
         {
          "showarrow": false,
          "text": "<b>1.0M<b><br><b>(61%)</b>",
          "x": "2023 Jun",
          "y": 1133004.1666666667
         },
         {
          "showarrow": false,
          "text": "<b>1.6M<b><br><b>(62%)</b>",
          "x": "2023 Mar",
          "y": 781756.25
         },
         {
          "showarrow": false,
          "text": "<b>0.2M<b><br><b>(9%)</b>",
          "x": "2023 Mar",
          "y": 1677905.8333333333
         },
         {
          "showarrow": false,
          "text": "<b>0.7M<b><br><b>(29%)</b>",
          "x": "2023 Mar",
          "y": 2158514.166666667
         },
         {
          "showarrow": false,
          "text": "<b>0.2M<b><br><b>(18%)</b>",
          "x": "2023 May",
          "y": 85667.08333333333
         },
         {
          "showarrow": false,
          "text": "<b>0.2M<b><br><b>(21%)</b>",
          "x": "2023 May",
          "y": 272081.6666666666
         },
         {
          "showarrow": false,
          "text": "<b>0.6M<b><br><b>(62%)</b>",
          "x": "2023 May",
          "y": 674126.6666666666
         }
        ],
        "barmode": "stack",
        "height": 900,
        "legend": {
         "traceorder": "normal",
         "x": 0.05,
         "y": 0.9
        },
        "template": {
         "data": {
          "candlestick": [
           {
            "decreasing": {
             "line": {
              "color": "#000033"
             }
            },
            "increasing": {
             "line": {
              "color": "#000032"
             }
            },
            "type": "candlestick"
           }
          ],
          "contour": [
           {
            "colorscale": [
             [
              0,
              "#000011"
             ],
             [
              0.1111111111111111,
              "#000012"
             ],
             [
              0.2222222222222222,
              "#000013"
             ],
             [
              0.3333333333333333,
              "#000014"
             ],
             [
              0.4444444444444444,
              "#000015"
             ],
             [
              0.5555555555555556,
              "#000016"
             ],
             [
              0.6666666666666666,
              "#000017"
             ],
             [
              0.7777777777777778,
              "#000018"
             ],
             [
              0.8888888888888888,
              "#000019"
             ],
             [
              1,
              "#000020"
             ]
            ],
            "type": "contour"
           }
          ],
          "contourcarpet": [
           {
            "colorscale": [
             [
              0,
              "#000011"
             ],
             [
              0.1111111111111111,
              "#000012"
             ],
             [
              0.2222222222222222,
              "#000013"
             ],
             [
              0.3333333333333333,
              "#000014"
             ],
             [
              0.4444444444444444,
              "#000015"
             ],
             [
              0.5555555555555556,
              "#000016"
             ],
             [
              0.6666666666666666,
              "#000017"
             ],
             [
              0.7777777777777778,
              "#000018"
             ],
             [
              0.8888888888888888,
              "#000019"
             ],
             [
              1,
              "#000020"
             ]
            ],
            "type": "contourcarpet"
           }
          ],
          "heatmap": [
           {
            "colorscale": [
             [
              0,
              "#000011"
             ],
             [
              0.1111111111111111,
              "#000012"
             ],
             [
              0.2222222222222222,
              "#000013"
             ],
             [
              0.3333333333333333,
              "#000014"
             ],
             [
              0.4444444444444444,
              "#000015"
             ],
             [
              0.5555555555555556,
              "#000016"
             ],
             [
              0.6666666666666666,
              "#000017"
             ],
             [
              0.7777777777777778,
              "#000018"
             ],
             [
              0.8888888888888888,
              "#000019"
             ],
             [
              1,
              "#000020"
             ]
            ],
            "type": "heatmap"
           }
          ],
          "histogram2d": [
           {
            "colorscale": [
             [
              0,
              "#000011"
             ],
             [
              0.1111111111111111,
              "#000012"
             ],
             [
              0.2222222222222222,
              "#000013"
             ],
             [
              0.3333333333333333,
              "#000014"
             ],
             [
              0.4444444444444444,
              "#000015"
             ],
             [
              0.5555555555555556,
              "#000016"
             ],
             [
              0.6666666666666666,
              "#000017"
             ],
             [
              0.7777777777777778,
              "#000018"
             ],
             [
              0.8888888888888888,
              "#000019"
             ],
             [
              1,
              "#000020"
             ]
            ],
            "type": "histogram2d"
           }
          ],
          "icicle": [
           {
            "textfont": {
             "color": "white"
            },
            "type": "icicle"
           }
          ],
          "sankey": [
           {
            "textfont": {
             "color": "#000036"
            },
            "type": "sankey"
           }
          ],
          "scatter": [
           {
            "marker": {
             "line": {
              "width": 0
             }
            },
            "type": "scatter"
           }
          ],
          "table": [
           {
            "cells": {
             "fill": {
              "color": "#000038"
             },
             "font": {
              "color": "#000037"
             },
             "line": {
              "color": "#000039"
             }
            },
            "header": {
             "fill": {
              "color": "#000040"
             },
             "font": {
              "color": "#000036"
             },
             "line": {
              "color": "#000039"
             }
            },
            "type": "table"
           }
          ],
          "waterfall": [
           {
            "connector": {
             "line": {
              "color": "#000036",
              "width": 2
             }
            },
            "decreasing": {
             "marker": {
              "color": "#000033"
             }
            },
            "increasing": {
             "marker": {
              "color": "#000032"
             }
            },
            "totals": {
             "marker": {
              "color": "#000034"
             }
            },
            "type": "waterfall"
           }
          ]
         },
         "layout": {
          "coloraxis": {
           "colorscale": [
            [
             0,
             "#000011"
            ],
            [
             0.1111111111111111,
             "#000012"
            ],
            [
             0.2222222222222222,
             "#000013"
            ],
            [
             0.3333333333333333,
             "#000014"
            ],
            [
             0.4444444444444444,
             "#000015"
            ],
            [
             0.5555555555555556,
             "#000016"
            ],
            [
             0.6666666666666666,
             "#000017"
            ],
            [
             0.7777777777777778,
             "#000018"
            ],
            [
             0.8888888888888888,
             "#000019"
            ],
            [
             1,
             "#000020"
            ]
           ]
          },
          "colorscale": {
           "diverging": [
            [
             0,
             "#000021"
            ],
            [
             0.1,
             "#000022"
            ],
            [
             0.2,
             "#000023"
            ],
            [
             0.3,
             "#000024"
            ],
            [
             0.4,
             "#000025"
            ],
            [
             0.5,
             "#000026"
            ],
            [
             0.6,
             "#000027"
            ],
            [
             0.7,
             "#000028"
            ],
            [
             0.8,
             "#000029"
            ],
            [
             0.9,
             "#000030"
            ],
            [
             1,
             "#000031"
            ]
           ],
           "sequential": [
            [
             0,
             "#000011"
            ],
            [
             0.1111111111111111,
             "#000012"
            ],
            [
             0.2222222222222222,
             "#000013"
            ],
            [
             0.3333333333333333,
             "#000014"
            ],
            [
             0.4444444444444444,
             "#000015"
            ],
            [
             0.5555555555555556,
             "#000016"
            ],
            [
             0.6666666666666666,
             "#000017"
            ],
            [
             0.7777777777777778,
             "#000018"
            ],
            [
             0.8888888888888888,
             "#000019"
            ],
            [
             1,
             "#000020"
            ]
           ],
           "sequentialminus": [
            [
             0,
             "#000011"
            ],
            [
             0.1111111111111111,
             "#000012"
            ],
            [
             0.2222222222222222,
             "#000013"
            ],
            [
             0.3333333333333333,
             "#000014"
            ],
            [
             0.4444444444444444,
             "#000015"
            ],
            [
             0.5555555555555556,
             "#000016"
            ],
            [
             0.6666666666666666,
             "#000017"
            ],
            [
             0.7777777777777778,
             "#000018"
            ],
            [
             0.8888888888888888,
             "#000019"
            ],
            [
             1,
             "#000020"
            ]
           ]
          },
          "colorway": [
           "#000001",
           "#000002",
           "#000003",
           "#000004",
           "#000005",
           "#000006",
           "#000007",
           "#000008",
           "#000009",
           "#000010"
          ]
         }
        },
        "width": 1500,
        "xaxis": {
         "autorange": true,
         "categoryarray": [
          "2022 Jan",
          "2022 Feb",
          "2022 Mar",
          "2022 Apr",
          "2022 May",
          "2022 Jun",
          "2022 Jul",
          "2022 Aug",
          "2022 Sep",
          "2022 Oct",
          "2022 Nov",
          "2022 Dec",
          "2023 Jan",
          "2023 Feb",
          "2023 Mar",
          "2023 Apr",
          "2023 May",
          "2023 Jun"
         ],
         "categoryorder": "array",
         "range": [
          -0.5,
          17.5
         ],
         "title": {
          "text": "Date"
         },
         "type": "category"
        },
        "yaxis": {
         "autorange": true,
         "range": [
          0,
          3280382.456140351
         ],
         "title": {
          "text": "Revenue $USD"
         },
         "type": "linear"
        }
       }
      },
      "text/html": [
       "<div>                            <div id=\"7593ce9c-11bc-48fa-9a71-4bc500a12438\" class=\"plotly-graph-div\" style=\"height:900px; width:1500px;\"></div>            <script type=\"text/javascript\">                require([\"plotly\"], function(Plotly) {                    window.PLOTLYENV=window.PLOTLYENV || {};                                    if (document.getElementById(\"7593ce9c-11bc-48fa-9a71-4bc500a12438\")) {                    Plotly.newPlot(                        \"7593ce9c-11bc-48fa-9a71-4bc500a12438\",                        [{\"marker\":{\"color\":\"#1F7368\"},\"name\":\"Region 1\",\"x\":[\"2022 Apr\",\"2022 Aug\",\"2022 Dec\",\"2022 Feb\",\"2022 Jan\",\"2022 Jul\",\"2022 Jun\",\"2022 Mar\",\"2022 May\",\"2022 Nov\",\"2022 Oct\",\"2022 Sep\",\"2023 Apr\",\"2023 Feb\",\"2023 Jan\",\"2023 Jun\",\"2023 Mar\",\"2023 May\"],\"y\":[591645.8333333334,1041760.0,1512844.1666666667,444942.5,416866.6666666667,945105.0,785080.8333333334,534510.0,684605.8333333334,1252027.5,1144433.3333333333,1069610.8333333333,1510192.5,1334377.5,1326560.8333333333,297686.6666666667,1563512.5,171334.16666666666],\"type\":\"bar\"},{\"marker\":{\"color\":\"#B185B4\"},\"name\":\"Region 2\",\"x\":[\"2022 Apr\",\"2022 Aug\",\"2022 Dec\",\"2022 Feb\",\"2022 Jan\",\"2022 Jul\",\"2022 Jun\",\"2022 Mar\",\"2022 May\",\"2022 Nov\",\"2022 Oct\",\"2022 Sep\",\"2023 Apr\",\"2023 Feb\",\"2023 Jan\",\"2023 Jun\",\"2023 Mar\",\"2023 May\"],\"y\":[190280.83333333334,211731.66666666666,374434.1666666667,168957.5,155482.5,193335.83333333334,188828.33333333334,178965.83333333334,192491.66666666666,259939.16666666666,222402.5,213210.0,228948.33333333334,193666.66666666666,231048.33333333334,341820.0,228786.66666666666,201495.0],\"type\":\"bar\"},{\"marker\":{\"color\":\"#A6C1D8\"},\"name\":\"Region 3\",\"x\":[\"2022 Apr\",\"2022 Aug\",\"2022 Dec\",\"2022 Feb\",\"2022 Jan\",\"2022 Jul\",\"2022 Jun\",\"2022 Mar\",\"2022 May\",\"2022 Nov\",\"2022 Oct\",\"2022 Sep\",\"2023 Apr\",\"2023 Feb\",\"2023 Jan\",\"2023 Jun\",\"2023 Mar\",\"2023 May\"],\"y\":[516275.0,686805.0,1229085.0,436620.0,405320.0,614685.0,547865.0,476120.0,526390.0,855340.0,620190.0,741955.0,630010.0,752495.0,707175.0,986995.0,732430.0,602595.0],\"type\":\"bar\"}],                        {\"template\":{\"data\":{\"candlestick\":[{\"decreasing\":{\"line\":{\"color\":\"#000033\"}},\"increasing\":{\"line\":{\"color\":\"#000032\"}},\"type\":\"candlestick\"}],\"contourcarpet\":[{\"colorscale\":[[0.0,\"#000011\"],[0.1111111111111111,\"#000012\"],[0.2222222222222222,\"#000013\"],[0.3333333333333333,\"#000014\"],[0.4444444444444444,\"#000015\"],[0.5555555555555556,\"#000016\"],[0.6666666666666666,\"#000017\"],[0.7777777777777778,\"#000018\"],[0.8888888888888888,\"#000019\"],[1.0,\"#000020\"]],\"type\":\"contourcarpet\"}],\"contour\":[{\"colorscale\":[[0.0,\"#000011\"],[0.1111111111111111,\"#000012\"],[0.2222222222222222,\"#000013\"],[0.3333333333333333,\"#000014\"],[0.4444444444444444,\"#000015\"],[0.5555555555555556,\"#000016\"],[0.6666666666666666,\"#000017\"],[0.7777777777777778,\"#000018\"],[0.8888888888888888,\"#000019\"],[1.0,\"#000020\"]],\"type\":\"contour\"}],\"heatmap\":[{\"colorscale\":[[0.0,\"#000011\"],[0.1111111111111111,\"#000012\"],[0.2222222222222222,\"#000013\"],[0.3333333333333333,\"#000014\"],[0.4444444444444444,\"#000015\"],[0.5555555555555556,\"#000016\"],[0.6666666666666666,\"#000017\"],[0.7777777777777778,\"#000018\"],[0.8888888888888888,\"#000019\"],[1.0,\"#000020\"]],\"type\":\"heatmap\"}],\"histogram2d\":[{\"colorscale\":[[0.0,\"#000011\"],[0.1111111111111111,\"#000012\"],[0.2222222222222222,\"#000013\"],[0.3333333333333333,\"#000014\"],[0.4444444444444444,\"#000015\"],[0.5555555555555556,\"#000016\"],[0.6666666666666666,\"#000017\"],[0.7777777777777778,\"#000018\"],[0.8888888888888888,\"#000019\"],[1.0,\"#000020\"]],\"type\":\"histogram2d\"}],\"icicle\":[{\"textfont\":{\"color\":\"white\"},\"type\":\"icicle\"}],\"sankey\":[{\"textfont\":{\"color\":\"#000036\"},\"type\":\"sankey\"}],\"scatter\":[{\"marker\":{\"line\":{\"width\":0}},\"type\":\"scatter\"}],\"table\":[{\"cells\":{\"fill\":{\"color\":\"#000038\"},\"font\":{\"color\":\"#000037\"},\"line\":{\"color\":\"#000039\"}},\"header\":{\"fill\":{\"color\":\"#000040\"},\"font\":{\"color\":\"#000036\"},\"line\":{\"color\":\"#000039\"}},\"type\":\"table\"}],\"waterfall\":[{\"connector\":{\"line\":{\"color\":\"#000036\",\"width\":2}},\"decreasing\":{\"marker\":{\"color\":\"#000033\"}},\"increasing\":{\"marker\":{\"color\":\"#000032\"}},\"totals\":{\"marker\":{\"color\":\"#000034\"}},\"type\":\"waterfall\"}]},\"layout\":{\"coloraxis\":{\"colorscale\":[[0.0,\"#000011\"],[0.1111111111111111,\"#000012\"],[0.2222222222222222,\"#000013\"],[0.3333333333333333,\"#000014\"],[0.4444444444444444,\"#000015\"],[0.5555555555555556,\"#000016\"],[0.6666666666666666,\"#000017\"],[0.7777777777777778,\"#000018\"],[0.8888888888888888,\"#000019\"],[1.0,\"#000020\"]]},\"colorscale\":{\"diverging\":[[0.0,\"#000021\"],[0.1,\"#000022\"],[0.2,\"#000023\"],[0.3,\"#000024\"],[0.4,\"#000025\"],[0.5,\"#000026\"],[0.6,\"#000027\"],[0.7,\"#000028\"],[0.8,\"#000029\"],[0.9,\"#000030\"],[1.0,\"#000031\"]],\"sequential\":[[0.0,\"#000011\"],[0.1111111111111111,\"#000012\"],[0.2222222222222222,\"#000013\"],[0.3333333333333333,\"#000014\"],[0.4444444444444444,\"#000015\"],[0.5555555555555556,\"#000016\"],[0.6666666666666666,\"#000017\"],[0.7777777777777778,\"#000018\"],[0.8888888888888888,\"#000019\"],[1.0,\"#000020\"]],\"sequentialminus\":[[0.0,\"#000011\"],[0.1111111111111111,\"#000012\"],[0.2222222222222222,\"#000013\"],[0.3333333333333333,\"#000014\"],[0.4444444444444444,\"#000015\"],[0.5555555555555556,\"#000016\"],[0.6666666666666666,\"#000017\"],[0.7777777777777778,\"#000018\"],[0.8888888888888888,\"#000019\"],[1.0,\"#000020\"]]},\"colorway\":[\"#000001\",\"#000002\",\"#000003\",\"#000004\",\"#000005\",\"#000006\",\"#000007\",\"#000008\",\"#000009\",\"#000010\"]}},\"xaxis\":{\"title\":{\"text\":\"Date\"},\"categoryorder\":\"array\",\"categoryarray\":[\"2022 Jan\",\"2022 Feb\",\"2022 Mar\",\"2022 Apr\",\"2022 May\",\"2022 Jun\",\"2022 Jul\",\"2022 Aug\",\"2022 Sep\",\"2022 Oct\",\"2022 Nov\",\"2022 Dec\",\"2023 Jan\",\"2023 Feb\",\"2023 Mar\",\"2023 Apr\",\"2023 May\",\"2023 Jun\"]},\"legend\":{\"x\":0.05,\"y\":0.9,\"traceorder\":\"normal\"},\"barmode\":\"stack\",\"yaxis\":{\"title\":{\"text\":\"Revenue $USD\"}},\"width\":1500,\"height\":900,\"annotations\":[{\"showarrow\":false,\"text\":\"\\u003cb\\u003e0.6M\\u003cb\\u003e\\u003cbr\\u003e\\u003cb\\u003e(46%)\\u003c\\u002fb\\u003e\",\"x\":\"2022 Apr\",\"y\":295822.9166666667},{\"showarrow\":false,\"text\":\"\\u003cb\\u003e0.2M\\u003cb\\u003e\\u003cbr\\u003e\\u003cb\\u003e(15%)\\u003c\\u002fb\\u003e\",\"x\":\"2022 Apr\",\"y\":686786.25},{\"showarrow\":false,\"text\":\"\\u003cb\\u003e0.5M\\u003cb\\u003e\\u003cbr\\u003e\\u003cb\\u003e(40%)\\u003c\\u002fb\\u003e\",\"x\":\"2022 Apr\",\"y\":1040064.1666666667},{\"showarrow\":false,\"text\":\"\\u003cb\\u003e1.0M\\u003cb\\u003e\\u003cbr\\u003e\\u003cb\\u003e(54%)\\u003c\\u002fb\\u003e\",\"x\":\"2022 Aug\",\"y\":520880.0},{\"showarrow\":false,\"text\":\"\\u003cb\\u003e0.2M\\u003cb\\u003e\\u003cbr\\u003e\\u003cb\\u003e(11%)\\u003c\\u002fb\\u003e\",\"x\":\"2022 Aug\",\"y\":1147625.8333333333},{\"showarrow\":false,\"text\":\"\\u003cb\\u003e0.7M\\u003cb\\u003e\\u003cbr\\u003e\\u003cb\\u003e(35%)\\u003c\\u002fb\\u003e\",\"x\":\"2022 Aug\",\"y\":1596894.1666666667},{\"showarrow\":false,\"text\":\"\\u003cb\\u003e1.5M\\u003cb\\u003e\\u003cbr\\u003e\\u003cb\\u003e(49%)\\u003c\\u002fb\\u003e\",\"x\":\"2022 Dec\",\"y\":756422.0833333334},{\"showarrow\":false,\"text\":\"\\u003cb\\u003e0.4M\\u003cb\\u003e\\u003cbr\\u003e\\u003cb\\u003e(12%)\\u003c\\u002fb\\u003e\",\"x\":\"2022 Dec\",\"y\":1700061.25},{\"showarrow\":false,\"text\":\"\\u003cb\\u003e1.2M\\u003cb\\u003e\\u003cbr\\u003e\\u003cb\\u003e(39%)\\u003c\\u002fb\\u003e\",\"x\":\"2022 Dec\",\"y\":2501820.8333333335},{\"showarrow\":false,\"text\":\"\\u003cb\\u003e0.4M\\u003cb\\u003e\\u003cbr\\u003e\\u003cb\\u003e(42%)\\u003c\\u002fb\\u003e\",\"x\":\"2022 Feb\",\"y\":222471.25},{\"showarrow\":false,\"text\":\"\\u003cb\\u003e0.2M\\u003cb\\u003e\\u003cbr\\u003e\\u003cb\\u003e(16%)\\u003c\\u002fb\\u003e\",\"x\":\"2022 Feb\",\"y\":529421.25},{\"showarrow\":false,\"text\":\"\\u003cb\\u003e0.4M\\u003cb\\u003e\\u003cbr\\u003e\\u003cb\\u003e(42%)\\u003c\\u002fb\\u003e\",\"x\":\"2022 Feb\",\"y\":832210.0},{\"showarrow\":false,\"text\":\"\\u003cb\\u003e0.4M\\u003cb\\u003e\\u003cbr\\u003e\\u003cb\\u003e(43%)\\u003c\\u002fb\\u003e\",\"x\":\"2022 Jan\",\"y\":208433.33333333334},{\"showarrow\":false,\"text\":\"\\u003cb\\u003e0.2M\\u003cb\\u003e\\u003cbr\\u003e\\u003cb\\u003e(16%)\\u003c\\u002fb\\u003e\",\"x\":\"2022 Jan\",\"y\":494607.9166666667},{\"showarrow\":false,\"text\":\"\\u003cb\\u003e0.4M\\u003cb\\u003e\\u003cbr\\u003e\\u003cb\\u003e(41%)\\u003c\\u002fb\\u003e\",\"x\":\"2022 Jan\",\"y\":775009.1666666667},{\"showarrow\":false,\"text\":\"\\u003cb\\u003e0.9M\\u003cb\\u003e\\u003cbr\\u003e\\u003cb\\u003e(54%)\\u003c\\u002fb\\u003e\",\"x\":\"2022 Jul\",\"y\":472552.5},{\"showarrow\":false,\"text\":\"\\u003cb\\u003e0.2M\\u003cb\\u003e\\u003cbr\\u003e\\u003cb\\u003e(11%)\\u003c\\u002fb\\u003e\",\"x\":\"2022 Jul\",\"y\":1041772.9166666666},{\"showarrow\":false,\"text\":\"\\u003cb\\u003e0.6M\\u003cb\\u003e\\u003cbr\\u003e\\u003cb\\u003e(35%)\\u003c\\u002fb\\u003e\",\"x\":\"2022 Jul\",\"y\":1445783.3333333333},{\"showarrow\":false,\"text\":\"\\u003cb\\u003e0.8M\\u003cb\\u003e\\u003cbr\\u003e\\u003cb\\u003e(52%)\\u003c\\u002fb\\u003e\",\"x\":\"2022 Jun\",\"y\":392540.4166666667},{\"showarrow\":false,\"text\":\"\\u003cb\\u003e0.2M\\u003cb\\u003e\\u003cbr\\u003e\\u003cb\\u003e(12%)\\u003c\\u002fb\\u003e\",\"x\":\"2022 Jun\",\"y\":879495.0},{\"showarrow\":false,\"text\":\"\\u003cb\\u003e0.5M\\u003cb\\u003e\\u003cbr\\u003e\\u003cb\\u003e(36%)\\u003c\\u002fb\\u003e\",\"x\":\"2022 Jun\",\"y\":1247841.6666666667},{\"showarrow\":false,\"text\":\"\\u003cb\\u003e0.5M\\u003cb\\u003e\\u003cbr\\u003e\\u003cb\\u003e(45%)\\u003c\\u002fb\\u003e\",\"x\":\"2022 Mar\",\"y\":267255.0},{\"showarrow\":false,\"text\":\"\\u003cb\\u003e0.2M\\u003cb\\u003e\\u003cbr\\u003e\\u003cb\\u003e(15%)\\u003c\\u002fb\\u003e\",\"x\":\"2022 Mar\",\"y\":623992.9166666666},{\"showarrow\":false,\"text\":\"\\u003cb\\u003e0.5M\\u003cb\\u003e\\u003cbr\\u003e\\u003cb\\u003e(40%)\\u003c\\u002fb\\u003e\",\"x\":\"2022 Mar\",\"y\":951535.8333333334},{\"showarrow\":false,\"text\":\"\\u003cb\\u003e0.7M\\u003cb\\u003e\\u003cbr\\u003e\\u003cb\\u003e(49%)\\u003c\\u002fb\\u003e\",\"x\":\"2022 May\",\"y\":342302.9166666667},{\"showarrow\":false,\"text\":\"\\u003cb\\u003e0.2M\\u003cb\\u003e\\u003cbr\\u003e\\u003cb\\u003e(14%)\\u003c\\u002fb\\u003e\",\"x\":\"2022 May\",\"y\":780851.6666666667},{\"showarrow\":false,\"text\":\"\\u003cb\\u003e0.5M\\u003cb\\u003e\\u003cbr\\u003e\\u003cb\\u003e(38%)\\u003c\\u002fb\\u003e\",\"x\":\"2022 May\",\"y\":1140292.5},{\"showarrow\":false,\"text\":\"\\u003cb\\u003e1.3M\\u003cb\\u003e\\u003cbr\\u003e\\u003cb\\u003e(53%)\\u003c\\u002fb\\u003e\",\"x\":\"2022 Nov\",\"y\":626013.75},{\"showarrow\":false,\"text\":\"\\u003cb\\u003e0.3M\\u003cb\\u003e\\u003cbr\\u003e\\u003cb\\u003e(11%)\\u003c\\u002fb\\u003e\",\"x\":\"2022 Nov\",\"y\":1381997.0833333333},{\"showarrow\":false,\"text\":\"\\u003cb\\u003e0.9M\\u003cb\\u003e\\u003cbr\\u003e\\u003cb\\u003e(36%)\\u003c\\u002fb\\u003e\",\"x\":\"2022 Nov\",\"y\":1939636.6666666667},{\"showarrow\":false,\"text\":\"\\u003cb\\u003e1.1M\\u003cb\\u003e\\u003cbr\\u003e\\u003cb\\u003e(58%)\\u003c\\u002fb\\u003e\",\"x\":\"2022 Oct\",\"y\":572216.6666666666},{\"showarrow\":false,\"text\":\"\\u003cb\\u003e0.2M\\u003cb\\u003e\\u003cbr\\u003e\\u003cb\\u003e(11%)\\u003c\\u002fb\\u003e\",\"x\":\"2022 Oct\",\"y\":1255634.5833333333},{\"showarrow\":false,\"text\":\"\\u003cb\\u003e0.6M\\u003cb\\u003e\\u003cbr\\u003e\\u003cb\\u003e(31%)\\u003c\\u002fb\\u003e\",\"x\":\"2022 Oct\",\"y\":1676930.8333333333},{\"showarrow\":false,\"text\":\"\\u003cb\\u003e1.1M\\u003cb\\u003e\\u003cbr\\u003e\\u003cb\\u003e(53%)\\u003c\\u002fb\\u003e\",\"x\":\"2022 Sep\",\"y\":534805.4166666666},{\"showarrow\":false,\"text\":\"\\u003cb\\u003e0.2M\\u003cb\\u003e\\u003cbr\\u003e\\u003cb\\u003e(11%)\\u003c\\u002fb\\u003e\",\"x\":\"2022 Sep\",\"y\":1176215.8333333333},{\"showarrow\":false,\"text\":\"\\u003cb\\u003e0.7M\\u003cb\\u003e\\u003cbr\\u003e\\u003cb\\u003e(37%)\\u003c\\u002fb\\u003e\",\"x\":\"2022 Sep\",\"y\":1653798.3333333333},{\"showarrow\":false,\"text\":\"\\u003cb\\u003e1.5M\\u003cb\\u003e\\u003cbr\\u003e\\u003cb\\u003e(64%)\\u003c\\u002fb\\u003e\",\"x\":\"2023 Apr\",\"y\":755096.25},{\"showarrow\":false,\"text\":\"\\u003cb\\u003e0.2M\\u003cb\\u003e\\u003cbr\\u003e\\u003cb\\u003e(10%)\\u003c\\u002fb\\u003e\",\"x\":\"2023 Apr\",\"y\":1624666.6666666667},{\"showarrow\":false,\"text\":\"\\u003cb\\u003e0.6M\\u003cb\\u003e\\u003cbr\\u003e\\u003cb\\u003e(27%)\\u003c\\u002fb\\u003e\",\"x\":\"2023 Apr\",\"y\":2054145.8333333333},{\"showarrow\":false,\"text\":\"\\u003cb\\u003e1.3M\\u003cb\\u003e\\u003cbr\\u003e\\u003cb\\u003e(59%)\\u003c\\u002fb\\u003e\",\"x\":\"2023 Feb\",\"y\":667188.75},{\"showarrow\":false,\"text\":\"\\u003cb\\u003e0.2M\\u003cb\\u003e\\u003cbr\\u003e\\u003cb\\u003e(8%)\\u003c\\u002fb\\u003e\",\"x\":\"2023 Feb\",\"y\":1431210.8333333333},{\"showarrow\":false,\"text\":\"\\u003cb\\u003e0.8M\\u003cb\\u003e\\u003cbr\\u003e\\u003cb\\u003e(33%)\\u003c\\u002fb\\u003e\",\"x\":\"2023 Feb\",\"y\":1904291.6666666667},{\"showarrow\":false,\"text\":\"\\u003cb\\u003e1.3M\\u003cb\\u003e\\u003cbr\\u003e\\u003cb\\u003e(59%)\\u003c\\u002fb\\u003e\",\"x\":\"2023 Jan\",\"y\":663280.4166666666},{\"showarrow\":false,\"text\":\"\\u003cb\\u003e0.2M\\u003cb\\u003e\\u003cbr\\u003e\\u003cb\\u003e(10%)\\u003c\\u002fb\\u003e\",\"x\":\"2023 Jan\",\"y\":1442085.0},{\"showarrow\":false,\"text\":\"\\u003cb\\u003e0.7M\\u003cb\\u003e\\u003cbr\\u003e\\u003cb\\u003e(31%)\\u003c\\u002fb\\u003e\",\"x\":\"2023 Jan\",\"y\":1911196.6666666665},{\"showarrow\":false,\"text\":\"\\u003cb\\u003e0.3M\\u003cb\\u003e\\u003cbr\\u003e\\u003cb\\u003e(18%)\\u003c\\u002fb\\u003e\",\"x\":\"2023 Jun\",\"y\":148843.33333333334},{\"showarrow\":false,\"text\":\"\\u003cb\\u003e0.3M\\u003cb\\u003e\\u003cbr\\u003e\\u003cb\\u003e(21%)\\u003c\\u002fb\\u003e\",\"x\":\"2023 Jun\",\"y\":468596.6666666667},{\"showarrow\":false,\"text\":\"\\u003cb\\u003e1.0M\\u003cb\\u003e\\u003cbr\\u003e\\u003cb\\u003e(61%)\\u003c\\u002fb\\u003e\",\"x\":\"2023 Jun\",\"y\":1133004.1666666667},{\"showarrow\":false,\"text\":\"\\u003cb\\u003e1.6M\\u003cb\\u003e\\u003cbr\\u003e\\u003cb\\u003e(62%)\\u003c\\u002fb\\u003e\",\"x\":\"2023 Mar\",\"y\":781756.25},{\"showarrow\":false,\"text\":\"\\u003cb\\u003e0.2M\\u003cb\\u003e\\u003cbr\\u003e\\u003cb\\u003e(9%)\\u003c\\u002fb\\u003e\",\"x\":\"2023 Mar\",\"y\":1677905.8333333333},{\"showarrow\":false,\"text\":\"\\u003cb\\u003e0.7M\\u003cb\\u003e\\u003cbr\\u003e\\u003cb\\u003e(29%)\\u003c\\u002fb\\u003e\",\"x\":\"2023 Mar\",\"y\":2158514.166666667},{\"showarrow\":false,\"text\":\"\\u003cb\\u003e0.2M\\u003cb\\u003e\\u003cbr\\u003e\\u003cb\\u003e(18%)\\u003c\\u002fb\\u003e\",\"x\":\"2023 May\",\"y\":85667.08333333333},{\"showarrow\":false,\"text\":\"\\u003cb\\u003e0.2M\\u003cb\\u003e\\u003cbr\\u003e\\u003cb\\u003e(21%)\\u003c\\u002fb\\u003e\",\"x\":\"2023 May\",\"y\":272081.6666666666},{\"showarrow\":false,\"text\":\"\\u003cb\\u003e0.6M\\u003cb\\u003e\\u003cbr\\u003e\\u003cb\\u003e(62%)\\u003c\\u002fb\\u003e\",\"x\":\"2023 May\",\"y\":674126.6666666666}]},                        {\"responsive\": true}                    ).then(function(){\n",
       "                            \n",
       "var gd = document.getElementById('7593ce9c-11bc-48fa-9a71-4bc500a12438');\n",
       "var x = new MutationObserver(function (mutations, observer) {{\n",
       "        var display = window.getComputedStyle(gd).display;\n",
       "        if (!display || display === 'none') {{\n",
       "            console.log([gd, 'removed!']);\n",
       "            Plotly.purge(gd);\n",
       "            observer.disconnect();\n",
       "        }}\n",
       "}});\n",
       "\n",
       "// Listen for the removal of the full notebook cells\n",
       "var notebookContainer = gd.closest('#notebook-container');\n",
       "if (notebookContainer) {{\n",
       "    x.observe(notebookContainer, {childList: true});\n",
       "}}\n",
       "\n",
       "// Listen for the clearing of the current output cell\n",
       "var outputEl = gd.closest('.output');\n",
       "if (outputEl) {{\n",
       "    x.observe(outputEl, {childList: true});\n",
       "}}\n",
       "\n",
       "                        })                };                });            </script>        </div>"
      ]
     },
     "metadata": {},
     "output_type": "display_data"
    }
   ],
   "source": [
    "import plotly.graph_objects as go\n",
    "\n",
    "# Convert 'year_month' into datetime format for sorting\n",
    "\n",
    "# Pivot table for the stacked bar chart format\n",
    "pivot_df = final_revenue_df.pivot_table(index=['year_month'], columns='region', values='revenue', aggfunc='sum').fillna(0).reset_index()\n",
    "\n",
    "# Define colors for each region\n",
    "color_map = {\n",
    "    'Region 1': '#1F7368',\n",
    "    'Region 2': '#B185B4',\n",
    "    'Region 3': '#A6C1D8'\n",
    "}\n",
    "\n",
    "# Create the stacked bar chart using plotly graph_objects for more customization\n",
    "fig = go.Figure()\n",
    "\n",
    "for region in pivot_df.columns[1:]:\n",
    "    fig.add_trace(go.Bar(\n",
    "        x=pivot_df['year_month'],\n",
    "        y=pivot_df[region],\n",
    "        name=region,\n",
    "        marker_color=color_map[region]\n",
    "    ))\n",
    "\n",
    "# Update layout for stacked bar and axis titles\n",
    "fig.update_layout(\n",
    "    barmode='stack',\n",
    "    xaxis_title='Date',\n",
    "    yaxis_title='Revenue $USD',\n",
    "    xaxis={'categoryorder': 'array', 'categoryarray': final_revenue_df['year_month'].drop_duplicates().tolist()},\n",
    "    width=1500,\n",
    "    height=900,\n",
    "    legend=dict(\n",
    "        x=0.05,\n",
    "        y=0.9\n",
    "    ),\n",
    "    legend_traceorder='normal',\n",
    ")\n",
    "\n",
    "# Function to format revenue\n",
    "def format_revenue(revenue):\n",
    "    return f\"{revenue/1e6:.1f}M\"\n",
    "\n",
    "# Add annotations for revenue amounts\n",
    "for i, date in enumerate(pivot_df['year_month']):\n",
    "    total_revenue_for_month = sum([pivot_df[region].iloc[i] for region in pivot_df.columns[1:]])\n",
    "    running_total = 0  # to track the stacked bar height for placing annotations\n",
    "    for region in pivot_df.columns[1:]:\n",
    "        segment_revenue = pivot_df[region].iloc[i]\n",
    "        percentage = segment_revenue/total_revenue_for_month * 100\n",
    "        fig.add_annotation(\n",
    "            x=date,\n",
    "            y=running_total + segment_revenue/2,\n",
    "            text=f\"<b>{format_revenue(segment_revenue)}<b><br><b>({percentage:.0f}%)</b>\",\n",
    "            showarrow=False\n",
    "        )\n",
    "        running_total += segment_revenue\n",
    "\n",
    "# Show the figure\n",
    "fig.show()\n",
    "\n"
   ]
  },
  {
   "cell_type": "code",
   "execution_count": 108,
   "id": "c56dac77-3411-4625-981f-5d97146d2c68",
   "metadata": {},
   "outputs": [
    {
     "data": {
      "text/plain": [
       "32671271.666666664"
      ]
     },
     "execution_count": 108,
     "metadata": {},
     "output_type": "execute_result"
    }
   ],
   "source": [
    "final_revenue_df['revenue'].sum()"
   ]
  },
  {
   "cell_type": "code",
   "execution_count": 109,
   "id": "d9732b5f-7673-4ed5-94bd-e8889dd7b85d",
   "metadata": {},
   "outputs": [],
   "source": [
    "# final_revenue_df.to_clipboard()"
   ]
  },
  {
   "cell_type": "code",
   "execution_count": 110,
   "id": "83e59de1-895c-451b-8667-d972a044971c",
   "metadata": {},
   "outputs": [
    {
     "data": {
      "text/plain": [
       "Index(['region', 'country', 'product', 'revenue', 'year_month'], dtype='object')"
      ]
     },
     "execution_count": 110,
     "metadata": {},
     "output_type": "execute_result"
    }
   ],
   "source": [
    "final_revenue_df.columns"
   ]
  },
  {
   "cell_type": "code",
   "execution_count": 137,
   "id": "23d0c1e9-ab84-4100-8c6f-2deb24ccd5c6",
   "metadata": {},
   "outputs": [
    {
     "data": {
      "text/html": [
       "<div>\n",
       "<style scoped>\n",
       "    .dataframe tbody tr th:only-of-type {\n",
       "        vertical-align: middle;\n",
       "    }\n",
       "\n",
       "    .dataframe tbody tr th {\n",
       "        vertical-align: top;\n",
       "    }\n",
       "\n",
       "    .dataframe thead th {\n",
       "        text-align: right;\n",
       "    }\n",
       "</style>\n",
       "<table border=\"1\" class=\"dataframe\">\n",
       "  <thead>\n",
       "    <tr style=\"text-align: right;\">\n",
       "      <th></th>\n",
       "      <th>region</th>\n",
       "      <th>country</th>\n",
       "      <th>product</th>\n",
       "      <th>revenue</th>\n",
       "      <th>year_month</th>\n",
       "      <th>year_month_date</th>\n",
       "    </tr>\n",
       "  </thead>\n",
       "  <tbody>\n",
       "    <tr>\n",
       "      <th>0</th>\n",
       "      <td>Region 1</td>\n",
       "      <td>Country 1</td>\n",
       "      <td>premium</td>\n",
       "      <td>1180.0</td>\n",
       "      <td>2022 Jan</td>\n",
       "      <td>2022-01-01</td>\n",
       "    </tr>\n",
       "    <tr>\n",
       "      <th>1</th>\n",
       "      <td>Region 1</td>\n",
       "      <td>Country 1</td>\n",
       "      <td>premium</td>\n",
       "      <td>1480.0</td>\n",
       "      <td>2022 Feb</td>\n",
       "      <td>2022-02-01</td>\n",
       "    </tr>\n",
       "    <tr>\n",
       "      <th>2</th>\n",
       "      <td>Region 1</td>\n",
       "      <td>Country 1</td>\n",
       "      <td>premium</td>\n",
       "      <td>1760.0</td>\n",
       "      <td>2022 Mar</td>\n",
       "      <td>2022-03-01</td>\n",
       "    </tr>\n",
       "    <tr>\n",
       "      <th>3</th>\n",
       "      <td>Region 1</td>\n",
       "      <td>Country 1</td>\n",
       "      <td>premium</td>\n",
       "      <td>1880.0</td>\n",
       "      <td>2022 Apr</td>\n",
       "      <td>2022-04-01</td>\n",
       "    </tr>\n",
       "    <tr>\n",
       "      <th>4</th>\n",
       "      <td>Region 1</td>\n",
       "      <td>Country 1</td>\n",
       "      <td>premium</td>\n",
       "      <td>1980.0</td>\n",
       "      <td>2022 May</td>\n",
       "      <td>2022-05-01</td>\n",
       "    </tr>\n",
       "    <tr>\n",
       "      <th>...</th>\n",
       "      <td>...</td>\n",
       "      <td>...</td>\n",
       "      <td>...</td>\n",
       "      <td>...</td>\n",
       "      <td>...</td>\n",
       "      <td>...</td>\n",
       "    </tr>\n",
       "    <tr>\n",
       "      <th>1759</th>\n",
       "      <td>Region 3</td>\n",
       "      <td>Country 7</td>\n",
       "      <td>super_insights</td>\n",
       "      <td>0.0</td>\n",
       "      <td>2023 Feb</td>\n",
       "      <td>2023-02-01</td>\n",
       "    </tr>\n",
       "    <tr>\n",
       "      <th>1760</th>\n",
       "      <td>Region 3</td>\n",
       "      <td>Country 7</td>\n",
       "      <td>super_insights</td>\n",
       "      <td>3630.0</td>\n",
       "      <td>2023 Mar</td>\n",
       "      <td>2023-03-01</td>\n",
       "    </tr>\n",
       "    <tr>\n",
       "      <th>1761</th>\n",
       "      <td>Region 3</td>\n",
       "      <td>Country 7</td>\n",
       "      <td>super_insights</td>\n",
       "      <td>480.0</td>\n",
       "      <td>2023 Apr</td>\n",
       "      <td>2023-04-01</td>\n",
       "    </tr>\n",
       "    <tr>\n",
       "      <th>1762</th>\n",
       "      <td>Region 3</td>\n",
       "      <td>Country 7</td>\n",
       "      <td>super_insights</td>\n",
       "      <td>0.0</td>\n",
       "      <td>2023 May</td>\n",
       "      <td>2023-05-01</td>\n",
       "    </tr>\n",
       "    <tr>\n",
       "      <th>1763</th>\n",
       "      <td>Region 3</td>\n",
       "      <td>Country 7</td>\n",
       "      <td>super_insights</td>\n",
       "      <td>102000.0</td>\n",
       "      <td>2023 Jun</td>\n",
       "      <td>2023-06-01</td>\n",
       "    </tr>\n",
       "  </tbody>\n",
       "</table>\n",
       "<p>1764 rows × 6 columns</p>\n",
       "</div>"
      ],
      "text/plain": [
       "        region    country         product   revenue year_month year_month_date\n",
       "0     Region 1  Country 1         premium    1180.0   2022 Jan      2022-01-01\n",
       "1     Region 1  Country 1         premium    1480.0   2022 Feb      2022-02-01\n",
       "2     Region 1  Country 1         premium    1760.0   2022 Mar      2022-03-01\n",
       "3     Region 1  Country 1         premium    1880.0   2022 Apr      2022-04-01\n",
       "4     Region 1  Country 1         premium    1980.0   2022 May      2022-05-01\n",
       "...        ...        ...             ...       ...        ...             ...\n",
       "1759  Region 3  Country 7  super_insights       0.0   2023 Feb      2023-02-01\n",
       "1760  Region 3  Country 7  super_insights    3630.0   2023 Mar      2023-03-01\n",
       "1761  Region 3  Country 7  super_insights     480.0   2023 Apr      2023-04-01\n",
       "1762  Region 3  Country 7  super_insights       0.0   2023 May      2023-05-01\n",
       "1763  Region 3  Country 7  super_insights  102000.0   2023 Jun      2023-06-01\n",
       "\n",
       "[1764 rows x 6 columns]"
      ]
     },
     "execution_count": 137,
     "metadata": {},
     "output_type": "execute_result"
    }
   ],
   "source": [
    "final_revenue_df"
   ]
  },
  {
   "cell_type": "code",
   "execution_count": 146,
   "id": "902fc0b7-a1fc-461a-8cbe-72229df9cdd9",
   "metadata": {},
   "outputs": [
    {
     "data": {
      "application/vnd.plotly.v1+json": {
       "config": {
        "plotlyServerURL": "https://plot.ly"
       },
       "data": [
        {
         "name": "adv_insights",
         "type": "bar",
         "x": [
          "2022-01-01T00:00:00",
          "2022-02-01T00:00:00",
          "2022-03-01T00:00:00",
          "2022-04-01T00:00:00",
          "2022-05-01T00:00:00",
          "2022-06-01T00:00:00",
          "2022-07-01T00:00:00",
          "2022-08-01T00:00:00",
          "2022-09-01T00:00:00",
          "2022-10-01T00:00:00",
          "2022-11-01T00:00:00",
          "2022-12-01T00:00:00",
          "2023-01-01T00:00:00",
          "2023-02-01T00:00:00",
          "2023-03-01T00:00:00",
          "2023-04-01T00:00:00",
          "2023-05-01T00:00:00",
          "2023-06-01T00:00:00"
         ],
         "y": [
          4.166666666666667,
          45,
          65.83333333333334,
          1441.6666666666667,
          4192.5,
          5214.166666666668,
          4645.833333333333,
          5146.666666666667,
          5465.833333333334,
          10350.833333333334,
          9881.666666666668,
          9048.333333333334,
          6829.166666666667,
          21869.166666666668,
          28154.166666666668,
          21430.833333333336,
          18239.166666666668,
          17941.666666666668
         ]
        },
        {
         "name": "basic_insights",
         "type": "bar",
         "x": [
          "2022-01-01T00:00:00",
          "2022-02-01T00:00:00",
          "2022-03-01T00:00:00",
          "2022-04-01T00:00:00",
          "2022-05-01T00:00:00",
          "2022-06-01T00:00:00",
          "2022-07-01T00:00:00",
          "2022-08-01T00:00:00",
          "2022-09-01T00:00:00",
          "2022-10-01T00:00:00",
          "2022-11-01T00:00:00",
          "2022-12-01T00:00:00",
          "2023-01-01T00:00:00",
          "2023-02-01T00:00:00",
          "2023-03-01T00:00:00",
          "2023-04-01T00:00:00",
          "2023-05-01T00:00:00",
          "2023-06-01T00:00:00"
         ],
         "y": [
          130115,
          153980,
          164815,
          178590,
          198540,
          244665,
          278335,
          301235,
          281925,
          303655,
          323580,
          304720,
          267760,
          252265,
          250785,
          190380,
          175010,
          168680
         ]
        },
        {
         "name": "core",
         "type": "bar",
         "x": [
          "2022-01-01T00:00:00",
          "2022-02-01T00:00:00",
          "2022-03-01T00:00:00",
          "2022-04-01T00:00:00",
          "2022-05-01T00:00:00",
          "2022-06-01T00:00:00",
          "2022-07-01T00:00:00",
          "2022-08-01T00:00:00",
          "2022-09-01T00:00:00",
          "2022-10-01T00:00:00",
          "2022-11-01T00:00:00",
          "2022-12-01T00:00:00",
          "2023-01-01T00:00:00",
          "2023-02-01T00:00:00",
          "2023-03-01T00:00:00",
          "2023-04-01T00:00:00",
          "2023-05-01T00:00:00",
          "2023-06-01T00:00:00"
         ],
         "y": [
          825465,
          868830,
          952635,
          1084395,
          1171470,
          1236780,
          1322040,
          1535880,
          1623090,
          1614630,
          1884885,
          1947255,
          1794675,
          1809900,
          2060910,
          1957035,
          626475,
          618045
         ]
        },
        {
         "name": "custom_websites",
         "type": "bar",
         "x": [
          "2022-01-01T00:00:00",
          "2022-02-01T00:00:00",
          "2022-03-01T00:00:00",
          "2022-04-01T00:00:00",
          "2022-05-01T00:00:00",
          "2022-06-01T00:00:00",
          "2022-07-01T00:00:00",
          "2022-08-01T00:00:00",
          "2022-09-01T00:00:00",
          "2022-10-01T00:00:00",
          "2022-11-01T00:00:00",
          "2022-12-01T00:00:00",
          "2023-01-01T00:00:00",
          "2023-02-01T00:00:00",
          "2023-03-01T00:00:00",
          "2023-04-01T00:00:00",
          "2023-05-01T00:00:00",
          "2023-06-01T00:00:00"
         ],
         "y": [
          45,
          95,
          135,
          180,
          165,
          215,
          360,
          3265,
          3315,
          850,
          960,
          4830,
          6475,
          6550,
          7975,
          8605,
          8755,
          9105
         ]
        },
        {
         "name": "premium",
         "type": "bar",
         "x": [
          "2022-01-01T00:00:00",
          "2022-02-01T00:00:00",
          "2022-03-01T00:00:00",
          "2022-04-01T00:00:00",
          "2022-05-01T00:00:00",
          "2022-06-01T00:00:00",
          "2022-07-01T00:00:00",
          "2022-08-01T00:00:00",
          "2022-09-01T00:00:00",
          "2022-10-01T00:00:00",
          "2022-11-01T00:00:00",
          "2022-12-01T00:00:00",
          "2023-01-01T00:00:00",
          "2023-02-01T00:00:00",
          "2023-03-01T00:00:00",
          "2023-04-01T00:00:00",
          "2023-05-01T00:00:00",
          "2023-06-01T00:00:00"
         ],
         "y": [
          21960,
          27250,
          31930,
          30260,
          28240,
          33930,
          40700,
          39040,
          45520,
          40040,
          97880,
          317480,
          99870,
          106220,
          127730,
          130300,
          131200,
          529620
         ]
        },
        {
         "name": "promos",
         "type": "bar",
         "x": [
          "2022-01-01T00:00:00",
          "2022-02-01T00:00:00",
          "2022-03-01T00:00:00",
          "2022-04-01T00:00:00",
          "2022-05-01T00:00:00",
          "2022-06-01T00:00:00",
          "2022-07-01T00:00:00",
          "2022-08-01T00:00:00",
          "2022-09-01T00:00:00",
          "2022-10-01T00:00:00",
          "2022-11-01T00:00:00",
          "2022-12-01T00:00:00",
          "2023-01-01T00:00:00",
          "2023-02-01T00:00:00",
          "2023-03-01T00:00:00",
          "2023-04-01T00:00:00",
          "2023-05-01T00:00:00",
          "2023-06-01T00:00:00"
         ],
         "y": [
          80,
          300,
          880,
          960,
          880,
          720,
          1140,
          1460,
          2820,
          4435,
          6065,
          7155,
          8075,
          9605,
          12510,
          12695,
          12220,
          12190
         ]
        },
        {
         "name": "super_insights",
         "type": "bar",
         "x": [
          "2022-01-01T00:00:00",
          "2022-02-01T00:00:00",
          "2022-03-01T00:00:00",
          "2022-04-01T00:00:00",
          "2022-05-01T00:00:00",
          "2022-06-01T00:00:00",
          "2022-07-01T00:00:00",
          "2022-08-01T00:00:00",
          "2022-09-01T00:00:00",
          "2022-10-01T00:00:00",
          "2022-11-01T00:00:00",
          "2022-12-01T00:00:00",
          "2023-01-01T00:00:00",
          "2023-02-01T00:00:00",
          "2023-03-01T00:00:00",
          "2023-04-01T00:00:00",
          "2023-05-01T00:00:00",
          "2023-06-01T00:00:00"
         ],
         "y": [
          0,
          20,
          39135,
          2375,
          0,
          250,
          105905,
          54270,
          62640,
          13065,
          44055,
          525875,
          81100,
          74130,
          36665,
          48705,
          3525,
          270920
         ]
        }
       ],
       "layout": {
        "barmode": "stack",
        "height": 900,
        "template": {
         "data": {
          "candlestick": [
           {
            "decreasing": {
             "line": {
              "color": "#000033"
             }
            },
            "increasing": {
             "line": {
              "color": "#000032"
             }
            },
            "type": "candlestick"
           }
          ],
          "contour": [
           {
            "colorscale": [
             [
              0,
              "#000011"
             ],
             [
              0.1111111111111111,
              "#000012"
             ],
             [
              0.2222222222222222,
              "#000013"
             ],
             [
              0.3333333333333333,
              "#000014"
             ],
             [
              0.4444444444444444,
              "#000015"
             ],
             [
              0.5555555555555556,
              "#000016"
             ],
             [
              0.6666666666666666,
              "#000017"
             ],
             [
              0.7777777777777778,
              "#000018"
             ],
             [
              0.8888888888888888,
              "#000019"
             ],
             [
              1,
              "#000020"
             ]
            ],
            "type": "contour"
           }
          ],
          "contourcarpet": [
           {
            "colorscale": [
             [
              0,
              "#000011"
             ],
             [
              0.1111111111111111,
              "#000012"
             ],
             [
              0.2222222222222222,
              "#000013"
             ],
             [
              0.3333333333333333,
              "#000014"
             ],
             [
              0.4444444444444444,
              "#000015"
             ],
             [
              0.5555555555555556,
              "#000016"
             ],
             [
              0.6666666666666666,
              "#000017"
             ],
             [
              0.7777777777777778,
              "#000018"
             ],
             [
              0.8888888888888888,
              "#000019"
             ],
             [
              1,
              "#000020"
             ]
            ],
            "type": "contourcarpet"
           }
          ],
          "heatmap": [
           {
            "colorscale": [
             [
              0,
              "#000011"
             ],
             [
              0.1111111111111111,
              "#000012"
             ],
             [
              0.2222222222222222,
              "#000013"
             ],
             [
              0.3333333333333333,
              "#000014"
             ],
             [
              0.4444444444444444,
              "#000015"
             ],
             [
              0.5555555555555556,
              "#000016"
             ],
             [
              0.6666666666666666,
              "#000017"
             ],
             [
              0.7777777777777778,
              "#000018"
             ],
             [
              0.8888888888888888,
              "#000019"
             ],
             [
              1,
              "#000020"
             ]
            ],
            "type": "heatmap"
           }
          ],
          "histogram2d": [
           {
            "colorscale": [
             [
              0,
              "#000011"
             ],
             [
              0.1111111111111111,
              "#000012"
             ],
             [
              0.2222222222222222,
              "#000013"
             ],
             [
              0.3333333333333333,
              "#000014"
             ],
             [
              0.4444444444444444,
              "#000015"
             ],
             [
              0.5555555555555556,
              "#000016"
             ],
             [
              0.6666666666666666,
              "#000017"
             ],
             [
              0.7777777777777778,
              "#000018"
             ],
             [
              0.8888888888888888,
              "#000019"
             ],
             [
              1,
              "#000020"
             ]
            ],
            "type": "histogram2d"
           }
          ],
          "icicle": [
           {
            "textfont": {
             "color": "white"
            },
            "type": "icicle"
           }
          ],
          "sankey": [
           {
            "textfont": {
             "color": "#000036"
            },
            "type": "sankey"
           }
          ],
          "scatter": [
           {
            "marker": {
             "line": {
              "width": 0
             }
            },
            "type": "scatter"
           }
          ],
          "table": [
           {
            "cells": {
             "fill": {
              "color": "#000038"
             },
             "font": {
              "color": "#000037"
             },
             "line": {
              "color": "#000039"
             }
            },
            "header": {
             "fill": {
              "color": "#000040"
             },
             "font": {
              "color": "#000036"
             },
             "line": {
              "color": "#000039"
             }
            },
            "type": "table"
           }
          ],
          "waterfall": [
           {
            "connector": {
             "line": {
              "color": "#000036",
              "width": 2
             }
            },
            "decreasing": {
             "marker": {
              "color": "#000033"
             }
            },
            "increasing": {
             "marker": {
              "color": "#000032"
             }
            },
            "totals": {
             "marker": {
              "color": "#000034"
             }
            },
            "type": "waterfall"
           }
          ]
         },
         "layout": {
          "coloraxis": {
           "colorscale": [
            [
             0,
             "#000011"
            ],
            [
             0.1111111111111111,
             "#000012"
            ],
            [
             0.2222222222222222,
             "#000013"
            ],
            [
             0.3333333333333333,
             "#000014"
            ],
            [
             0.4444444444444444,
             "#000015"
            ],
            [
             0.5555555555555556,
             "#000016"
            ],
            [
             0.6666666666666666,
             "#000017"
            ],
            [
             0.7777777777777778,
             "#000018"
            ],
            [
             0.8888888888888888,
             "#000019"
            ],
            [
             1,
             "#000020"
            ]
           ]
          },
          "colorscale": {
           "diverging": [
            [
             0,
             "#000021"
            ],
            [
             0.1,
             "#000022"
            ],
            [
             0.2,
             "#000023"
            ],
            [
             0.3,
             "#000024"
            ],
            [
             0.4,
             "#000025"
            ],
            [
             0.5,
             "#000026"
            ],
            [
             0.6,
             "#000027"
            ],
            [
             0.7,
             "#000028"
            ],
            [
             0.8,
             "#000029"
            ],
            [
             0.9,
             "#000030"
            ],
            [
             1,
             "#000031"
            ]
           ],
           "sequential": [
            [
             0,
             "#000011"
            ],
            [
             0.1111111111111111,
             "#000012"
            ],
            [
             0.2222222222222222,
             "#000013"
            ],
            [
             0.3333333333333333,
             "#000014"
            ],
            [
             0.4444444444444444,
             "#000015"
            ],
            [
             0.5555555555555556,
             "#000016"
            ],
            [
             0.6666666666666666,
             "#000017"
            ],
            [
             0.7777777777777778,
             "#000018"
            ],
            [
             0.8888888888888888,
             "#000019"
            ],
            [
             1,
             "#000020"
            ]
           ],
           "sequentialminus": [
            [
             0,
             "#000011"
            ],
            [
             0.1111111111111111,
             "#000012"
            ],
            [
             0.2222222222222222,
             "#000013"
            ],
            [
             0.3333333333333333,
             "#000014"
            ],
            [
             0.4444444444444444,
             "#000015"
            ],
            [
             0.5555555555555556,
             "#000016"
            ],
            [
             0.6666666666666666,
             "#000017"
            ],
            [
             0.7777777777777778,
             "#000018"
            ],
            [
             0.8888888888888888,
             "#000019"
            ],
            [
             1,
             "#000020"
            ]
           ]
          },
          "colorway": [
           "#000001",
           "#000002",
           "#000003",
           "#000004",
           "#000005",
           "#000006",
           "#000007",
           "#000008",
           "#000009",
           "#000010"
          ]
         }
        },
        "width": 1500,
        "xaxis": {
         "autorange": true,
         "range": [
          "2021-12-18",
          "2023-06-15"
         ],
         "title": {
          "text": "Date"
         },
         "type": "date"
        },
        "yaxis": {
         "autorange": true,
         "range": [
          0,
          3280382.456140351
         ],
         "title": {
          "text": "Revenue $USD"
         },
         "type": "linear"
        }
       }
      },
      "text/html": [
       "<div>                            <div id=\"ec4049c3-a429-4775-a57b-67ca2b49893a\" class=\"plotly-graph-div\" style=\"height:900px; width:1500px;\"></div>            <script type=\"text/javascript\">                require([\"plotly\"], function(Plotly) {                    window.PLOTLYENV=window.PLOTLYENV || {};                                    if (document.getElementById(\"ec4049c3-a429-4775-a57b-67ca2b49893a\")) {                    Plotly.newPlot(                        \"ec4049c3-a429-4775-a57b-67ca2b49893a\",                        [{\"name\":\"adv_insights\",\"x\":[\"2022-01-01T00:00:00\",\"2022-02-01T00:00:00\",\"2022-03-01T00:00:00\",\"2022-04-01T00:00:00\",\"2022-05-01T00:00:00\",\"2022-06-01T00:00:00\",\"2022-07-01T00:00:00\",\"2022-08-01T00:00:00\",\"2022-09-01T00:00:00\",\"2022-10-01T00:00:00\",\"2022-11-01T00:00:00\",\"2022-12-01T00:00:00\",\"2023-01-01T00:00:00\",\"2023-02-01T00:00:00\",\"2023-03-01T00:00:00\",\"2023-04-01T00:00:00\",\"2023-05-01T00:00:00\",\"2023-06-01T00:00:00\"],\"y\":[4.166666666666667,45.0,65.83333333333334,1441.6666666666667,4192.5,5214.166666666668,4645.833333333333,5146.666666666667,5465.833333333334,10350.833333333334,9881.666666666668,9048.333333333334,6829.166666666667,21869.166666666668,28154.166666666668,21430.833333333336,18239.166666666668,17941.666666666668],\"type\":\"bar\"},{\"name\":\"basic_insights\",\"x\":[\"2022-01-01T00:00:00\",\"2022-02-01T00:00:00\",\"2022-03-01T00:00:00\",\"2022-04-01T00:00:00\",\"2022-05-01T00:00:00\",\"2022-06-01T00:00:00\",\"2022-07-01T00:00:00\",\"2022-08-01T00:00:00\",\"2022-09-01T00:00:00\",\"2022-10-01T00:00:00\",\"2022-11-01T00:00:00\",\"2022-12-01T00:00:00\",\"2023-01-01T00:00:00\",\"2023-02-01T00:00:00\",\"2023-03-01T00:00:00\",\"2023-04-01T00:00:00\",\"2023-05-01T00:00:00\",\"2023-06-01T00:00:00\"],\"y\":[130115.0,153980.0,164815.0,178590.0,198540.0,244665.0,278335.0,301235.0,281925.0,303655.0,323580.0,304720.0,267760.0,252265.0,250785.0,190380.0,175010.0,168680.0],\"type\":\"bar\"},{\"name\":\"core\",\"x\":[\"2022-01-01T00:00:00\",\"2022-02-01T00:00:00\",\"2022-03-01T00:00:00\",\"2022-04-01T00:00:00\",\"2022-05-01T00:00:00\",\"2022-06-01T00:00:00\",\"2022-07-01T00:00:00\",\"2022-08-01T00:00:00\",\"2022-09-01T00:00:00\",\"2022-10-01T00:00:00\",\"2022-11-01T00:00:00\",\"2022-12-01T00:00:00\",\"2023-01-01T00:00:00\",\"2023-02-01T00:00:00\",\"2023-03-01T00:00:00\",\"2023-04-01T00:00:00\",\"2023-05-01T00:00:00\",\"2023-06-01T00:00:00\"],\"y\":[825465.0,868830.0,952635.0,1084395.0,1171470.0,1236780.0,1322040.0,1535880.0,1623090.0,1614630.0,1884885.0,1947255.0,1794675.0,1809900.0,2060910.0,1957035.0,626475.0,618045.0],\"type\":\"bar\"},{\"name\":\"custom_websites\",\"x\":[\"2022-01-01T00:00:00\",\"2022-02-01T00:00:00\",\"2022-03-01T00:00:00\",\"2022-04-01T00:00:00\",\"2022-05-01T00:00:00\",\"2022-06-01T00:00:00\",\"2022-07-01T00:00:00\",\"2022-08-01T00:00:00\",\"2022-09-01T00:00:00\",\"2022-10-01T00:00:00\",\"2022-11-01T00:00:00\",\"2022-12-01T00:00:00\",\"2023-01-01T00:00:00\",\"2023-02-01T00:00:00\",\"2023-03-01T00:00:00\",\"2023-04-01T00:00:00\",\"2023-05-01T00:00:00\",\"2023-06-01T00:00:00\"],\"y\":[45.0,95.0,135.0,180.0,165.0,215.0,360.0,3265.0,3315.0,850.0,960.0,4830.0,6475.0,6550.0,7975.0,8605.0,8755.0,9105.0],\"type\":\"bar\"},{\"name\":\"premium\",\"x\":[\"2022-01-01T00:00:00\",\"2022-02-01T00:00:00\",\"2022-03-01T00:00:00\",\"2022-04-01T00:00:00\",\"2022-05-01T00:00:00\",\"2022-06-01T00:00:00\",\"2022-07-01T00:00:00\",\"2022-08-01T00:00:00\",\"2022-09-01T00:00:00\",\"2022-10-01T00:00:00\",\"2022-11-01T00:00:00\",\"2022-12-01T00:00:00\",\"2023-01-01T00:00:00\",\"2023-02-01T00:00:00\",\"2023-03-01T00:00:00\",\"2023-04-01T00:00:00\",\"2023-05-01T00:00:00\",\"2023-06-01T00:00:00\"],\"y\":[21960.0,27250.0,31930.0,30260.0,28240.0,33930.0,40700.0,39040.0,45520.0,40040.0,97880.0,317480.0,99870.0,106220.0,127730.0,130300.0,131200.0,529620.0],\"type\":\"bar\"},{\"name\":\"promos\",\"x\":[\"2022-01-01T00:00:00\",\"2022-02-01T00:00:00\",\"2022-03-01T00:00:00\",\"2022-04-01T00:00:00\",\"2022-05-01T00:00:00\",\"2022-06-01T00:00:00\",\"2022-07-01T00:00:00\",\"2022-08-01T00:00:00\",\"2022-09-01T00:00:00\",\"2022-10-01T00:00:00\",\"2022-11-01T00:00:00\",\"2022-12-01T00:00:00\",\"2023-01-01T00:00:00\",\"2023-02-01T00:00:00\",\"2023-03-01T00:00:00\",\"2023-04-01T00:00:00\",\"2023-05-01T00:00:00\",\"2023-06-01T00:00:00\"],\"y\":[80.0,300.0,880.0,960.0,880.0,720.0,1140.0,1460.0,2820.0,4435.0,6065.0,7155.0,8075.0,9605.0,12510.0,12695.0,12220.0,12190.0],\"type\":\"bar\"},{\"name\":\"super_insights\",\"x\":[\"2022-01-01T00:00:00\",\"2022-02-01T00:00:00\",\"2022-03-01T00:00:00\",\"2022-04-01T00:00:00\",\"2022-05-01T00:00:00\",\"2022-06-01T00:00:00\",\"2022-07-01T00:00:00\",\"2022-08-01T00:00:00\",\"2022-09-01T00:00:00\",\"2022-10-01T00:00:00\",\"2022-11-01T00:00:00\",\"2022-12-01T00:00:00\",\"2023-01-01T00:00:00\",\"2023-02-01T00:00:00\",\"2023-03-01T00:00:00\",\"2023-04-01T00:00:00\",\"2023-05-01T00:00:00\",\"2023-06-01T00:00:00\"],\"y\":[0.0,20.0,39135.0,2375.0,0.0,250.0,105905.0,54270.0,62640.0,13065.0,44055.0,525875.0,81100.0,74130.0,36665.0,48705.0,3525.0,270920.0],\"type\":\"bar\"}],                        {\"template\":{\"data\":{\"candlestick\":[{\"decreasing\":{\"line\":{\"color\":\"#000033\"}},\"increasing\":{\"line\":{\"color\":\"#000032\"}},\"type\":\"candlestick\"}],\"contourcarpet\":[{\"colorscale\":[[0.0,\"#000011\"],[0.1111111111111111,\"#000012\"],[0.2222222222222222,\"#000013\"],[0.3333333333333333,\"#000014\"],[0.4444444444444444,\"#000015\"],[0.5555555555555556,\"#000016\"],[0.6666666666666666,\"#000017\"],[0.7777777777777778,\"#000018\"],[0.8888888888888888,\"#000019\"],[1.0,\"#000020\"]],\"type\":\"contourcarpet\"}],\"contour\":[{\"colorscale\":[[0.0,\"#000011\"],[0.1111111111111111,\"#000012\"],[0.2222222222222222,\"#000013\"],[0.3333333333333333,\"#000014\"],[0.4444444444444444,\"#000015\"],[0.5555555555555556,\"#000016\"],[0.6666666666666666,\"#000017\"],[0.7777777777777778,\"#000018\"],[0.8888888888888888,\"#000019\"],[1.0,\"#000020\"]],\"type\":\"contour\"}],\"heatmap\":[{\"colorscale\":[[0.0,\"#000011\"],[0.1111111111111111,\"#000012\"],[0.2222222222222222,\"#000013\"],[0.3333333333333333,\"#000014\"],[0.4444444444444444,\"#000015\"],[0.5555555555555556,\"#000016\"],[0.6666666666666666,\"#000017\"],[0.7777777777777778,\"#000018\"],[0.8888888888888888,\"#000019\"],[1.0,\"#000020\"]],\"type\":\"heatmap\"}],\"histogram2d\":[{\"colorscale\":[[0.0,\"#000011\"],[0.1111111111111111,\"#000012\"],[0.2222222222222222,\"#000013\"],[0.3333333333333333,\"#000014\"],[0.4444444444444444,\"#000015\"],[0.5555555555555556,\"#000016\"],[0.6666666666666666,\"#000017\"],[0.7777777777777778,\"#000018\"],[0.8888888888888888,\"#000019\"],[1.0,\"#000020\"]],\"type\":\"histogram2d\"}],\"icicle\":[{\"textfont\":{\"color\":\"white\"},\"type\":\"icicle\"}],\"sankey\":[{\"textfont\":{\"color\":\"#000036\"},\"type\":\"sankey\"}],\"scatter\":[{\"marker\":{\"line\":{\"width\":0}},\"type\":\"scatter\"}],\"table\":[{\"cells\":{\"fill\":{\"color\":\"#000038\"},\"font\":{\"color\":\"#000037\"},\"line\":{\"color\":\"#000039\"}},\"header\":{\"fill\":{\"color\":\"#000040\"},\"font\":{\"color\":\"#000036\"},\"line\":{\"color\":\"#000039\"}},\"type\":\"table\"}],\"waterfall\":[{\"connector\":{\"line\":{\"color\":\"#000036\",\"width\":2}},\"decreasing\":{\"marker\":{\"color\":\"#000033\"}},\"increasing\":{\"marker\":{\"color\":\"#000032\"}},\"totals\":{\"marker\":{\"color\":\"#000034\"}},\"type\":\"waterfall\"}]},\"layout\":{\"coloraxis\":{\"colorscale\":[[0.0,\"#000011\"],[0.1111111111111111,\"#000012\"],[0.2222222222222222,\"#000013\"],[0.3333333333333333,\"#000014\"],[0.4444444444444444,\"#000015\"],[0.5555555555555556,\"#000016\"],[0.6666666666666666,\"#000017\"],[0.7777777777777778,\"#000018\"],[0.8888888888888888,\"#000019\"],[1.0,\"#000020\"]]},\"colorscale\":{\"diverging\":[[0.0,\"#000021\"],[0.1,\"#000022\"],[0.2,\"#000023\"],[0.3,\"#000024\"],[0.4,\"#000025\"],[0.5,\"#000026\"],[0.6,\"#000027\"],[0.7,\"#000028\"],[0.8,\"#000029\"],[0.9,\"#000030\"],[1.0,\"#000031\"]],\"sequential\":[[0.0,\"#000011\"],[0.1111111111111111,\"#000012\"],[0.2222222222222222,\"#000013\"],[0.3333333333333333,\"#000014\"],[0.4444444444444444,\"#000015\"],[0.5555555555555556,\"#000016\"],[0.6666666666666666,\"#000017\"],[0.7777777777777778,\"#000018\"],[0.8888888888888888,\"#000019\"],[1.0,\"#000020\"]],\"sequentialminus\":[[0.0,\"#000011\"],[0.1111111111111111,\"#000012\"],[0.2222222222222222,\"#000013\"],[0.3333333333333333,\"#000014\"],[0.4444444444444444,\"#000015\"],[0.5555555555555556,\"#000016\"],[0.6666666666666666,\"#000017\"],[0.7777777777777778,\"#000018\"],[0.8888888888888888,\"#000019\"],[1.0,\"#000020\"]]},\"colorway\":[\"#000001\",\"#000002\",\"#000003\",\"#000004\",\"#000005\",\"#000006\",\"#000007\",\"#000008\",\"#000009\",\"#000010\"]}},\"barmode\":\"stack\",\"xaxis\":{\"title\":{\"text\":\"Date\"}},\"yaxis\":{\"title\":{\"text\":\"Revenue $USD\"}},\"width\":1500,\"height\":900},                        {\"responsive\": true}                    ).then(function(){\n",
       "                            \n",
       "var gd = document.getElementById('ec4049c3-a429-4775-a57b-67ca2b49893a');\n",
       "var x = new MutationObserver(function (mutations, observer) {{\n",
       "        var display = window.getComputedStyle(gd).display;\n",
       "        if (!display || display === 'none') {{\n",
       "            console.log([gd, 'removed!']);\n",
       "            Plotly.purge(gd);\n",
       "            observer.disconnect();\n",
       "        }}\n",
       "}});\n",
       "\n",
       "// Listen for the removal of the full notebook cells\n",
       "var notebookContainer = gd.closest('#notebook-container');\n",
       "if (notebookContainer) {{\n",
       "    x.observe(notebookContainer, {childList: true});\n",
       "}}\n",
       "\n",
       "// Listen for the clearing of the current output cell\n",
       "var outputEl = gd.closest('.output');\n",
       "if (outputEl) {{\n",
       "    x.observe(outputEl, {childList: true});\n",
       "}}\n",
       "\n",
       "                        })                };                });            </script>        </div>"
      ]
     },
     "metadata": {},
     "output_type": "display_data"
    }
   ],
   "source": [
    "import plotly.graph_objects as go\n",
    "\n",
    "# Convert 'year_month' column to datetime format\n",
    "final_revenue_df['year_month'] = pd.to_datetime(final_revenue_df['year_month'])\n",
    "\n",
    "# Pivot the data to prepare for the stacked bar chart\n",
    "pivot_df = final_revenue_df.pivot_table(index='year_month', columns='product', values='revenue', aggfunc='sum').fillna(0).reset_index()\n",
    "\n",
    "# Sort the pivot_df by year_month\n",
    "pivot_df = pivot_df.sort_values(by='year_month')\n",
    "\n",
    "color_map = {\n",
    "    'premium': '#1F7368',\n",
    "    'core': '#B185B4',\n",
    "    'promos': '#A6C1D8',\n",
    "    'custom_websites': '#FF7F0E',  # You can add more colors here for other products\n",
    "    'basic_insights': '#9467BD',\n",
    "    'adv_insights': '#2CA02C',\n",
    "    'super_insights': '#17BECF'\n",
    "}\n",
    "\n",
    "\n",
    "# Create the stacked bar chart using Plotly Graph Objects\n",
    "fig = go.Figure()\n",
    "\n",
    "for product in pivot_df.columns[1:]:\n",
    "    fig.add_trace(go.Bar(\n",
    "        x=pivot_df['year_month'],\n",
    "        y=pivot_df[product],\n",
    "        name=product,\n",
    "        marker_color=color_map.get(product, 'grey')  # Use 'grey' for unknown products\n",
    "\n",
    "    ))\n",
    "\n",
    "# Customize the layout\n",
    "fig.update_layout(\n",
    "    barmode='stack',  # Stacked bar chart\n",
    "    xaxis_title='Date',\n",
    "    yaxis_title='Revenue $USD',\n",
    "    width = 1500,\n",
    "    height = 900\n",
    "    \n",
    ")\n",
    "\n",
    "# Show the chart\n",
    "fig.show()\n"
   ]
  },
  {
   "cell_type": "code",
   "execution_count": null,
   "id": "32a1c184-8c6c-4834-8672-5c4d4c9f738d",
   "metadata": {},
   "outputs": [],
   "source": [
    "final_revenue_df.gropuby(prd"
   ]
  },
  {
   "cell_type": "code",
   "execution_count": 112,
   "id": "7b00e50b-1903-4b26-97a1-7e651530a388",
   "metadata": {},
   "outputs": [],
   "source": [
    "ytd_revenue = final_revenue_df[final_revenue_df.year_month.str.contains('2023')]['revenue'].sum()"
   ]
  },
  {
   "cell_type": "code",
   "execution_count": 113,
   "id": "8b7f7173-0761-41b8-b1a9-f958f11191a5",
   "metadata": {},
   "outputs": [],
   "source": [
    "ytd_revenue = final_revenue_df[final_revenue_df.year_month.str.contains('2023')]['revenue'].sum()"
   ]
  },
  {
   "cell_type": "code",
   "execution_count": 114,
   "id": "b3802f86-ee06-4f8a-89f9-ac66c5c3de99",
   "metadata": {},
   "outputs": [
    {
     "data": {
      "text/plain": [
       "12041129.166666666"
      ]
     },
     "execution_count": 114,
     "metadata": {},
     "output_type": "execute_result"
    }
   ],
   "source": [
    "ytd_revenue"
   ]
  },
  {
   "cell_type": "code",
   "execution_count": 135,
   "id": "d4b18eeb-bdd0-49e8-ac5e-2a3fccbb2db2",
   "metadata": {},
   "outputs": [
    {
     "data": {
      "text/html": [
       "<div>\n",
       "<style scoped>\n",
       "    .dataframe tbody tr th:only-of-type {\n",
       "        vertical-align: middle;\n",
       "    }\n",
       "\n",
       "    .dataframe tbody tr th {\n",
       "        vertical-align: top;\n",
       "    }\n",
       "\n",
       "    .dataframe thead th {\n",
       "        text-align: right;\n",
       "    }\n",
       "</style>\n",
       "<table border=\"1\" class=\"dataframe\">\n",
       "  <thead>\n",
       "    <tr style=\"text-align: right;\">\n",
       "      <th></th>\n",
       "      <th>year_month</th>\n",
       "      <th>revenue</th>\n",
       "      <th>year_month_date</th>\n",
       "    </tr>\n",
       "  </thead>\n",
       "  <tbody>\n",
       "    <tr>\n",
       "      <th>0</th>\n",
       "      <td>2022 Apr</td>\n",
       "      <td>1.298202e+06</td>\n",
       "      <td>2022-04-01</td>\n",
       "    </tr>\n",
       "    <tr>\n",
       "      <th>1</th>\n",
       "      <td>2022 Aug</td>\n",
       "      <td>1.940297e+06</td>\n",
       "      <td>2022-08-01</td>\n",
       "    </tr>\n",
       "    <tr>\n",
       "      <th>2</th>\n",
       "      <td>2022 Dec</td>\n",
       "      <td>3.116363e+06</td>\n",
       "      <td>2022-12-01</td>\n",
       "    </tr>\n",
       "    <tr>\n",
       "      <th>3</th>\n",
       "      <td>2022 Feb</td>\n",
       "      <td>1.050520e+06</td>\n",
       "      <td>2022-02-01</td>\n",
       "    </tr>\n",
       "    <tr>\n",
       "      <th>4</th>\n",
       "      <td>2022 Jan</td>\n",
       "      <td>9.776692e+05</td>\n",
       "      <td>2022-01-01</td>\n",
       "    </tr>\n",
       "    <tr>\n",
       "      <th>5</th>\n",
       "      <td>2022 Jul</td>\n",
       "      <td>1.753126e+06</td>\n",
       "      <td>2022-07-01</td>\n",
       "    </tr>\n",
       "    <tr>\n",
       "      <th>6</th>\n",
       "      <td>2022 Jun</td>\n",
       "      <td>1.521774e+06</td>\n",
       "      <td>2022-06-01</td>\n",
       "    </tr>\n",
       "    <tr>\n",
       "      <th>7</th>\n",
       "      <td>2022 Mar</td>\n",
       "      <td>1.189596e+06</td>\n",
       "      <td>2022-03-01</td>\n",
       "    </tr>\n",
       "    <tr>\n",
       "      <th>8</th>\n",
       "      <td>2022 May</td>\n",
       "      <td>1.403488e+06</td>\n",
       "      <td>2022-05-01</td>\n",
       "    </tr>\n",
       "    <tr>\n",
       "      <th>9</th>\n",
       "      <td>2022 Nov</td>\n",
       "      <td>2.367307e+06</td>\n",
       "      <td>2022-11-01</td>\n",
       "    </tr>\n",
       "    <tr>\n",
       "      <th>10</th>\n",
       "      <td>2022 Oct</td>\n",
       "      <td>1.987026e+06</td>\n",
       "      <td>2022-10-01</td>\n",
       "    </tr>\n",
       "    <tr>\n",
       "      <th>11</th>\n",
       "      <td>2022 Sep</td>\n",
       "      <td>2.024776e+06</td>\n",
       "      <td>2022-09-01</td>\n",
       "    </tr>\n",
       "    <tr>\n",
       "      <th>12</th>\n",
       "      <td>2023 Apr</td>\n",
       "      <td>2.369151e+06</td>\n",
       "      <td>2023-04-01</td>\n",
       "    </tr>\n",
       "    <tr>\n",
       "      <th>13</th>\n",
       "      <td>2023 Feb</td>\n",
       "      <td>2.280539e+06</td>\n",
       "      <td>2023-02-01</td>\n",
       "    </tr>\n",
       "    <tr>\n",
       "      <th>14</th>\n",
       "      <td>2023 Jan</td>\n",
       "      <td>2.264784e+06</td>\n",
       "      <td>2023-01-01</td>\n",
       "    </tr>\n",
       "    <tr>\n",
       "      <th>15</th>\n",
       "      <td>2023 Jun</td>\n",
       "      <td>1.626502e+06</td>\n",
       "      <td>2023-06-01</td>\n",
       "    </tr>\n",
       "    <tr>\n",
       "      <th>16</th>\n",
       "      <td>2023 Mar</td>\n",
       "      <td>2.524729e+06</td>\n",
       "      <td>2023-03-01</td>\n",
       "    </tr>\n",
       "    <tr>\n",
       "      <th>17</th>\n",
       "      <td>2023 May</td>\n",
       "      <td>9.754242e+05</td>\n",
       "      <td>2023-05-01</td>\n",
       "    </tr>\n",
       "  </tbody>\n",
       "</table>\n",
       "</div>"
      ],
      "text/plain": [
       "   year_month       revenue year_month_date\n",
       "0    2022 Apr  1.298202e+06      2022-04-01\n",
       "1    2022 Aug  1.940297e+06      2022-08-01\n",
       "2    2022 Dec  3.116363e+06      2022-12-01\n",
       "3    2022 Feb  1.050520e+06      2022-02-01\n",
       "4    2022 Jan  9.776692e+05      2022-01-01\n",
       "5    2022 Jul  1.753126e+06      2022-07-01\n",
       "6    2022 Jun  1.521774e+06      2022-06-01\n",
       "7    2022 Mar  1.189596e+06      2022-03-01\n",
       "8    2022 May  1.403488e+06      2022-05-01\n",
       "9    2022 Nov  2.367307e+06      2022-11-01\n",
       "10   2022 Oct  1.987026e+06      2022-10-01\n",
       "11   2022 Sep  2.024776e+06      2022-09-01\n",
       "12   2023 Apr  2.369151e+06      2023-04-01\n",
       "13   2023 Feb  2.280539e+06      2023-02-01\n",
       "14   2023 Jan  2.264784e+06      2023-01-01\n",
       "15   2023 Jun  1.626502e+06      2023-06-01\n",
       "16   2023 Mar  2.524729e+06      2023-03-01\n",
       "17   2023 May  9.754242e+05      2023-05-01"
      ]
     },
     "execution_count": 135,
     "metadata": {},
     "output_type": "execute_result"
    }
   ],
   "source": [
    "agg_revenue = final_revenue_df.groupby('year_month').revenue.sum().reset_index()\n",
    "agg_revenue['year_month_date'] = pd.to_datetime(agg_revenue['year_month'], format='%Y %b')\n",
    "agg_revenue"
   ]
  },
  {
   "cell_type": "code",
   "execution_count": 116,
   "id": "eb90e256-22f2-4fa9-89d1-19a194f6d2d1",
   "metadata": {},
   "outputs": [
    {
     "data": {
      "text/plain": [
       "1815070.6481481483"
      ]
     },
     "execution_count": 116,
     "metadata": {},
     "output_type": "execute_result"
    }
   ],
   "source": [
    "agg_revenue.revenue.mean()"
   ]
  },
  {
   "cell_type": "code",
   "execution_count": 132,
   "id": "ca3304f0-f56c-4ccf-bcd5-e07fedf5a10e",
   "metadata": {},
   "outputs": [
    {
     "data": {
      "text/plain": [
       "2.868227156016623"
      ]
     },
     "execution_count": 132,
     "metadata": {},
     "output_type": "execute_result"
    }
   ],
   "source": [
    "start_revenue = agg_revenue[agg_revenue['year_month_date'] == \"2022-01-01\"]['revenue'].values[0]\n",
    "end_revenue = agg_revenue[agg_revenue['year_month_date'] == \"2023-06-01\"]['revenue'].values[0]\n",
    "\n",
    "CMGR = ((end_revenue / start_revenue) ** (1/18)) - 1\n",
    "CMGR = CMGR * 100  # Convert to percentage\n",
    "CMGR"
   ]
  },
  {
   "cell_type": "code",
   "execution_count": 118,
   "id": "5c9a6d7a-6e06-4fc4-9483-fbe5d60db9f0",
   "metadata": {},
   "outputs": [
    {
     "name": "stdout",
     "output_type": "stream",
     "text": [
      "H1 2022 Revenue: $7,441,248.33\n",
      "H1 2023 Revenue: $12,041,129.17\n",
      "H1 YoY Growth from 2022 to 2023: 61.82%\n"
     ]
    }
   ],
   "source": [
    "import pandas as pd\n",
    "\n",
    "# Convert 'year_month' into datetime format for calculations\n",
    "final_revenue_df['year_month_date'] = pd.to_datetime(final_revenue_df['year_month'], format='%Y %b')\n",
    "\n",
    "# Filter data for H1 (January to June) for each year\n",
    "h1_data = final_revenue_df[final_revenue_df['year_month_date'].dt.month <= 6]\n",
    "\n",
    "# Group by year and sum the revenues for H1 of each year\n",
    "h1_annual_revenue = h1_data.groupby(h1_data['year_month_date'].dt.year)['revenue'].sum()\n",
    "\n",
    "# Calculate YoY growth for H1\n",
    "h1_yoy_growth = h1_annual_revenue.pct_change() * 100\n",
    "\n",
    "# Display the revenues and YoY growth\n",
    "print(f\"H1 2022 Revenue: ${h1_annual_revenue[2022]:,.2f}\")\n",
    "print(f\"H1 2023 Revenue: ${h1_annual_revenue[2023]:,.2f}\")\n",
    "print(f\"H1 YoY Growth from 2022 to 2023: {h1_yoy_growth[2023]:.2f}%\")\n"
   ]
  },
  {
   "cell_type": "code",
   "execution_count": 119,
   "id": "974bc396-8080-4e1a-a353-bf9da35cb940",
   "metadata": {},
   "outputs": [
    {
     "data": {
      "text/plain": [
       "1815070.6481481483"
      ]
     },
     "execution_count": 119,
     "metadata": {},
     "output_type": "execute_result"
    }
   ],
   "source": [
    "average_revenue_2022 = agg_revenue[agg_revenue['year_month_date'].dt.year == 2022]['revenue'].mean()\n",
    "average_revenue_2023 = agg_revenue[agg_revenue['year_month_date'].dt.year == 2023]['revenue'].mean()\n",
    "agg_revenue['revenue'].mean()"
   ]
  },
  {
   "cell_type": "code",
   "execution_count": 120,
   "id": "059536e2-cec8-4456-93e4-ca400471c229",
   "metadata": {},
   "outputs": [
    {
     "data": {
      "text/plain": [
       "1719178.5416666667"
      ]
     },
     "execution_count": 120,
     "metadata": {},
     "output_type": "execute_result"
    }
   ],
   "source": [
    "average_revenue_2022"
   ]
  },
  {
   "cell_type": "code",
   "execution_count": 121,
   "id": "3a13dde0-669a-465b-8432-824d31fada8e",
   "metadata": {},
   "outputs": [
    {
     "data": {
      "text/plain": [
       "2006854.8611111108"
      ]
     },
     "execution_count": 121,
     "metadata": {},
     "output_type": "execute_result"
    }
   ],
   "source": [
    "average_revenue_2023"
   ]
  },
  {
   "cell_type": "code",
   "execution_count": 122,
   "id": "a5bbce7f-5f9c-4260-b7ae-bf27a83e2d63",
   "metadata": {},
   "outputs": [],
   "source": [
    "final_revenue_df.to_clipboard()"
   ]
  },
  {
   "cell_type": "code",
   "execution_count": 123,
   "id": "914215c1-0d94-4a18-9565-5b646e10a063",
   "metadata": {},
   "outputs": [
    {
     "data": {
      "text/html": [
       "<div>\n",
       "<style scoped>\n",
       "    .dataframe tbody tr th:only-of-type {\n",
       "        vertical-align: middle;\n",
       "    }\n",
       "\n",
       "    .dataframe tbody tr th {\n",
       "        vertical-align: top;\n",
       "    }\n",
       "\n",
       "    .dataframe thead th {\n",
       "        text-align: right;\n",
       "    }\n",
       "</style>\n",
       "<table border=\"1\" class=\"dataframe\">\n",
       "  <thead>\n",
       "    <tr style=\"text-align: right;\">\n",
       "      <th></th>\n",
       "      <th>region</th>\n",
       "      <th>country</th>\n",
       "      <th>product</th>\n",
       "      <th>revenue</th>\n",
       "      <th>year_month</th>\n",
       "      <th>year_month_date</th>\n",
       "    </tr>\n",
       "  </thead>\n",
       "  <tbody>\n",
       "    <tr>\n",
       "      <th>0</th>\n",
       "      <td>Region 1</td>\n",
       "      <td>Country 1</td>\n",
       "      <td>premium</td>\n",
       "      <td>1180.0</td>\n",
       "      <td>2022 Jan</td>\n",
       "      <td>2022-01-01</td>\n",
       "    </tr>\n",
       "    <tr>\n",
       "      <th>1</th>\n",
       "      <td>Region 1</td>\n",
       "      <td>Country 1</td>\n",
       "      <td>premium</td>\n",
       "      <td>1480.0</td>\n",
       "      <td>2022 Feb</td>\n",
       "      <td>2022-02-01</td>\n",
       "    </tr>\n",
       "    <tr>\n",
       "      <th>2</th>\n",
       "      <td>Region 1</td>\n",
       "      <td>Country 1</td>\n",
       "      <td>premium</td>\n",
       "      <td>1760.0</td>\n",
       "      <td>2022 Mar</td>\n",
       "      <td>2022-03-01</td>\n",
       "    </tr>\n",
       "    <tr>\n",
       "      <th>3</th>\n",
       "      <td>Region 1</td>\n",
       "      <td>Country 1</td>\n",
       "      <td>premium</td>\n",
       "      <td>1880.0</td>\n",
       "      <td>2022 Apr</td>\n",
       "      <td>2022-04-01</td>\n",
       "    </tr>\n",
       "    <tr>\n",
       "      <th>4</th>\n",
       "      <td>Region 1</td>\n",
       "      <td>Country 1</td>\n",
       "      <td>premium</td>\n",
       "      <td>1980.0</td>\n",
       "      <td>2022 May</td>\n",
       "      <td>2022-05-01</td>\n",
       "    </tr>\n",
       "    <tr>\n",
       "      <th>...</th>\n",
       "      <td>...</td>\n",
       "      <td>...</td>\n",
       "      <td>...</td>\n",
       "      <td>...</td>\n",
       "      <td>...</td>\n",
       "      <td>...</td>\n",
       "    </tr>\n",
       "    <tr>\n",
       "      <th>1759</th>\n",
       "      <td>Region 3</td>\n",
       "      <td>Country 7</td>\n",
       "      <td>super_insights</td>\n",
       "      <td>0.0</td>\n",
       "      <td>2023 Feb</td>\n",
       "      <td>2023-02-01</td>\n",
       "    </tr>\n",
       "    <tr>\n",
       "      <th>1760</th>\n",
       "      <td>Region 3</td>\n",
       "      <td>Country 7</td>\n",
       "      <td>super_insights</td>\n",
       "      <td>3630.0</td>\n",
       "      <td>2023 Mar</td>\n",
       "      <td>2023-03-01</td>\n",
       "    </tr>\n",
       "    <tr>\n",
       "      <th>1761</th>\n",
       "      <td>Region 3</td>\n",
       "      <td>Country 7</td>\n",
       "      <td>super_insights</td>\n",
       "      <td>480.0</td>\n",
       "      <td>2023 Apr</td>\n",
       "      <td>2023-04-01</td>\n",
       "    </tr>\n",
       "    <tr>\n",
       "      <th>1762</th>\n",
       "      <td>Region 3</td>\n",
       "      <td>Country 7</td>\n",
       "      <td>super_insights</td>\n",
       "      <td>0.0</td>\n",
       "      <td>2023 May</td>\n",
       "      <td>2023-05-01</td>\n",
       "    </tr>\n",
       "    <tr>\n",
       "      <th>1763</th>\n",
       "      <td>Region 3</td>\n",
       "      <td>Country 7</td>\n",
       "      <td>super_insights</td>\n",
       "      <td>102000.0</td>\n",
       "      <td>2023 Jun</td>\n",
       "      <td>2023-06-01</td>\n",
       "    </tr>\n",
       "  </tbody>\n",
       "</table>\n",
       "<p>1764 rows × 6 columns</p>\n",
       "</div>"
      ],
      "text/plain": [
       "        region    country         product   revenue year_month year_month_date\n",
       "0     Region 1  Country 1         premium    1180.0   2022 Jan      2022-01-01\n",
       "1     Region 1  Country 1         premium    1480.0   2022 Feb      2022-02-01\n",
       "2     Region 1  Country 1         premium    1760.0   2022 Mar      2022-03-01\n",
       "3     Region 1  Country 1         premium    1880.0   2022 Apr      2022-04-01\n",
       "4     Region 1  Country 1         premium    1980.0   2022 May      2022-05-01\n",
       "...        ...        ...             ...       ...        ...             ...\n",
       "1759  Region 3  Country 7  super_insights       0.0   2023 Feb      2023-02-01\n",
       "1760  Region 3  Country 7  super_insights    3630.0   2023 Mar      2023-03-01\n",
       "1761  Region 3  Country 7  super_insights     480.0   2023 Apr      2023-04-01\n",
       "1762  Region 3  Country 7  super_insights       0.0   2023 May      2023-05-01\n",
       "1763  Region 3  Country 7  super_insights  102000.0   2023 Jun      2023-06-01\n",
       "\n",
       "[1764 rows x 6 columns]"
      ]
     },
     "execution_count": 123,
     "metadata": {},
     "output_type": "execute_result"
    }
   ],
   "source": [
    "final_revenue_df"
   ]
  },
  {
   "cell_type": "code",
   "execution_count": 124,
   "id": "3b710c62-3699-4ad4-bf5e-aeef41ba5264",
   "metadata": {},
   "outputs": [
    {
     "data": {
      "application/vnd.plotly.v1+json": {
       "config": {
        "plotlyServerURL": "https://plot.ly"
       },
       "data": [
        {
         "domain": {
          "column": 0
         },
         "hoverinfo": "label+percent+value",
         "labels": [
          "adv_insights",
          "basic_insights",
          "core",
          "custom_websites",
          "premium",
          "promos",
          "super_insights"
         ],
         "marker": {
          "colors": [
           "#1F7368",
           "#237D74",
           "#288781",
           "#2D918D",
           "#339B99"
          ]
         },
         "name": "Region 1",
         "text": [
          "$0.0M",
          "$1.0M",
          "$14.7M",
          "$0.0M",
          "$0.3M",
          "$0.0M",
          "$0.4M"
         ],
         "textinfo": "label+percent+text",
         "type": "pie",
         "values": [
          36256.66666666667,
          1048720,
          14707665,
          28775,
          326760,
          45680,
          433240
         ]
        },
        {
         "domain": {
          "column": 1
         },
         "hoverinfo": "label+percent+value",
         "labels": [
          "adv_insights",
          "basic_insights",
          "core",
          "custom_websites",
          "premium",
          "promos",
          "super_insights"
         ],
         "marker": {
          "colors": [
           "#B185B4",
           "#B590BA",
           "#BA9BC0",
           "#BFA6C6",
           "#C4B1CC"
          ]
         },
         "name": "Region 2",
         "text": [
          "$0.0M",
          "$0.7M",
          "$2.6M",
          "$0.0M",
          "$0.3M",
          "$0.0M",
          "$0.3M"
         ],
         "textinfo": "label+percent+text",
         "type": "pie",
         "values": [
          37870,
          697445,
          2550690,
          16505,
          323130,
          48510,
          301675
         ]
        },
        {
         "domain": {
          "column": 2
         },
         "hoverinfo": "label+percent+value",
         "labels": [
          "adv_insights",
          "basic_insights",
          "core",
          "custom_websites",
          "premium",
          "promos",
          "super_insights"
         ],
         "marker": {
          "colors": [
           "#A6C1D8",
           "#AAC6DE",
           "#AFCBE4",
           "#B4D0EA",
           "#B9D5F0"
          ]
         },
         "name": "Region 3",
         "text": [
          "$0.1M",
          "$2.4M",
          "$7.7M",
          "$0.0M",
          "$1.2M",
          "$0.0M",
          "$0.6M"
         ],
         "textinfo": "label+percent+text",
         "type": "pie",
         "values": [
          95840,
          2422870,
          7676040,
          16600,
          1229280,
          0,
          627720
         ]
        }
       ],
       "layout": {
        "annotations": [
         {
          "font": {
           "color": "#000000",
           "size": 15
          },
          "showarrow": false,
          "text": "Region 1",
          "x": 0.5,
          "y": -0.2
         },
         {
          "font": {
           "color": "#000000",
           "size": 15
          },
          "showarrow": false,
          "text": "Region 2",
          "x": 0.8333333333333333,
          "y": -0.2
         },
         {
          "font": {
           "color": "#000000",
           "size": 15
          },
          "showarrow": false,
          "text": "Region 3",
          "x": 1.1666666666666665,
          "y": -0.2
         }
        ],
        "autosize": false,
        "font": {
         "color": "#7f7f7f",
         "size": 15
        },
        "grid": {
         "columns": 3,
         "pattern": "independent",
         "rows": 2
        },
        "height": 2000,
        "margin": {
         "b": 20,
         "l": 20,
         "r": 20,
         "t": 40
        },
        "showlegend": false,
        "template": {
         "data": {
          "bar": [
           {
            "error_x": {
             "color": "#2a3f5f"
            },
            "error_y": {
             "color": "#2a3f5f"
            },
            "marker": {
             "line": {
              "color": "#E5ECF6",
              "width": 0.5
             },
             "pattern": {
              "fillmode": "overlay",
              "size": 10,
              "solidity": 0.2
             }
            },
            "type": "bar"
           }
          ],
          "barpolar": [
           {
            "marker": {
             "line": {
              "color": "#E5ECF6",
              "width": 0.5
             },
             "pattern": {
              "fillmode": "overlay",
              "size": 10,
              "solidity": 0.2
             }
            },
            "type": "barpolar"
           }
          ],
          "carpet": [
           {
            "aaxis": {
             "endlinecolor": "#2a3f5f",
             "gridcolor": "white",
             "linecolor": "white",
             "minorgridcolor": "white",
             "startlinecolor": "#2a3f5f"
            },
            "baxis": {
             "endlinecolor": "#2a3f5f",
             "gridcolor": "white",
             "linecolor": "white",
             "minorgridcolor": "white",
             "startlinecolor": "#2a3f5f"
            },
            "type": "carpet"
           }
          ],
          "choropleth": [
           {
            "colorbar": {
             "outlinewidth": 0,
             "ticks": ""
            },
            "type": "choropleth"
           }
          ],
          "contour": [
           {
            "colorbar": {
             "outlinewidth": 0,
             "ticks": ""
            },
            "colorscale": [
             [
              0,
              "#0d0887"
             ],
             [
              0.1111111111111111,
              "#46039f"
             ],
             [
              0.2222222222222222,
              "#7201a8"
             ],
             [
              0.3333333333333333,
              "#9c179e"
             ],
             [
              0.4444444444444444,
              "#bd3786"
             ],
             [
              0.5555555555555556,
              "#d8576b"
             ],
             [
              0.6666666666666666,
              "#ed7953"
             ],
             [
              0.7777777777777778,
              "#fb9f3a"
             ],
             [
              0.8888888888888888,
              "#fdca26"
             ],
             [
              1,
              "#f0f921"
             ]
            ],
            "type": "contour"
           }
          ],
          "contourcarpet": [
           {
            "colorbar": {
             "outlinewidth": 0,
             "ticks": ""
            },
            "type": "contourcarpet"
           }
          ],
          "heatmap": [
           {
            "colorbar": {
             "outlinewidth": 0,
             "ticks": ""
            },
            "colorscale": [
             [
              0,
              "#0d0887"
             ],
             [
              0.1111111111111111,
              "#46039f"
             ],
             [
              0.2222222222222222,
              "#7201a8"
             ],
             [
              0.3333333333333333,
              "#9c179e"
             ],
             [
              0.4444444444444444,
              "#bd3786"
             ],
             [
              0.5555555555555556,
              "#d8576b"
             ],
             [
              0.6666666666666666,
              "#ed7953"
             ],
             [
              0.7777777777777778,
              "#fb9f3a"
             ],
             [
              0.8888888888888888,
              "#fdca26"
             ],
             [
              1,
              "#f0f921"
             ]
            ],
            "type": "heatmap"
           }
          ],
          "heatmapgl": [
           {
            "colorbar": {
             "outlinewidth": 0,
             "ticks": ""
            },
            "colorscale": [
             [
              0,
              "#0d0887"
             ],
             [
              0.1111111111111111,
              "#46039f"
             ],
             [
              0.2222222222222222,
              "#7201a8"
             ],
             [
              0.3333333333333333,
              "#9c179e"
             ],
             [
              0.4444444444444444,
              "#bd3786"
             ],
             [
              0.5555555555555556,
              "#d8576b"
             ],
             [
              0.6666666666666666,
              "#ed7953"
             ],
             [
              0.7777777777777778,
              "#fb9f3a"
             ],
             [
              0.8888888888888888,
              "#fdca26"
             ],
             [
              1,
              "#f0f921"
             ]
            ],
            "type": "heatmapgl"
           }
          ],
          "histogram": [
           {
            "marker": {
             "pattern": {
              "fillmode": "overlay",
              "size": 10,
              "solidity": 0.2
             }
            },
            "type": "histogram"
           }
          ],
          "histogram2d": [
           {
            "colorbar": {
             "outlinewidth": 0,
             "ticks": ""
            },
            "colorscale": [
             [
              0,
              "#0d0887"
             ],
             [
              0.1111111111111111,
              "#46039f"
             ],
             [
              0.2222222222222222,
              "#7201a8"
             ],
             [
              0.3333333333333333,
              "#9c179e"
             ],
             [
              0.4444444444444444,
              "#bd3786"
             ],
             [
              0.5555555555555556,
              "#d8576b"
             ],
             [
              0.6666666666666666,
              "#ed7953"
             ],
             [
              0.7777777777777778,
              "#fb9f3a"
             ],
             [
              0.8888888888888888,
              "#fdca26"
             ],
             [
              1,
              "#f0f921"
             ]
            ],
            "type": "histogram2d"
           }
          ],
          "histogram2dcontour": [
           {
            "colorbar": {
             "outlinewidth": 0,
             "ticks": ""
            },
            "colorscale": [
             [
              0,
              "#0d0887"
             ],
             [
              0.1111111111111111,
              "#46039f"
             ],
             [
              0.2222222222222222,
              "#7201a8"
             ],
             [
              0.3333333333333333,
              "#9c179e"
             ],
             [
              0.4444444444444444,
              "#bd3786"
             ],
             [
              0.5555555555555556,
              "#d8576b"
             ],
             [
              0.6666666666666666,
              "#ed7953"
             ],
             [
              0.7777777777777778,
              "#fb9f3a"
             ],
             [
              0.8888888888888888,
              "#fdca26"
             ],
             [
              1,
              "#f0f921"
             ]
            ],
            "type": "histogram2dcontour"
           }
          ],
          "mesh3d": [
           {
            "colorbar": {
             "outlinewidth": 0,
             "ticks": ""
            },
            "type": "mesh3d"
           }
          ],
          "parcoords": [
           {
            "line": {
             "colorbar": {
              "outlinewidth": 0,
              "ticks": ""
             }
            },
            "type": "parcoords"
           }
          ],
          "pie": [
           {
            "automargin": true,
            "type": "pie"
           }
          ],
          "scatter": [
           {
            "fillpattern": {
             "fillmode": "overlay",
             "size": 10,
             "solidity": 0.2
            },
            "type": "scatter"
           }
          ],
          "scatter3d": [
           {
            "line": {
             "colorbar": {
              "outlinewidth": 0,
              "ticks": ""
             }
            },
            "marker": {
             "colorbar": {
              "outlinewidth": 0,
              "ticks": ""
             }
            },
            "type": "scatter3d"
           }
          ],
          "scattercarpet": [
           {
            "marker": {
             "colorbar": {
              "outlinewidth": 0,
              "ticks": ""
             }
            },
            "type": "scattercarpet"
           }
          ],
          "scattergeo": [
           {
            "marker": {
             "colorbar": {
              "outlinewidth": 0,
              "ticks": ""
             }
            },
            "type": "scattergeo"
           }
          ],
          "scattergl": [
           {
            "marker": {
             "colorbar": {
              "outlinewidth": 0,
              "ticks": ""
             }
            },
            "type": "scattergl"
           }
          ],
          "scattermapbox": [
           {
            "marker": {
             "colorbar": {
              "outlinewidth": 0,
              "ticks": ""
             }
            },
            "type": "scattermapbox"
           }
          ],
          "scatterpolar": [
           {
            "marker": {
             "colorbar": {
              "outlinewidth": 0,
              "ticks": ""
             }
            },
            "type": "scatterpolar"
           }
          ],
          "scatterpolargl": [
           {
            "marker": {
             "colorbar": {
              "outlinewidth": 0,
              "ticks": ""
             }
            },
            "type": "scatterpolargl"
           }
          ],
          "scatterternary": [
           {
            "marker": {
             "colorbar": {
              "outlinewidth": 0,
              "ticks": ""
             }
            },
            "type": "scatterternary"
           }
          ],
          "surface": [
           {
            "colorbar": {
             "outlinewidth": 0,
             "ticks": ""
            },
            "colorscale": [
             [
              0,
              "#0d0887"
             ],
             [
              0.1111111111111111,
              "#46039f"
             ],
             [
              0.2222222222222222,
              "#7201a8"
             ],
             [
              0.3333333333333333,
              "#9c179e"
             ],
             [
              0.4444444444444444,
              "#bd3786"
             ],
             [
              0.5555555555555556,
              "#d8576b"
             ],
             [
              0.6666666666666666,
              "#ed7953"
             ],
             [
              0.7777777777777778,
              "#fb9f3a"
             ],
             [
              0.8888888888888888,
              "#fdca26"
             ],
             [
              1,
              "#f0f921"
             ]
            ],
            "type": "surface"
           }
          ],
          "table": [
           {
            "cells": {
             "fill": {
              "color": "#EBF0F8"
             },
             "line": {
              "color": "white"
             }
            },
            "header": {
             "fill": {
              "color": "#C8D4E3"
             },
             "line": {
              "color": "white"
             }
            },
            "type": "table"
           }
          ]
         },
         "layout": {
          "annotationdefaults": {
           "arrowcolor": "#2a3f5f",
           "arrowhead": 0,
           "arrowwidth": 1
          },
          "autotypenumbers": "strict",
          "coloraxis": {
           "colorbar": {
            "outlinewidth": 0,
            "ticks": ""
           }
          },
          "colorscale": {
           "diverging": [
            [
             0,
             "#8e0152"
            ],
            [
             0.1,
             "#c51b7d"
            ],
            [
             0.2,
             "#de77ae"
            ],
            [
             0.3,
             "#f1b6da"
            ],
            [
             0.4,
             "#fde0ef"
            ],
            [
             0.5,
             "#f7f7f7"
            ],
            [
             0.6,
             "#e6f5d0"
            ],
            [
             0.7,
             "#b8e186"
            ],
            [
             0.8,
             "#7fbc41"
            ],
            [
             0.9,
             "#4d9221"
            ],
            [
             1,
             "#276419"
            ]
           ],
           "sequential": [
            [
             0,
             "#0d0887"
            ],
            [
             0.1111111111111111,
             "#46039f"
            ],
            [
             0.2222222222222222,
             "#7201a8"
            ],
            [
             0.3333333333333333,
             "#9c179e"
            ],
            [
             0.4444444444444444,
             "#bd3786"
            ],
            [
             0.5555555555555556,
             "#d8576b"
            ],
            [
             0.6666666666666666,
             "#ed7953"
            ],
            [
             0.7777777777777778,
             "#fb9f3a"
            ],
            [
             0.8888888888888888,
             "#fdca26"
            ],
            [
             1,
             "#f0f921"
            ]
           ],
           "sequentialminus": [
            [
             0,
             "#0d0887"
            ],
            [
             0.1111111111111111,
             "#46039f"
            ],
            [
             0.2222222222222222,
             "#7201a8"
            ],
            [
             0.3333333333333333,
             "#9c179e"
            ],
            [
             0.4444444444444444,
             "#bd3786"
            ],
            [
             0.5555555555555556,
             "#d8576b"
            ],
            [
             0.6666666666666666,
             "#ed7953"
            ],
            [
             0.7777777777777778,
             "#fb9f3a"
            ],
            [
             0.8888888888888888,
             "#fdca26"
            ],
            [
             1,
             "#f0f921"
            ]
           ]
          },
          "colorway": [
           "#636efa",
           "#EF553B",
           "#00cc96",
           "#ab63fa",
           "#FFA15A",
           "#19d3f3",
           "#FF6692",
           "#B6E880",
           "#FF97FF",
           "#FECB52"
          ],
          "font": {
           "color": "#2a3f5f"
          },
          "geo": {
           "bgcolor": "white",
           "lakecolor": "white",
           "landcolor": "#E5ECF6",
           "showlakes": true,
           "showland": true,
           "subunitcolor": "white"
          },
          "hoverlabel": {
           "align": "left"
          },
          "hovermode": "closest",
          "mapbox": {
           "style": "light"
          },
          "paper_bgcolor": "white",
          "plot_bgcolor": "#E5ECF6",
          "polar": {
           "angularaxis": {
            "gridcolor": "white",
            "linecolor": "white",
            "ticks": ""
           },
           "bgcolor": "#E5ECF6",
           "radialaxis": {
            "gridcolor": "white",
            "linecolor": "white",
            "ticks": ""
           }
          },
          "scene": {
           "xaxis": {
            "backgroundcolor": "#E5ECF6",
            "gridcolor": "white",
            "gridwidth": 2,
            "linecolor": "white",
            "showbackground": true,
            "ticks": "",
            "zerolinecolor": "white"
           },
           "yaxis": {
            "backgroundcolor": "#E5ECF6",
            "gridcolor": "white",
            "gridwidth": 2,
            "linecolor": "white",
            "showbackground": true,
            "ticks": "",
            "zerolinecolor": "white"
           },
           "zaxis": {
            "backgroundcolor": "#E5ECF6",
            "gridcolor": "white",
            "gridwidth": 2,
            "linecolor": "white",
            "showbackground": true,
            "ticks": "",
            "zerolinecolor": "white"
           }
          },
          "shapedefaults": {
           "line": {
            "color": "#2a3f5f"
           }
          },
          "ternary": {
           "aaxis": {
            "gridcolor": "white",
            "linecolor": "white",
            "ticks": ""
           },
           "baxis": {
            "gridcolor": "white",
            "linecolor": "white",
            "ticks": ""
           },
           "bgcolor": "#E5ECF6",
           "caxis": {
            "gridcolor": "white",
            "linecolor": "white",
            "ticks": ""
           }
          },
          "title": {
           "x": 0.05
          },
          "xaxis": {
           "automargin": true,
           "gridcolor": "white",
           "linecolor": "white",
           "ticks": "",
           "title": {
            "standoff": 15
           },
           "zerolinecolor": "white",
           "zerolinewidth": 2
          },
          "yaxis": {
           "automargin": true,
           "gridcolor": "white",
           "linecolor": "white",
           "ticks": "",
           "title": {
            "standoff": 15
           },
           "zerolinecolor": "white",
           "zerolinewidth": 2
          }
         }
        },
        "width": 2000
       }
      },
      "text/html": [
       "<div>                            <div id=\"5cd66225-7e73-4355-9d5d-5bfaa7b0a505\" class=\"plotly-graph-div\" style=\"height:2000px; width:2000px;\"></div>            <script type=\"text/javascript\">                require([\"plotly\"], function(Plotly) {                    window.PLOTLYENV=window.PLOTLYENV || {};                                    if (document.getElementById(\"5cd66225-7e73-4355-9d5d-5bfaa7b0a505\")) {                    Plotly.newPlot(                        \"5cd66225-7e73-4355-9d5d-5bfaa7b0a505\",                        [{\"domain\":{\"column\":0},\"hoverinfo\":\"label+percent+value\",\"labels\":[\"adv_insights\",\"basic_insights\",\"core\",\"custom_websites\",\"premium\",\"promos\",\"super_insights\"],\"marker\":{\"colors\":[\"#1F7368\",\"#237D74\",\"#288781\",\"#2D918D\",\"#339B99\"]},\"name\":\"Region 1\",\"text\":[\"$0.0M\",\"$1.0M\",\"$14.7M\",\"$0.0M\",\"$0.3M\",\"$0.0M\",\"$0.4M\"],\"textinfo\":\"label+percent+text\",\"values\":[36256.66666666667,1048720.0,14707665.0,28775.0,326760.0,45680.0,433240.0],\"type\":\"pie\"},{\"domain\":{\"column\":1},\"hoverinfo\":\"label+percent+value\",\"labels\":[\"adv_insights\",\"basic_insights\",\"core\",\"custom_websites\",\"premium\",\"promos\",\"super_insights\"],\"marker\":{\"colors\":[\"#B185B4\",\"#B590BA\",\"#BA9BC0\",\"#BFA6C6\",\"#C4B1CC\"]},\"name\":\"Region 2\",\"text\":[\"$0.0M\",\"$0.7M\",\"$2.6M\",\"$0.0M\",\"$0.3M\",\"$0.0M\",\"$0.3M\"],\"textinfo\":\"label+percent+text\",\"values\":[37870.0,697445.0,2550690.0,16505.0,323130.0,48510.0,301675.0],\"type\":\"pie\"},{\"domain\":{\"column\":2},\"hoverinfo\":\"label+percent+value\",\"labels\":[\"adv_insights\",\"basic_insights\",\"core\",\"custom_websites\",\"premium\",\"promos\",\"super_insights\"],\"marker\":{\"colors\":[\"#A6C1D8\",\"#AAC6DE\",\"#AFCBE4\",\"#B4D0EA\",\"#B9D5F0\"]},\"name\":\"Region 3\",\"text\":[\"$0.1M\",\"$2.4M\",\"$7.7M\",\"$0.0M\",\"$1.2M\",\"$0.0M\",\"$0.6M\"],\"textinfo\":\"label+percent+text\",\"values\":[95840.0,2422870.0,7676040.0,16600.0,1229280.0,0.0,627720.0],\"type\":\"pie\"}],                        {\"template\":{\"data\":{\"barpolar\":[{\"marker\":{\"line\":{\"color\":\"#E5ECF6\",\"width\":0.5},\"pattern\":{\"fillmode\":\"overlay\",\"size\":10,\"solidity\":0.2}},\"type\":\"barpolar\"}],\"bar\":[{\"error_x\":{\"color\":\"#2a3f5f\"},\"error_y\":{\"color\":\"#2a3f5f\"},\"marker\":{\"line\":{\"color\":\"#E5ECF6\",\"width\":0.5},\"pattern\":{\"fillmode\":\"overlay\",\"size\":10,\"solidity\":0.2}},\"type\":\"bar\"}],\"carpet\":[{\"aaxis\":{\"endlinecolor\":\"#2a3f5f\",\"gridcolor\":\"white\",\"linecolor\":\"white\",\"minorgridcolor\":\"white\",\"startlinecolor\":\"#2a3f5f\"},\"baxis\":{\"endlinecolor\":\"#2a3f5f\",\"gridcolor\":\"white\",\"linecolor\":\"white\",\"minorgridcolor\":\"white\",\"startlinecolor\":\"#2a3f5f\"},\"type\":\"carpet\"}],\"choropleth\":[{\"colorbar\":{\"outlinewidth\":0,\"ticks\":\"\"},\"type\":\"choropleth\"}],\"contourcarpet\":[{\"colorbar\":{\"outlinewidth\":0,\"ticks\":\"\"},\"type\":\"contourcarpet\"}],\"contour\":[{\"colorbar\":{\"outlinewidth\":0,\"ticks\":\"\"},\"colorscale\":[[0.0,\"#0d0887\"],[0.1111111111111111,\"#46039f\"],[0.2222222222222222,\"#7201a8\"],[0.3333333333333333,\"#9c179e\"],[0.4444444444444444,\"#bd3786\"],[0.5555555555555556,\"#d8576b\"],[0.6666666666666666,\"#ed7953\"],[0.7777777777777778,\"#fb9f3a\"],[0.8888888888888888,\"#fdca26\"],[1.0,\"#f0f921\"]],\"type\":\"contour\"}],\"heatmapgl\":[{\"colorbar\":{\"outlinewidth\":0,\"ticks\":\"\"},\"colorscale\":[[0.0,\"#0d0887\"],[0.1111111111111111,\"#46039f\"],[0.2222222222222222,\"#7201a8\"],[0.3333333333333333,\"#9c179e\"],[0.4444444444444444,\"#bd3786\"],[0.5555555555555556,\"#d8576b\"],[0.6666666666666666,\"#ed7953\"],[0.7777777777777778,\"#fb9f3a\"],[0.8888888888888888,\"#fdca26\"],[1.0,\"#f0f921\"]],\"type\":\"heatmapgl\"}],\"heatmap\":[{\"colorbar\":{\"outlinewidth\":0,\"ticks\":\"\"},\"colorscale\":[[0.0,\"#0d0887\"],[0.1111111111111111,\"#46039f\"],[0.2222222222222222,\"#7201a8\"],[0.3333333333333333,\"#9c179e\"],[0.4444444444444444,\"#bd3786\"],[0.5555555555555556,\"#d8576b\"],[0.6666666666666666,\"#ed7953\"],[0.7777777777777778,\"#fb9f3a\"],[0.8888888888888888,\"#fdca26\"],[1.0,\"#f0f921\"]],\"type\":\"heatmap\"}],\"histogram2dcontour\":[{\"colorbar\":{\"outlinewidth\":0,\"ticks\":\"\"},\"colorscale\":[[0.0,\"#0d0887\"],[0.1111111111111111,\"#46039f\"],[0.2222222222222222,\"#7201a8\"],[0.3333333333333333,\"#9c179e\"],[0.4444444444444444,\"#bd3786\"],[0.5555555555555556,\"#d8576b\"],[0.6666666666666666,\"#ed7953\"],[0.7777777777777778,\"#fb9f3a\"],[0.8888888888888888,\"#fdca26\"],[1.0,\"#f0f921\"]],\"type\":\"histogram2dcontour\"}],\"histogram2d\":[{\"colorbar\":{\"outlinewidth\":0,\"ticks\":\"\"},\"colorscale\":[[0.0,\"#0d0887\"],[0.1111111111111111,\"#46039f\"],[0.2222222222222222,\"#7201a8\"],[0.3333333333333333,\"#9c179e\"],[0.4444444444444444,\"#bd3786\"],[0.5555555555555556,\"#d8576b\"],[0.6666666666666666,\"#ed7953\"],[0.7777777777777778,\"#fb9f3a\"],[0.8888888888888888,\"#fdca26\"],[1.0,\"#f0f921\"]],\"type\":\"histogram2d\"}],\"histogram\":[{\"marker\":{\"pattern\":{\"fillmode\":\"overlay\",\"size\":10,\"solidity\":0.2}},\"type\":\"histogram\"}],\"mesh3d\":[{\"colorbar\":{\"outlinewidth\":0,\"ticks\":\"\"},\"type\":\"mesh3d\"}],\"parcoords\":[{\"line\":{\"colorbar\":{\"outlinewidth\":0,\"ticks\":\"\"}},\"type\":\"parcoords\"}],\"pie\":[{\"automargin\":true,\"type\":\"pie\"}],\"scatter3d\":[{\"line\":{\"colorbar\":{\"outlinewidth\":0,\"ticks\":\"\"}},\"marker\":{\"colorbar\":{\"outlinewidth\":0,\"ticks\":\"\"}},\"type\":\"scatter3d\"}],\"scattercarpet\":[{\"marker\":{\"colorbar\":{\"outlinewidth\":0,\"ticks\":\"\"}},\"type\":\"scattercarpet\"}],\"scattergeo\":[{\"marker\":{\"colorbar\":{\"outlinewidth\":0,\"ticks\":\"\"}},\"type\":\"scattergeo\"}],\"scattergl\":[{\"marker\":{\"colorbar\":{\"outlinewidth\":0,\"ticks\":\"\"}},\"type\":\"scattergl\"}],\"scattermapbox\":[{\"marker\":{\"colorbar\":{\"outlinewidth\":0,\"ticks\":\"\"}},\"type\":\"scattermapbox\"}],\"scatterpolargl\":[{\"marker\":{\"colorbar\":{\"outlinewidth\":0,\"ticks\":\"\"}},\"type\":\"scatterpolargl\"}],\"scatterpolar\":[{\"marker\":{\"colorbar\":{\"outlinewidth\":0,\"ticks\":\"\"}},\"type\":\"scatterpolar\"}],\"scatter\":[{\"fillpattern\":{\"fillmode\":\"overlay\",\"size\":10,\"solidity\":0.2},\"type\":\"scatter\"}],\"scatterternary\":[{\"marker\":{\"colorbar\":{\"outlinewidth\":0,\"ticks\":\"\"}},\"type\":\"scatterternary\"}],\"surface\":[{\"colorbar\":{\"outlinewidth\":0,\"ticks\":\"\"},\"colorscale\":[[0.0,\"#0d0887\"],[0.1111111111111111,\"#46039f\"],[0.2222222222222222,\"#7201a8\"],[0.3333333333333333,\"#9c179e\"],[0.4444444444444444,\"#bd3786\"],[0.5555555555555556,\"#d8576b\"],[0.6666666666666666,\"#ed7953\"],[0.7777777777777778,\"#fb9f3a\"],[0.8888888888888888,\"#fdca26\"],[1.0,\"#f0f921\"]],\"type\":\"surface\"}],\"table\":[{\"cells\":{\"fill\":{\"color\":\"#EBF0F8\"},\"line\":{\"color\":\"white\"}},\"header\":{\"fill\":{\"color\":\"#C8D4E3\"},\"line\":{\"color\":\"white\"}},\"type\":\"table\"}]},\"layout\":{\"annotationdefaults\":{\"arrowcolor\":\"#2a3f5f\",\"arrowhead\":0,\"arrowwidth\":1},\"autotypenumbers\":\"strict\",\"coloraxis\":{\"colorbar\":{\"outlinewidth\":0,\"ticks\":\"\"}},\"colorscale\":{\"diverging\":[[0,\"#8e0152\"],[0.1,\"#c51b7d\"],[0.2,\"#de77ae\"],[0.3,\"#f1b6da\"],[0.4,\"#fde0ef\"],[0.5,\"#f7f7f7\"],[0.6,\"#e6f5d0\"],[0.7,\"#b8e186\"],[0.8,\"#7fbc41\"],[0.9,\"#4d9221\"],[1,\"#276419\"]],\"sequential\":[[0.0,\"#0d0887\"],[0.1111111111111111,\"#46039f\"],[0.2222222222222222,\"#7201a8\"],[0.3333333333333333,\"#9c179e\"],[0.4444444444444444,\"#bd3786\"],[0.5555555555555556,\"#d8576b\"],[0.6666666666666666,\"#ed7953\"],[0.7777777777777778,\"#fb9f3a\"],[0.8888888888888888,\"#fdca26\"],[1.0,\"#f0f921\"]],\"sequentialminus\":[[0.0,\"#0d0887\"],[0.1111111111111111,\"#46039f\"],[0.2222222222222222,\"#7201a8\"],[0.3333333333333333,\"#9c179e\"],[0.4444444444444444,\"#bd3786\"],[0.5555555555555556,\"#d8576b\"],[0.6666666666666666,\"#ed7953\"],[0.7777777777777778,\"#fb9f3a\"],[0.8888888888888888,\"#fdca26\"],[1.0,\"#f0f921\"]]},\"colorway\":[\"#636efa\",\"#EF553B\",\"#00cc96\",\"#ab63fa\",\"#FFA15A\",\"#19d3f3\",\"#FF6692\",\"#B6E880\",\"#FF97FF\",\"#FECB52\"],\"font\":{\"color\":\"#2a3f5f\"},\"geo\":{\"bgcolor\":\"white\",\"lakecolor\":\"white\",\"landcolor\":\"#E5ECF6\",\"showlakes\":true,\"showland\":true,\"subunitcolor\":\"white\"},\"hoverlabel\":{\"align\":\"left\"},\"hovermode\":\"closest\",\"mapbox\":{\"style\":\"light\"},\"paper_bgcolor\":\"white\",\"plot_bgcolor\":\"#E5ECF6\",\"polar\":{\"angularaxis\":{\"gridcolor\":\"white\",\"linecolor\":\"white\",\"ticks\":\"\"},\"bgcolor\":\"#E5ECF6\",\"radialaxis\":{\"gridcolor\":\"white\",\"linecolor\":\"white\",\"ticks\":\"\"}},\"scene\":{\"xaxis\":{\"backgroundcolor\":\"#E5ECF6\",\"gridcolor\":\"white\",\"gridwidth\":2,\"linecolor\":\"white\",\"showbackground\":true,\"ticks\":\"\",\"zerolinecolor\":\"white\"},\"yaxis\":{\"backgroundcolor\":\"#E5ECF6\",\"gridcolor\":\"white\",\"gridwidth\":2,\"linecolor\":\"white\",\"showbackground\":true,\"ticks\":\"\",\"zerolinecolor\":\"white\"},\"zaxis\":{\"backgroundcolor\":\"#E5ECF6\",\"gridcolor\":\"white\",\"gridwidth\":2,\"linecolor\":\"white\",\"showbackground\":true,\"ticks\":\"\",\"zerolinecolor\":\"white\"}},\"shapedefaults\":{\"line\":{\"color\":\"#2a3f5f\"}},\"ternary\":{\"aaxis\":{\"gridcolor\":\"white\",\"linecolor\":\"white\",\"ticks\":\"\"},\"baxis\":{\"gridcolor\":\"white\",\"linecolor\":\"white\",\"ticks\":\"\"},\"bgcolor\":\"#E5ECF6\",\"caxis\":{\"gridcolor\":\"white\",\"linecolor\":\"white\",\"ticks\":\"\"}},\"title\":{\"x\":0.05},\"xaxis\":{\"automargin\":true,\"gridcolor\":\"white\",\"linecolor\":\"white\",\"ticks\":\"\",\"title\":{\"standoff\":15},\"zerolinecolor\":\"white\",\"zerolinewidth\":2},\"yaxis\":{\"automargin\":true,\"gridcolor\":\"white\",\"linecolor\":\"white\",\"ticks\":\"\",\"title\":{\"standoff\":15},\"zerolinecolor\":\"white\",\"zerolinewidth\":2}}},\"grid\":{\"rows\":2,\"columns\":3,\"pattern\":\"independent\"},\"margin\":{\"t\":40,\"b\":20,\"r\":20,\"l\":20},\"font\":{\"size\":15,\"color\":\"#7f7f7f\"},\"height\":2000,\"width\":2000,\"showlegend\":false,\"autosize\":false,\"annotations\":[{\"font\":{\"color\":\"#000000\",\"size\":15},\"showarrow\":false,\"text\":\"Region 1\",\"x\":0.5,\"y\":-0.2},{\"font\":{\"color\":\"#000000\",\"size\":15},\"showarrow\":false,\"text\":\"Region 2\",\"x\":0.8333333333333333,\"y\":-0.2},{\"font\":{\"color\":\"#000000\",\"size\":15},\"showarrow\":false,\"text\":\"Region 3\",\"x\":1.1666666666666665,\"y\":-0.2}]},                        {\"responsive\": true}                    ).then(function(){\n",
       "                            \n",
       "var gd = document.getElementById('5cd66225-7e73-4355-9d5d-5bfaa7b0a505');\n",
       "var x = new MutationObserver(function (mutations, observer) {{\n",
       "        var display = window.getComputedStyle(gd).display;\n",
       "        if (!display || display === 'none') {{\n",
       "            console.log([gd, 'removed!']);\n",
       "            Plotly.purge(gd);\n",
       "            observer.disconnect();\n",
       "        }}\n",
       "}});\n",
       "\n",
       "// Listen for the removal of the full notebook cells\n",
       "var notebookContainer = gd.closest('#notebook-container');\n",
       "if (notebookContainer) {{\n",
       "    x.observe(notebookContainer, {childList: true});\n",
       "}}\n",
       "\n",
       "// Listen for the clearing of the current output cell\n",
       "var outputEl = gd.closest('.output');\n",
       "if (outputEl) {{\n",
       "    x.observe(outputEl, {childList: true});\n",
       "}}\n",
       "\n",
       "                        })                };                });            </script>        </div>"
      ]
     },
     "metadata": {},
     "output_type": "display_data"
    }
   ],
   "source": [
    "import plotly.graph_objects as go\n",
    "\n",
    "# Group by region and country for aggregated revenue\n",
    "grouped_data = final_revenue_df.groupby(['region', 'product'])['revenue'].sum().reset_index()\n",
    "\n",
    "# Format revenue values in the DataFrame\n",
    "grouped_data['formatted_revenue'] = grouped_data['revenue'].apply(lambda x: f\"${x/1e6:.1f}M\")\n",
    "\n",
    "# Color palette based on the colors provided and extended to accommodate 15 countries\n",
    "palette = [\n",
    "    '#1F7368', '#237D74', '#288781', '#2D918D', '#339B99', \n",
    "    '#B185B4', '#B590BA', '#BA9BC0', '#BFA6C6', '#C4B1CC', \n",
    "    '#A6C1D8', '#AAC6DE', '#AFCBE4', '#B4D0EA', '#B9D5F0'\n",
    "]\n",
    "\n",
    "# Create pie charts for each region\n",
    "fig = go.Figure()\n",
    "\n",
    "# Assuming you have three regions: 'Region 1', 'Region 2', and 'Region 3'\n",
    "regions = ['Region 1', 'Region 2', 'Region 3']\n",
    "\n",
    "for i, region in enumerate(regions):\n",
    "    region_data = grouped_data[grouped_data['region'] == region]\n",
    "    fig.add_trace(go.Pie(\n",
    "        labels=region_data['product'],\n",
    "        values=region_data['revenue'],\n",
    "        name=region,\n",
    "        marker_colors=palette[i*5:i*5+5],  # Assigning 5 colors per region\n",
    "        domain={'column': i},\n",
    "        hoverinfo='label+percent+value',\n",
    "        textinfo='label+percent+text',\n",
    "        text=region_data['formatted_revenue'],  # Using the formatted revenue values\n",
    "    ))\n",
    "\n",
    "# Update layout for increased spacing and Region labels\n",
    "fig.update_layout(\n",
    "    grid={'rows': 2, 'columns': 3, 'pattern': 'independent'},\n",
    "    margin=dict(t=40, b=20, r=20, l=20),\n",
    "    height=2000,\n",
    "    width=2000,\n",
    "    showlegend=False,\n",
    "    autosize=False,\n",
    "    template=\"plotly\",  # Use the default Plotly template,\n",
    "    font=dict(size=15, color=\"#7f7f7f\"),\n",
    "    annotations=[\n",
    "        dict(text=region, x=0.5 + i/3, y=-0.2, showarrow=False, font=dict(size=15, color=\"#000000\"))\n",
    "        for i, region in enumerate(regions)\n",
    "    ],\n",
    ")\n",
    "\n",
    "# Show the figure\n",
    "fig.show()\n"
   ]
  },
  {
   "cell_type": "code",
   "execution_count": null,
   "id": "079833df-6eac-400f-af7b-a123e9294c4f",
   "metadata": {},
   "outputs": [],
   "source": []
  },
  {
   "cell_type": "markdown",
   "id": "da8440d2-9f68-48fb-a752-be8a686d2a35",
   "metadata": {},
   "source": [
    "## Product Adoption"
   ]
  },
  {
   "cell_type": "code",
   "execution_count": 125,
   "id": "cbfb22f7-3897-4309-8cab-32a56358ebce",
   "metadata": {},
   "outputs": [],
   "source": [
    "new_users = df.copy()"
   ]
  },
  {
   "cell_type": "code",
   "execution_count": 126,
   "id": "3a6c3db2-f68b-48ad-ac6f-61f03d8023eb",
   "metadata": {},
   "outputs": [
    {
     "data": {
      "text/html": [
       "<div>\n",
       "<style scoped>\n",
       "    .dataframe tbody tr th:only-of-type {\n",
       "        vertical-align: middle;\n",
       "    }\n",
       "\n",
       "    .dataframe tbody tr th {\n",
       "        vertical-align: top;\n",
       "    }\n",
       "\n",
       "    .dataframe thead th {\n",
       "        text-align: right;\n",
       "    }\n",
       "</style>\n",
       "<table border=\"1\" class=\"dataframe\">\n",
       "  <thead>\n",
       "    <tr style=\"text-align: right;\">\n",
       "      <th></th>\n",
       "      <th>day_partition</th>\n",
       "      <th>region</th>\n",
       "      <th>country</th>\n",
       "      <th>locations</th>\n",
       "      <th>overall_daily_active</th>\n",
       "      <th>overall_daily_access</th>\n",
       "      <th>overall_weekly_active</th>\n",
       "      <th>overall_weekly_access</th>\n",
       "      <th>overall_monthly_active</th>\n",
       "      <th>overall_monthly_access</th>\n",
       "      <th>...</th>\n",
       "      <th>adv_insights_weekly_access</th>\n",
       "      <th>adv_insights_monthly_active</th>\n",
       "      <th>adv_insights_monthly_access</th>\n",
       "      <th>super_insights_daily_active</th>\n",
       "      <th>super_insights_daily_access</th>\n",
       "      <th>super_insights_weekly_active</th>\n",
       "      <th>super_insights_weekly_access</th>\n",
       "      <th>super_insights_monthly_active</th>\n",
       "      <th>super_insights_monthly_access</th>\n",
       "      <th>month_year_period</th>\n",
       "    </tr>\n",
       "  </thead>\n",
       "  <tbody>\n",
       "    <tr>\n",
       "      <th>0</th>\n",
       "      <td>2022-01-01</td>\n",
       "      <td>Region 1</td>\n",
       "      <td>Country 1</td>\n",
       "      <td>3918</td>\n",
       "      <td>1489</td>\n",
       "      <td>3197</td>\n",
       "      <td>1489</td>\n",
       "      <td>3197</td>\n",
       "      <td>1489</td>\n",
       "      <td>3197</td>\n",
       "      <td>...</td>\n",
       "      <td>0</td>\n",
       "      <td>0</td>\n",
       "      <td>0</td>\n",
       "      <td>313</td>\n",
       "      <td>460</td>\n",
       "      <td>313</td>\n",
       "      <td>460</td>\n",
       "      <td>313</td>\n",
       "      <td>460</td>\n",
       "      <td>2022-01</td>\n",
       "    </tr>\n",
       "    <tr>\n",
       "      <th>1</th>\n",
       "      <td>2022-01-03</td>\n",
       "      <td>Region 1</td>\n",
       "      <td>Country 1</td>\n",
       "      <td>3918</td>\n",
       "      <td>1571</td>\n",
       "      <td>3195</td>\n",
       "      <td>1759</td>\n",
       "      <td>3200</td>\n",
       "      <td>1759</td>\n",
       "      <td>3200</td>\n",
       "      <td>...</td>\n",
       "      <td>0</td>\n",
       "      <td>0</td>\n",
       "      <td>0</td>\n",
       "      <td>367</td>\n",
       "      <td>512</td>\n",
       "      <td>629</td>\n",
       "      <td>763</td>\n",
       "      <td>629</td>\n",
       "      <td>763</td>\n",
       "      <td>2022-01</td>\n",
       "    </tr>\n",
       "    <tr>\n",
       "      <th>2</th>\n",
       "      <td>2022-01-04</td>\n",
       "      <td>Region 1</td>\n",
       "      <td>Country 1</td>\n",
       "      <td>3918</td>\n",
       "      <td>1709</td>\n",
       "      <td>3195</td>\n",
       "      <td>1876</td>\n",
       "      <td>3200</td>\n",
       "      <td>1876</td>\n",
       "      <td>3200</td>\n",
       "      <td>...</td>\n",
       "      <td>0</td>\n",
       "      <td>0</td>\n",
       "      <td>0</td>\n",
       "      <td>471</td>\n",
       "      <td>607</td>\n",
       "      <td>780</td>\n",
       "      <td>905</td>\n",
       "      <td>780</td>\n",
       "      <td>905</td>\n",
       "      <td>2022-01</td>\n",
       "    </tr>\n",
       "    <tr>\n",
       "      <th>3</th>\n",
       "      <td>2022-01-05</td>\n",
       "      <td>Region 1</td>\n",
       "      <td>Country 1</td>\n",
       "      <td>3948</td>\n",
       "      <td>1720</td>\n",
       "      <td>3213</td>\n",
       "      <td>1922</td>\n",
       "      <td>3219</td>\n",
       "      <td>1922</td>\n",
       "      <td>3219</td>\n",
       "      <td>...</td>\n",
       "      <td>0</td>\n",
       "      <td>0</td>\n",
       "      <td>0</td>\n",
       "      <td>475</td>\n",
       "      <td>619</td>\n",
       "      <td>856</td>\n",
       "      <td>982</td>\n",
       "      <td>856</td>\n",
       "      <td>982</td>\n",
       "      <td>2022-01</td>\n",
       "    </tr>\n",
       "    <tr>\n",
       "      <th>4</th>\n",
       "      <td>2022-01-06</td>\n",
       "      <td>Region 1</td>\n",
       "      <td>Country 1</td>\n",
       "      <td>3948</td>\n",
       "      <td>1776</td>\n",
       "      <td>3215</td>\n",
       "      <td>1968</td>\n",
       "      <td>3221</td>\n",
       "      <td>1968</td>\n",
       "      <td>3221</td>\n",
       "      <td>...</td>\n",
       "      <td>0</td>\n",
       "      <td>0</td>\n",
       "      <td>0</td>\n",
       "      <td>358</td>\n",
       "      <td>494</td>\n",
       "      <td>884</td>\n",
       "      <td>1001</td>\n",
       "      <td>884</td>\n",
       "      <td>1001</td>\n",
       "      <td>2022-01</td>\n",
       "    </tr>\n",
       "    <tr>\n",
       "      <th>...</th>\n",
       "      <td>...</td>\n",
       "      <td>...</td>\n",
       "      <td>...</td>\n",
       "      <td>...</td>\n",
       "      <td>...</td>\n",
       "      <td>...</td>\n",
       "      <td>...</td>\n",
       "      <td>...</td>\n",
       "      <td>...</td>\n",
       "      <td>...</td>\n",
       "      <td>...</td>\n",
       "      <td>...</td>\n",
       "      <td>...</td>\n",
       "      <td>...</td>\n",
       "      <td>...</td>\n",
       "      <td>...</td>\n",
       "      <td>...</td>\n",
       "      <td>...</td>\n",
       "      <td>...</td>\n",
       "      <td>...</td>\n",
       "      <td>...</td>\n",
       "    </tr>\n",
       "    <tr>\n",
       "      <th>20480</th>\n",
       "      <td>2023-06-07</td>\n",
       "      <td>Region 1</td>\n",
       "      <td>Country 9</td>\n",
       "      <td>7</td>\n",
       "      <td>2</td>\n",
       "      <td>4</td>\n",
       "      <td>3</td>\n",
       "      <td>4</td>\n",
       "      <td>4</td>\n",
       "      <td>6</td>\n",
       "      <td>...</td>\n",
       "      <td>0</td>\n",
       "      <td>4</td>\n",
       "      <td>4</td>\n",
       "      <td>0</td>\n",
       "      <td>0</td>\n",
       "      <td>0</td>\n",
       "      <td>0</td>\n",
       "      <td>2</td>\n",
       "      <td>2</td>\n",
       "      <td>2023-06</td>\n",
       "    </tr>\n",
       "    <tr>\n",
       "      <th>20481</th>\n",
       "      <td>2023-06-08</td>\n",
       "      <td>Region 1</td>\n",
       "      <td>Country 9</td>\n",
       "      <td>7</td>\n",
       "      <td>2</td>\n",
       "      <td>4</td>\n",
       "      <td>3</td>\n",
       "      <td>4</td>\n",
       "      <td>4</td>\n",
       "      <td>6</td>\n",
       "      <td>...</td>\n",
       "      <td>1</td>\n",
       "      <td>4</td>\n",
       "      <td>4</td>\n",
       "      <td>0</td>\n",
       "      <td>0</td>\n",
       "      <td>0</td>\n",
       "      <td>0</td>\n",
       "      <td>2</td>\n",
       "      <td>2</td>\n",
       "      <td>2023-06</td>\n",
       "    </tr>\n",
       "    <tr>\n",
       "      <th>20482</th>\n",
       "      <td>2023-06-09</td>\n",
       "      <td>Region 1</td>\n",
       "      <td>Country 9</td>\n",
       "      <td>7</td>\n",
       "      <td>2</td>\n",
       "      <td>4</td>\n",
       "      <td>3</td>\n",
       "      <td>4</td>\n",
       "      <td>4</td>\n",
       "      <td>6</td>\n",
       "      <td>...</td>\n",
       "      <td>1</td>\n",
       "      <td>4</td>\n",
       "      <td>4</td>\n",
       "      <td>0</td>\n",
       "      <td>0</td>\n",
       "      <td>0</td>\n",
       "      <td>0</td>\n",
       "      <td>2</td>\n",
       "      <td>2</td>\n",
       "      <td>2023-06</td>\n",
       "    </tr>\n",
       "    <tr>\n",
       "      <th>20483</th>\n",
       "      <td>2023-06-10</td>\n",
       "      <td>Region 1</td>\n",
       "      <td>Country 9</td>\n",
       "      <td>7</td>\n",
       "      <td>3</td>\n",
       "      <td>4</td>\n",
       "      <td>3</td>\n",
       "      <td>4</td>\n",
       "      <td>4</td>\n",
       "      <td>6</td>\n",
       "      <td>...</td>\n",
       "      <td>1</td>\n",
       "      <td>4</td>\n",
       "      <td>4</td>\n",
       "      <td>2</td>\n",
       "      <td>2</td>\n",
       "      <td>2</td>\n",
       "      <td>2</td>\n",
       "      <td>2</td>\n",
       "      <td>2</td>\n",
       "      <td>2023-06</td>\n",
       "    </tr>\n",
       "    <tr>\n",
       "      <th>20484</th>\n",
       "      <td>2023-06-11</td>\n",
       "      <td>Region 1</td>\n",
       "      <td>Country 9</td>\n",
       "      <td>7</td>\n",
       "      <td>2</td>\n",
       "      <td>4</td>\n",
       "      <td>3</td>\n",
       "      <td>4</td>\n",
       "      <td>4</td>\n",
       "      <td>6</td>\n",
       "      <td>...</td>\n",
       "      <td>1</td>\n",
       "      <td>4</td>\n",
       "      <td>4</td>\n",
       "      <td>0</td>\n",
       "      <td>0</td>\n",
       "      <td>2</td>\n",
       "      <td>2</td>\n",
       "      <td>2</td>\n",
       "      <td>2</td>\n",
       "      <td>2023-06</td>\n",
       "    </tr>\n",
       "  </tbody>\n",
       "</table>\n",
       "<p>20485 rows × 59 columns</p>\n",
       "</div>"
      ],
      "text/plain": [
       "      day_partition    region    country  locations  overall_daily_active  \\\n",
       "0        2022-01-01  Region 1  Country 1       3918                  1489   \n",
       "1        2022-01-03  Region 1  Country 1       3918                  1571   \n",
       "2        2022-01-04  Region 1  Country 1       3918                  1709   \n",
       "3        2022-01-05  Region 1  Country 1       3948                  1720   \n",
       "4        2022-01-06  Region 1  Country 1       3948                  1776   \n",
       "...             ...       ...        ...        ...                   ...   \n",
       "20480    2023-06-07  Region 1  Country 9          7                     2   \n",
       "20481    2023-06-08  Region 1  Country 9          7                     2   \n",
       "20482    2023-06-09  Region 1  Country 9          7                     2   \n",
       "20483    2023-06-10  Region 1  Country 9          7                     3   \n",
       "20484    2023-06-11  Region 1  Country 9          7                     2   \n",
       "\n",
       "       overall_daily_access  overall_weekly_active  overall_weekly_access  \\\n",
       "0                      3197                   1489                   3197   \n",
       "1                      3195                   1759                   3200   \n",
       "2                      3195                   1876                   3200   \n",
       "3                      3213                   1922                   3219   \n",
       "4                      3215                   1968                   3221   \n",
       "...                     ...                    ...                    ...   \n",
       "20480                     4                      3                      4   \n",
       "20481                     4                      3                      4   \n",
       "20482                     4                      3                      4   \n",
       "20483                     4                      3                      4   \n",
       "20484                     4                      3                      4   \n",
       "\n",
       "       overall_monthly_active  overall_monthly_access  ...  \\\n",
       "0                        1489                    3197  ...   \n",
       "1                        1759                    3200  ...   \n",
       "2                        1876                    3200  ...   \n",
       "3                        1922                    3219  ...   \n",
       "4                        1968                    3221  ...   \n",
       "...                       ...                     ...  ...   \n",
       "20480                       4                       6  ...   \n",
       "20481                       4                       6  ...   \n",
       "20482                       4                       6  ...   \n",
       "20483                       4                       6  ...   \n",
       "20484                       4                       6  ...   \n",
       "\n",
       "       adv_insights_weekly_access  adv_insights_monthly_active  \\\n",
       "0                               0                            0   \n",
       "1                               0                            0   \n",
       "2                               0                            0   \n",
       "3                               0                            0   \n",
       "4                               0                            0   \n",
       "...                           ...                          ...   \n",
       "20480                           0                            4   \n",
       "20481                           1                            4   \n",
       "20482                           1                            4   \n",
       "20483                           1                            4   \n",
       "20484                           1                            4   \n",
       "\n",
       "       adv_insights_monthly_access  super_insights_daily_active  \\\n",
       "0                                0                          313   \n",
       "1                                0                          367   \n",
       "2                                0                          471   \n",
       "3                                0                          475   \n",
       "4                                0                          358   \n",
       "...                            ...                          ...   \n",
       "20480                            4                            0   \n",
       "20481                            4                            0   \n",
       "20482                            4                            0   \n",
       "20483                            4                            2   \n",
       "20484                            4                            0   \n",
       "\n",
       "       super_insights_daily_access  super_insights_weekly_active  \\\n",
       "0                              460                           313   \n",
       "1                              512                           629   \n",
       "2                              607                           780   \n",
       "3                              619                           856   \n",
       "4                              494                           884   \n",
       "...                            ...                           ...   \n",
       "20480                            0                             0   \n",
       "20481                            0                             0   \n",
       "20482                            0                             0   \n",
       "20483                            2                             2   \n",
       "20484                            0                             2   \n",
       "\n",
       "       super_insights_weekly_access  super_insights_monthly_active  \\\n",
       "0                               460                            313   \n",
       "1                               763                            629   \n",
       "2                               905                            780   \n",
       "3                               982                            856   \n",
       "4                              1001                            884   \n",
       "...                             ...                            ...   \n",
       "20480                             0                              2   \n",
       "20481                             0                              2   \n",
       "20482                             0                              2   \n",
       "20483                             2                              2   \n",
       "20484                             2                              2   \n",
       "\n",
       "       super_insights_monthly_access  month_year_period  \n",
       "0                                460            2022-01  \n",
       "1                                763            2022-01  \n",
       "2                                905            2022-01  \n",
       "3                                982            2022-01  \n",
       "4                               1001            2022-01  \n",
       "...                              ...                ...  \n",
       "20480                              2            2023-06  \n",
       "20481                              2            2023-06  \n",
       "20482                              2            2023-06  \n",
       "20483                              2            2023-06  \n",
       "20484                              2            2023-06  \n",
       "\n",
       "[20485 rows x 59 columns]"
      ]
     },
     "execution_count": 126,
     "metadata": {},
     "output_type": "execute_result"
    }
   ],
   "source": [
    "new_users"
   ]
  },
  {
   "cell_type": "code",
   "execution_count": 127,
   "id": "756d9a83-3d25-42ba-bffb-34cd48ffa01a",
   "metadata": {},
   "outputs": [
    {
     "data": {
      "text/html": [
       "<div>\n",
       "<style scoped>\n",
       "    .dataframe tbody tr th:only-of-type {\n",
       "        vertical-align: middle;\n",
       "    }\n",
       "\n",
       "    .dataframe tbody tr th {\n",
       "        vertical-align: top;\n",
       "    }\n",
       "\n",
       "    .dataframe thead th {\n",
       "        text-align: right;\n",
       "    }\n",
       "</style>\n",
       "<table border=\"1\" class=\"dataframe\">\n",
       "  <thead>\n",
       "    <tr style=\"text-align: right;\">\n",
       "      <th></th>\n",
       "      <th>year_month</th>\n",
       "      <th>region</th>\n",
       "      <th>country</th>\n",
       "      <th>product</th>\n",
       "      <th>new users gained</th>\n",
       "    </tr>\n",
       "  </thead>\n",
       "  <tbody>\n",
       "    <tr>\n",
       "      <th>1</th>\n",
       "      <td>2022-02</td>\n",
       "      <td>Region 1</td>\n",
       "      <td>Country 1</td>\n",
       "      <td>overall</td>\n",
       "      <td>103.0</td>\n",
       "    </tr>\n",
       "    <tr>\n",
       "      <th>2</th>\n",
       "      <td>2022-03</td>\n",
       "      <td>Region 1</td>\n",
       "      <td>Country 1</td>\n",
       "      <td>overall</td>\n",
       "      <td>369.0</td>\n",
       "    </tr>\n",
       "    <tr>\n",
       "      <th>3</th>\n",
       "      <td>2022-04</td>\n",
       "      <td>Region 1</td>\n",
       "      <td>Country 1</td>\n",
       "      <td>overall</td>\n",
       "      <td>206.0</td>\n",
       "    </tr>\n",
       "    <tr>\n",
       "      <th>4</th>\n",
       "      <td>2022-05</td>\n",
       "      <td>Region 1</td>\n",
       "      <td>Country 1</td>\n",
       "      <td>overall</td>\n",
       "      <td>203.0</td>\n",
       "    </tr>\n",
       "    <tr>\n",
       "      <th>5</th>\n",
       "      <td>2022-06</td>\n",
       "      <td>Region 1</td>\n",
       "      <td>Country 1</td>\n",
       "      <td>overall</td>\n",
       "      <td>63.0</td>\n",
       "    </tr>\n",
       "    <tr>\n",
       "      <th>...</th>\n",
       "      <td>...</td>\n",
       "      <td>...</td>\n",
       "      <td>...</td>\n",
       "      <td>...</td>\n",
       "      <td>...</td>\n",
       "    </tr>\n",
       "    <tr>\n",
       "      <th>5604</th>\n",
       "      <td>2022-07</td>\n",
       "      <td>Region 1</td>\n",
       "      <td>Country 9</td>\n",
       "      <td>super_insights</td>\n",
       "      <td>-1.0</td>\n",
       "    </tr>\n",
       "    <tr>\n",
       "      <th>5605</th>\n",
       "      <td>2022-08</td>\n",
       "      <td>Region 1</td>\n",
       "      <td>Country 9</td>\n",
       "      <td>super_insights</td>\n",
       "      <td>-2.0</td>\n",
       "    </tr>\n",
       "    <tr>\n",
       "      <th>5607</th>\n",
       "      <td>2022-10</td>\n",
       "      <td>Region 1</td>\n",
       "      <td>Country 9</td>\n",
       "      <td>super_insights</td>\n",
       "      <td>2.0</td>\n",
       "    </tr>\n",
       "    <tr>\n",
       "      <th>5608</th>\n",
       "      <td>2022-11</td>\n",
       "      <td>Region 1</td>\n",
       "      <td>Country 9</td>\n",
       "      <td>super_insights</td>\n",
       "      <td>-2.0</td>\n",
       "    </tr>\n",
       "    <tr>\n",
       "      <th>5611</th>\n",
       "      <td>2023-02</td>\n",
       "      <td>Region 1</td>\n",
       "      <td>Country 9</td>\n",
       "      <td>super_insights</td>\n",
       "      <td>2.0</td>\n",
       "    </tr>\n",
       "  </tbody>\n",
       "</table>\n",
       "<p>4073 rows × 5 columns</p>\n",
       "</div>"
      ],
      "text/plain": [
       "     year_month    region    country         product  new users gained\n",
       "1       2022-02  Region 1  Country 1         overall             103.0\n",
       "2       2022-03  Region 1  Country 1         overall             369.0\n",
       "3       2022-04  Region 1  Country 1         overall             206.0\n",
       "4       2022-05  Region 1  Country 1         overall             203.0\n",
       "5       2022-06  Region 1  Country 1         overall              63.0\n",
       "...         ...       ...        ...             ...               ...\n",
       "5604    2022-07  Region 1  Country 9  super_insights              -1.0\n",
       "5605    2022-08  Region 1  Country 9  super_insights              -2.0\n",
       "5607    2022-10  Region 1  Country 9  super_insights               2.0\n",
       "5608    2022-11  Region 1  Country 9  super_insights              -2.0\n",
       "5611    2023-02  Region 1  Country 9  super_insights               2.0\n",
       "\n",
       "[4073 rows x 5 columns]"
      ]
     },
     "metadata": {},
     "output_type": "display_data"
    }
   ],
   "source": [
    "import pandas as pd\n",
    "\n",
    "\n",
    "# Determine the last day of each month for each region and country\n",
    "new_users['year_month'] = new_users['day_partition'].dt.to_period('M')\n",
    "last_day_per_month = new_users.groupby(['year_month', 'region', 'country']).day_partition.max().reset_index()\n",
    "\n",
    "# Filter the dataset to only include these last days\n",
    "filtered_df = pd.merge(new_users, last_day_per_month, on=['year_month', 'region', 'country', 'day_partition'])\n",
    "\n",
    "# Compute the new users gained for each product by taking the difference of the monthly_access value\n",
    "# from the current month's end to the last value of the previous month\n",
    "for product in products:\n",
    "    access_column = f\"{product}_monthly_access\"\n",
    "    new_users_column = f\"new_{product}_users\"\n",
    "    \n",
    "    filtered_df[new_users_column] = filtered_df.groupby(['region', 'country'])[access_column].diff().fillna(0)\n",
    "\n",
    "# Reshape the DataFrame to get the desired output structure\n",
    "melted_df = filtered_df.melt(id_vars=['year_month', 'region', 'country'], \n",
    "                             value_vars=[f\"new_{product}_users\" for product in products], \n",
    "                             var_name='product', \n",
    "                             value_name='new users gained')\n",
    "\n",
    "# Rename the columns for clarity and filter out any records with zero new users\n",
    "melted_df['product'] = melted_df['product'].str.replace('new_', '').str.replace('_users', '')\n",
    "final_df = melted_df[melted_df['new users gained'] != 0]\n",
    "\n",
    "display(final_df)\n"
   ]
  },
  {
   "cell_type": "code",
   "execution_count": 128,
   "id": "8c203141-05bd-4ef7-ae34-df6876e3d3f5",
   "metadata": {},
   "outputs": [
    {
     "data": {
      "text/plain": [
       "Index(['year_month', 'region', 'country', 'product', 'new users gained'], dtype='object')"
      ]
     },
     "execution_count": 128,
     "metadata": {},
     "output_type": "execute_result"
    }
   ],
   "source": [
    "final_df.columns"
   ]
  },
  {
   "cell_type": "code",
   "execution_count": 129,
   "id": "5c223384-3429-4e55-83c3-524741bad453",
   "metadata": {},
   "outputs": [
    {
     "data": {
      "text/html": [
       "<div>\n",
       "<style scoped>\n",
       "    .dataframe tbody tr th:only-of-type {\n",
       "        vertical-align: middle;\n",
       "    }\n",
       "\n",
       "    .dataframe tbody tr th {\n",
       "        vertical-align: top;\n",
       "    }\n",
       "\n",
       "    .dataframe thead th {\n",
       "        text-align: right;\n",
       "    }\n",
       "</style>\n",
       "<table border=\"1\" class=\"dataframe\">\n",
       "  <thead>\n",
       "    <tr style=\"text-align: right;\">\n",
       "      <th></th>\n",
       "      <th>year_month</th>\n",
       "      <th>region</th>\n",
       "      <th>country</th>\n",
       "      <th>product</th>\n",
       "      <th>new users gained</th>\n",
       "    </tr>\n",
       "  </thead>\n",
       "  <tbody>\n",
       "    <tr>\n",
       "      <th>1</th>\n",
       "      <td>2022-02</td>\n",
       "      <td>Region 1</td>\n",
       "      <td>Country 1</td>\n",
       "      <td>overall</td>\n",
       "      <td>103.0</td>\n",
       "    </tr>\n",
       "    <tr>\n",
       "      <th>2</th>\n",
       "      <td>2022-03</td>\n",
       "      <td>Region 1</td>\n",
       "      <td>Country 1</td>\n",
       "      <td>overall</td>\n",
       "      <td>369.0</td>\n",
       "    </tr>\n",
       "  </tbody>\n",
       "</table>\n",
       "</div>"
      ],
      "text/plain": [
       "  year_month    region    country  product  new users gained\n",
       "1    2022-02  Region 1  Country 1  overall             103.0\n",
       "2    2022-03  Region 1  Country 1  overall             369.0"
      ]
     },
     "execution_count": 129,
     "metadata": {},
     "output_type": "execute_result"
    }
   ],
   "source": [
    "final_df.head(2)"
   ]
  },
  {
   "cell_type": "code",
   "execution_count": 130,
   "id": "7ee4320e-682d-4f21-add3-883c81125a7e",
   "metadata": {},
   "outputs": [
    {
     "name": "stderr",
     "output_type": "stream",
     "text": [
      "/var/folders/_7/4ybfgjcj1f10b_0pmwylvx_80000gn/T/ipykernel_4379/866742776.py:2: SettingWithCopyWarning:\n",
      "\n",
      "\n",
      "A value is trying to be set on a copy of a slice from a DataFrame.\n",
      "Try using .loc[row_indexer,col_indexer] = value instead\n",
      "\n",
      "See the caveats in the documentation: https://pandas.pydata.org/pandas-docs/stable/user_guide/indexing.html#returning-a-view-versus-a-copy\n",
      "\n"
     ]
    },
    {
     "data": {
      "application/vnd.plotly.v1+json": {
       "config": {
        "plotlyServerURL": "https://plot.ly"
       },
       "data": [
        {
         "alignmentgroup": "True",
         "hovertemplate": "product=adv_insights<br>year_month=%{x}<br>New Users Gained=%{y}<extra></extra>",
         "legendgroup": "adv_insights",
         "marker": {
          "color": "#000001",
          "pattern": {
           "shape": ""
          }
         },
         "name": "adv_insights",
         "offsetgroup": "adv_insights",
         "orientation": "v",
         "showlegend": true,
         "textposition": "auto",
         "type": "bar",
         "x": [
          "2022-01",
          "2022-02",
          "2022-03",
          "2022-04",
          "2022-05",
          "2022-06",
          "2022-07",
          "2022-08",
          "2022-09",
          "2022-10",
          "2022-11",
          "2022-12",
          "2023-01",
          "2023-02",
          "2023-03",
          "2023-04",
          "2023-05",
          "2023-06",
          "2022-01",
          "2022-02",
          "2022-03",
          "2022-04",
          "2022-05",
          "2022-06",
          "2022-07",
          "2022-08",
          "2022-09",
          "2022-10",
          "2022-11",
          "2022-12",
          "2023-01",
          "2023-02",
          "2023-03",
          "2023-04",
          "2023-05",
          "2023-06",
          "2022-01",
          "2022-02",
          "2022-03",
          "2022-04",
          "2022-05",
          "2022-06",
          "2022-07",
          "2022-08",
          "2022-09",
          "2022-10",
          "2022-11",
          "2022-12",
          "2023-01",
          "2023-02",
          "2023-03",
          "2023-04",
          "2023-05",
          "2023-06"
         ],
         "xaxis": "x",
         "y": [
          -2,
          0,
          3,
          1393,
          2209,
          -1618,
          692,
          111,
          -550,
          331,
          -213,
          337,
          114,
          -109,
          -607,
          -501,
          249,
          -32,
          -1,
          1,
          7,
          101,
          81,
          -1,
          -53,
          -19,
          133,
          176,
          -97,
          -148,
          346,
          -73,
          69,
          -220,
          399,
          -117,
          null,
          null,
          null,
          0,
          0,
          0,
          13,
          -12,
          1,
          801,
          -185,
          -616,
          5,
          2438,
          -1546,
          17,
          -507,
          -42
         ],
         "yaxis": "y"
        },
        {
         "alignmentgroup": "True",
         "hovertemplate": "product=basic_insights<br>year_month=%{x}<br>New Users Gained=%{y}<extra></extra>",
         "legendgroup": "basic_insights",
         "marker": {
          "color": "#000002",
          "pattern": {
           "shape": ""
          }
         },
         "name": "basic_insights",
         "offsetgroup": "basic_insights",
         "orientation": "v",
         "showlegend": true,
         "textposition": "auto",
         "type": "bar",
         "x": [
          "2022-01",
          "2022-02",
          "2022-03",
          "2022-04",
          "2022-05",
          "2022-06",
          "2022-07",
          "2022-08",
          "2022-09",
          "2022-10",
          "2022-11",
          "2022-12",
          "2023-01",
          "2023-02",
          "2023-03",
          "2023-04",
          "2023-05",
          "2023-06",
          "2022-01",
          "2022-02",
          "2022-03",
          "2022-04",
          "2022-05",
          "2022-06",
          "2022-07",
          "2022-08",
          "2022-09",
          "2022-10",
          "2022-11",
          "2022-12",
          "2023-01",
          "2023-02",
          "2023-03",
          "2023-04",
          "2023-05",
          "2023-06",
          "2022-01",
          "2022-02",
          "2022-03",
          "2022-04",
          "2022-05",
          "2022-06",
          "2022-07",
          "2022-08",
          "2022-09",
          "2022-10",
          "2022-11",
          "2022-12",
          "2023-01",
          "2023-02",
          "2023-03",
          "2023-04",
          "2023-05",
          "2023-06"
         ],
         "xaxis": "x",
         "y": [
          -182,
          628,
          879,
          1381,
          2133,
          4167,
          1564,
          -3555,
          -634,
          5034,
          2890,
          -8353,
          -1400,
          -119,
          -1616,
          -1085,
          -304,
          -200,
          237,
          142,
          148,
          -16,
          417,
          95,
          -8,
          270,
          -230,
          31,
          -115,
          -488,
          -27,
          -12,
          118,
          -827,
          67,
          17,
          -16,
          1675,
          118,
          525,
          534,
          944,
          1129,
          885,
          -878,
          939,
          -954,
          -717,
          496,
          -101,
          -934,
          -4041,
          -288,
          16
         ],
         "yaxis": "y"
        },
        {
         "alignmentgroup": "True",
         "hovertemplate": "product=core<br>year_month=%{x}<br>New Users Gained=%{y}<extra></extra>",
         "legendgroup": "core",
         "marker": {
          "color": "#000003",
          "pattern": {
           "shape": ""
          }
         },
         "name": "core",
         "offsetgroup": "core",
         "orientation": "v",
         "showlegend": true,
         "textposition": "auto",
         "type": "bar",
         "x": [
          "2022-01",
          "2022-02",
          "2022-03",
          "2022-04",
          "2022-05",
          "2022-06",
          "2022-07",
          "2022-08",
          "2022-09",
          "2022-10",
          "2022-11",
          "2022-12",
          "2023-01",
          "2023-02",
          "2023-03",
          "2023-04",
          "2023-05",
          "2023-06",
          "2022-01",
          "2022-02",
          "2022-03",
          "2022-04",
          "2022-05",
          "2022-06",
          "2022-07",
          "2022-08",
          "2022-09",
          "2022-10",
          "2022-11",
          "2022-12",
          "2023-01",
          "2023-02",
          "2023-03",
          "2023-04",
          "2023-05",
          "2023-06",
          "2022-01",
          "2022-02",
          "2022-03",
          "2022-04",
          "2022-05",
          "2022-06",
          "2022-07",
          "2022-08",
          "2022-09",
          "2022-10",
          "2022-11",
          "2022-12",
          "2023-01",
          "2023-02",
          "2023-03",
          "2023-04",
          "2023-05",
          "2023-06"
         ],
         "xaxis": "x",
         "y": [
          -196,
          1469,
          4577,
          3344,
          5794,
          5147,
          4687,
          8083,
          5171,
          4182,
          4228,
          6103,
          -4246,
          8609,
          12799,
          -88818,
          -333,
          -195,
          211,
          149,
          141,
          81,
          40,
          -5,
          -22,
          97,
          10,
          62,
          -139,
          -351,
          -25,
          -12,
          181,
          -292,
          60,
          22,
          0,
          70,
          -31,
          817,
          -688,
          574,
          111,
          861,
          -701,
          116,
          2601,
          -3291,
          364,
          -145,
          4,
          -663,
          7,
          -23
         ],
         "yaxis": "y"
        },
        {
         "alignmentgroup": "True",
         "hovertemplate": "product=custom_websites<br>year_month=%{x}<br>New Users Gained=%{y}<extra></extra>",
         "legendgroup": "custom_websites",
         "marker": {
          "color": "#000004",
          "pattern": {
           "shape": ""
          }
         },
         "name": "custom_websites",
         "offsetgroup": "custom_websites",
         "orientation": "v",
         "showlegend": true,
         "textposition": "auto",
         "type": "bar",
         "x": [
          "2022-01",
          "2022-02",
          "2022-03",
          "2022-04",
          "2022-05",
          "2022-06",
          "2022-07",
          "2022-08",
          "2022-09",
          "2022-10",
          "2022-11",
          "2022-12",
          "2023-01",
          "2023-02",
          "2023-03",
          "2023-04",
          "2023-05",
          "2023-06",
          "2022-01",
          "2022-02",
          "2022-03",
          "2022-04",
          "2022-05",
          "2022-06",
          "2022-07",
          "2022-08",
          "2022-09",
          "2022-10",
          "2022-11",
          "2022-12",
          "2023-01",
          "2023-02",
          "2023-03",
          "2023-04",
          "2023-05",
          "2023-06",
          "2022-01",
          "2022-02",
          "2022-03",
          "2022-04",
          "2022-05",
          "2022-06",
          "2022-07",
          "2022-08",
          "2022-09",
          "2022-10",
          "2022-11",
          "2022-12",
          "2023-01",
          "2023-02",
          "2023-03",
          "2023-04",
          "2023-05",
          "2023-06"
         ],
         "xaxis": "x",
         "y": [
          -1,
          9,
          2,
          2,
          1,
          1,
          14,
          150,
          -134,
          24,
          -1,
          391,
          32,
          -6,
          -1,
          -15,
          9,
          -36,
          0,
          0,
          0,
          0,
          0,
          0,
          13,
          91,
          -58,
          -29,
          6,
          62,
          37,
          19,
          11,
          -14,
          3,
          1,
          null,
          null,
          0,
          null,
          null,
          0,
          null,
          null,
          2,
          4,
          2,
          27,
          6,
          3,
          12,
          6,
          11,
          3
         ],
         "yaxis": "y"
        },
        {
         "alignmentgroup": "True",
         "hovertemplate": "product=overall<br>year_month=%{x}<br>New Users Gained=%{y}<extra></extra>",
         "legendgroup": "overall",
         "marker": {
          "color": "#000005",
          "pattern": {
           "shape": ""
          }
         },
         "name": "overall",
         "offsetgroup": "overall",
         "orientation": "v",
         "showlegend": true,
         "textposition": "auto",
         "type": "bar",
         "x": [
          "2022-01",
          "2022-02",
          "2022-03",
          "2022-04",
          "2022-05",
          "2022-06",
          "2022-07",
          "2022-08",
          "2022-09",
          "2022-10",
          "2022-11",
          "2022-12",
          "2023-01",
          "2023-02",
          "2023-03",
          "2023-04",
          "2023-05",
          "2023-06",
          "2022-01",
          "2022-02",
          "2022-03",
          "2022-04",
          "2022-05",
          "2022-06",
          "2022-07",
          "2022-08",
          "2022-09",
          "2022-10",
          "2022-11",
          "2022-12",
          "2023-01",
          "2023-02",
          "2023-03",
          "2023-04",
          "2023-05",
          "2023-06",
          "2022-01",
          "2022-02",
          "2022-03",
          "2022-04",
          "2022-05",
          "2022-06",
          "2022-07",
          "2022-08",
          "2022-09",
          "2022-10",
          "2022-11",
          "2022-12",
          "2023-01",
          "2023-02",
          "2023-03",
          "2023-04",
          "2023-05",
          "2023-06"
         ],
         "xaxis": "x",
         "y": [
          -446,
          4124,
          7532,
          8861,
          7338,
          7897,
          11585,
          10864,
          9718,
          9331,
          -13027,
          8940,
          2983,
          6826,
          22045,
          -6010,
          -95203,
          -247,
          41,
          158,
          153,
          12,
          428,
          67,
          -9,
          320,
          -96,
          107,
          -45,
          -521,
          52,
          -21,
          176,
          -820,
          79,
          21,
          -16,
          1614,
          100,
          531,
          579,
          1759,
          915,
          972,
          -851,
          1038,
          -1008,
          -550,
          -429,
          -94,
          -659,
          -3634,
          131,
          -242
         ],
         "yaxis": "y"
        },
        {
         "alignmentgroup": "True",
         "hovertemplate": "product=premium<br>year_month=%{x}<br>New Users Gained=%{y}<extra></extra>",
         "legendgroup": "premium",
         "marker": {
          "color": "#000006",
          "pattern": {
           "shape": ""
          }
         },
         "name": "premium",
         "offsetgroup": "premium",
         "orientation": "v",
         "showlegend": true,
         "textposition": "auto",
         "type": "bar",
         "x": [
          "2022-01",
          "2022-02",
          "2022-03",
          "2022-04",
          "2022-05",
          "2022-06",
          "2022-07",
          "2022-08",
          "2022-09",
          "2022-10",
          "2022-11",
          "2022-12",
          "2023-01",
          "2023-02",
          "2023-03",
          "2023-04",
          "2023-05",
          "2023-06",
          "2022-01",
          "2022-02",
          "2022-03",
          "2022-04",
          "2022-05",
          "2022-06",
          "2022-07",
          "2022-08",
          "2022-09",
          "2022-10",
          "2022-11",
          "2022-12",
          "2023-01",
          "2023-02",
          "2023-03",
          "2023-04",
          "2023-05",
          "2023-06",
          "2022-01",
          "2022-02",
          "2022-03",
          "2022-04",
          "2022-05",
          "2022-06",
          "2022-07",
          "2022-08",
          "2022-09",
          "2022-10",
          "2022-11",
          "2022-12",
          "2023-01",
          "2023-02",
          "2023-03",
          "2023-04",
          "2023-05",
          "2023-06"
         ],
         "xaxis": "x",
         "y": [
          -6,
          19,
          88,
          86,
          3,
          111,
          34,
          118,
          2,
          24,
          5,
          14,
          83,
          63,
          16,
          -28,
          -14,
          -7,
          -24,
          5,
          22,
          -1,
          2,
          3,
          -3,
          25,
          4,
          -3,
          -78,
          22,
          49,
          47,
          51,
          -2,
          35,
          28,
          0,
          4,
          0,
          1,
          0,
          10,
          0,
          30,
          -34,
          2,
          200,
          21,
          94,
          17,
          24,
          4,
          9,
          -2
         ],
         "yaxis": "y"
        },
        {
         "alignmentgroup": "True",
         "hovertemplate": "product=super_insights<br>year_month=%{x}<br>New Users Gained=%{y}<extra></extra>",
         "legendgroup": "super_insights",
         "marker": {
          "color": "#000007",
          "pattern": {
           "shape": ""
          }
         },
         "name": "super_insights",
         "offsetgroup": "super_insights",
         "orientation": "v",
         "showlegend": true,
         "textposition": "auto",
         "type": "bar",
         "x": [
          "2022-01",
          "2022-02",
          "2022-03",
          "2022-04",
          "2022-05",
          "2022-06",
          "2022-07",
          "2022-08",
          "2022-09",
          "2022-10",
          "2022-11",
          "2022-12",
          "2023-01",
          "2023-02",
          "2023-03",
          "2023-04",
          "2023-05",
          "2023-06",
          "2022-01",
          "2022-02",
          "2022-03",
          "2022-04",
          "2022-05",
          "2022-06",
          "2022-07",
          "2022-08",
          "2022-09",
          "2022-10",
          "2022-11",
          "2022-12",
          "2023-01",
          "2023-02",
          "2023-03",
          "2023-04",
          "2023-05",
          "2023-06",
          "2022-01",
          "2022-02",
          "2022-03",
          "2022-04",
          "2022-05",
          "2022-06",
          "2022-07",
          "2022-08",
          "2022-09",
          "2022-10",
          "2022-11",
          "2022-12",
          "2023-01",
          "2023-02",
          "2023-03",
          "2023-04",
          "2023-05",
          "2023-06"
         ],
         "xaxis": "x",
         "y": [
          -119,
          462,
          143,
          1735,
          -1133,
          7133,
          -2768,
          -2424,
          144,
          476,
          -1177,
          -174,
          -1429,
          -70,
          -197,
          -740,
          6,
          -140,
          -500,
          166,
          124,
          167,
          502,
          571,
          -294,
          225,
          -446,
          -20,
          -7,
          -26,
          -38,
          226,
          -196,
          -204,
          39,
          31,
          2,
          656,
          -968,
          42,
          818,
          871,
          2662,
          414,
          -3905,
          3181,
          -50,
          -3036,
          1863,
          -2255,
          -189,
          -607,
          7,
          -36
         ],
         "yaxis": "y"
        },
        {
         "alignmentgroup": "True",
         "hovertemplate": "product=promos<br>year_month=%{x}<br>New Users Gained=%{y}<extra></extra>",
         "legendgroup": "promos",
         "marker": {
          "color": "#000008",
          "pattern": {
           "shape": ""
          }
         },
         "name": "promos",
         "offsetgroup": "promos",
         "orientation": "v",
         "showlegend": true,
         "textposition": "auto",
         "type": "bar",
         "x": [
          "2022-02",
          "2022-03",
          "2022-05",
          "2022-06",
          "2022-07",
          "2022-08",
          "2022-09",
          "2022-10",
          "2022-11",
          "2022-12",
          "2023-01",
          "2023-02",
          "2023-03",
          "2023-04",
          "2023-05",
          "2023-06",
          "2022-02",
          "2022-03",
          "2022-05",
          "2022-06",
          "2022-07",
          "2022-08",
          "2022-09",
          "2022-10",
          "2022-11",
          "2022-12",
          "2023-01",
          "2023-02",
          "2023-03",
          "2023-04",
          "2023-05",
          "2023-06",
          "2022-02",
          "2022-03",
          "2022-05",
          "2022-06",
          "2022-07",
          "2022-08",
          "2022-09",
          "2022-10",
          "2022-11",
          "2022-12",
          "2023-01",
          "2023-02",
          "2023-03",
          "2023-04",
          "2023-05",
          "2023-06"
         ],
         "xaxis": "x",
         "y": [
          11,
          29,
          -9,
          1,
          20,
          17,
          23,
          23,
          null,
          11,
          29,
          49,
          59,
          16,
          -1,
          -14,
          null,
          null,
          null,
          null,
          null,
          null,
          0,
          0,
          0,
          0,
          0,
          1,
          0,
          1,
          5,
          0,
          null,
          null,
          null,
          null,
          null,
          null,
          null,
          null,
          null,
          null,
          null,
          null,
          null,
          null,
          null,
          null
         ],
         "yaxis": "y"
        }
       ],
       "layout": {
        "barmode": "stack",
        "height": 600,
        "legend": {
         "title": {
          "text": "product"
         },
         "tracegroupgap": 0
        },
        "template": {
         "data": {
          "candlestick": [
           {
            "decreasing": {
             "line": {
              "color": "#000033"
             }
            },
            "increasing": {
             "line": {
              "color": "#000032"
             }
            },
            "type": "candlestick"
           }
          ],
          "contour": [
           {
            "colorscale": [
             [
              0,
              "#000011"
             ],
             [
              0.1111111111111111,
              "#000012"
             ],
             [
              0.2222222222222222,
              "#000013"
             ],
             [
              0.3333333333333333,
              "#000014"
             ],
             [
              0.4444444444444444,
              "#000015"
             ],
             [
              0.5555555555555556,
              "#000016"
             ],
             [
              0.6666666666666666,
              "#000017"
             ],
             [
              0.7777777777777778,
              "#000018"
             ],
             [
              0.8888888888888888,
              "#000019"
             ],
             [
              1,
              "#000020"
             ]
            ],
            "type": "contour"
           }
          ],
          "contourcarpet": [
           {
            "colorscale": [
             [
              0,
              "#000011"
             ],
             [
              0.1111111111111111,
              "#000012"
             ],
             [
              0.2222222222222222,
              "#000013"
             ],
             [
              0.3333333333333333,
              "#000014"
             ],
             [
              0.4444444444444444,
              "#000015"
             ],
             [
              0.5555555555555556,
              "#000016"
             ],
             [
              0.6666666666666666,
              "#000017"
             ],
             [
              0.7777777777777778,
              "#000018"
             ],
             [
              0.8888888888888888,
              "#000019"
             ],
             [
              1,
              "#000020"
             ]
            ],
            "type": "contourcarpet"
           }
          ],
          "heatmap": [
           {
            "colorscale": [
             [
              0,
              "#000011"
             ],
             [
              0.1111111111111111,
              "#000012"
             ],
             [
              0.2222222222222222,
              "#000013"
             ],
             [
              0.3333333333333333,
              "#000014"
             ],
             [
              0.4444444444444444,
              "#000015"
             ],
             [
              0.5555555555555556,
              "#000016"
             ],
             [
              0.6666666666666666,
              "#000017"
             ],
             [
              0.7777777777777778,
              "#000018"
             ],
             [
              0.8888888888888888,
              "#000019"
             ],
             [
              1,
              "#000020"
             ]
            ],
            "type": "heatmap"
           }
          ],
          "histogram2d": [
           {
            "colorscale": [
             [
              0,
              "#000011"
             ],
             [
              0.1111111111111111,
              "#000012"
             ],
             [
              0.2222222222222222,
              "#000013"
             ],
             [
              0.3333333333333333,
              "#000014"
             ],
             [
              0.4444444444444444,
              "#000015"
             ],
             [
              0.5555555555555556,
              "#000016"
             ],
             [
              0.6666666666666666,
              "#000017"
             ],
             [
              0.7777777777777778,
              "#000018"
             ],
             [
              0.8888888888888888,
              "#000019"
             ],
             [
              1,
              "#000020"
             ]
            ],
            "type": "histogram2d"
           }
          ],
          "icicle": [
           {
            "textfont": {
             "color": "white"
            },
            "type": "icicle"
           }
          ],
          "sankey": [
           {
            "textfont": {
             "color": "#000036"
            },
            "type": "sankey"
           }
          ],
          "scatter": [
           {
            "marker": {
             "line": {
              "width": 0
             }
            },
            "type": "scatter"
           }
          ],
          "table": [
           {
            "cells": {
             "fill": {
              "color": "#000038"
             },
             "font": {
              "color": "#000037"
             },
             "line": {
              "color": "#000039"
             }
            },
            "header": {
             "fill": {
              "color": "#000040"
             },
             "font": {
              "color": "#000036"
             },
             "line": {
              "color": "#000039"
             }
            },
            "type": "table"
           }
          ],
          "waterfall": [
           {
            "connector": {
             "line": {
              "color": "#000036",
              "width": 2
             }
            },
            "decreasing": {
             "marker": {
              "color": "#000033"
             }
            },
            "increasing": {
             "marker": {
              "color": "#000032"
             }
            },
            "totals": {
             "marker": {
              "color": "#000034"
             }
            },
            "type": "waterfall"
           }
          ]
         },
         "layout": {
          "coloraxis": {
           "colorscale": [
            [
             0,
             "#000011"
            ],
            [
             0.1111111111111111,
             "#000012"
            ],
            [
             0.2222222222222222,
             "#000013"
            ],
            [
             0.3333333333333333,
             "#000014"
            ],
            [
             0.4444444444444444,
             "#000015"
            ],
            [
             0.5555555555555556,
             "#000016"
            ],
            [
             0.6666666666666666,
             "#000017"
            ],
            [
             0.7777777777777778,
             "#000018"
            ],
            [
             0.8888888888888888,
             "#000019"
            ],
            [
             1,
             "#000020"
            ]
           ]
          },
          "colorscale": {
           "diverging": [
            [
             0,
             "#000021"
            ],
            [
             0.1,
             "#000022"
            ],
            [
             0.2,
             "#000023"
            ],
            [
             0.3,
             "#000024"
            ],
            [
             0.4,
             "#000025"
            ],
            [
             0.5,
             "#000026"
            ],
            [
             0.6,
             "#000027"
            ],
            [
             0.7,
             "#000028"
            ],
            [
             0.8,
             "#000029"
            ],
            [
             0.9,
             "#000030"
            ],
            [
             1,
             "#000031"
            ]
           ],
           "sequential": [
            [
             0,
             "#000011"
            ],
            [
             0.1111111111111111,
             "#000012"
            ],
            [
             0.2222222222222222,
             "#000013"
            ],
            [
             0.3333333333333333,
             "#000014"
            ],
            [
             0.4444444444444444,
             "#000015"
            ],
            [
             0.5555555555555556,
             "#000016"
            ],
            [
             0.6666666666666666,
             "#000017"
            ],
            [
             0.7777777777777778,
             "#000018"
            ],
            [
             0.8888888888888888,
             "#000019"
            ],
            [
             1,
             "#000020"
            ]
           ],
           "sequentialminus": [
            [
             0,
             "#000011"
            ],
            [
             0.1111111111111111,
             "#000012"
            ],
            [
             0.2222222222222222,
             "#000013"
            ],
            [
             0.3333333333333333,
             "#000014"
            ],
            [
             0.4444444444444444,
             "#000015"
            ],
            [
             0.5555555555555556,
             "#000016"
            ],
            [
             0.6666666666666666,
             "#000017"
            ],
            [
             0.7777777777777778,
             "#000018"
            ],
            [
             0.8888888888888888,
             "#000019"
            ],
            [
             1,
             "#000020"
            ]
           ]
          },
          "colorway": [
           "#000001",
           "#000002",
           "#000003",
           "#000004",
           "#000005",
           "#000006",
           "#000007",
           "#000008",
           "#000009",
           "#000010"
          ]
         }
        },
        "title": {
         "text": "New Users Gained per Month per Region"
        },
        "width": 2000,
        "xaxis": {
         "anchor": "y",
         "autorange": true,
         "domain": [
          0,
          1
         ],
         "range": [
          "2021-12-18",
          "2023-06-15"
         ],
         "title": {
          "text": "Month"
         },
         "type": "date"
        },
        "yaxis": {
         "anchor": "x",
         "autorange": true,
         "domain": [
          0,
          1
         ],
         "range": [
          -116227.61111111111,
          38444.61111111111
         ],
         "title": {
          "text": "Total New Users Gained"
         },
         "type": "linear"
        }
       }
      },
      "text/html": [
       "<div>                            <div id=\"0526f2a4-61ab-4fa7-b30c-8f8b36a85057\" class=\"plotly-graph-div\" style=\"height:600px; width:2000px;\"></div>            <script type=\"text/javascript\">                require([\"plotly\"], function(Plotly) {                    window.PLOTLYENV=window.PLOTLYENV || {};                                    if (document.getElementById(\"0526f2a4-61ab-4fa7-b30c-8f8b36a85057\")) {                    Plotly.newPlot(                        \"0526f2a4-61ab-4fa7-b30c-8f8b36a85057\",                        [{\"alignmentgroup\":\"True\",\"hovertemplate\":\"product=adv_insights\\u003cbr\\u003eyear_month=%{x}\\u003cbr\\u003eNew Users Gained=%{y}\\u003cextra\\u003e\\u003c\\u002fextra\\u003e\",\"legendgroup\":\"adv_insights\",\"marker\":{\"color\":\"#000001\",\"pattern\":{\"shape\":\"\"}},\"name\":\"adv_insights\",\"offsetgroup\":\"adv_insights\",\"orientation\":\"v\",\"showlegend\":true,\"textposition\":\"auto\",\"x\":[\"2022-01\",\"2022-02\",\"2022-03\",\"2022-04\",\"2022-05\",\"2022-06\",\"2022-07\",\"2022-08\",\"2022-09\",\"2022-10\",\"2022-11\",\"2022-12\",\"2023-01\",\"2023-02\",\"2023-03\",\"2023-04\",\"2023-05\",\"2023-06\",\"2022-01\",\"2022-02\",\"2022-03\",\"2022-04\",\"2022-05\",\"2022-06\",\"2022-07\",\"2022-08\",\"2022-09\",\"2022-10\",\"2022-11\",\"2022-12\",\"2023-01\",\"2023-02\",\"2023-03\",\"2023-04\",\"2023-05\",\"2023-06\",\"2022-01\",\"2022-02\",\"2022-03\",\"2022-04\",\"2022-05\",\"2022-06\",\"2022-07\",\"2022-08\",\"2022-09\",\"2022-10\",\"2022-11\",\"2022-12\",\"2023-01\",\"2023-02\",\"2023-03\",\"2023-04\",\"2023-05\",\"2023-06\"],\"xaxis\":\"x\",\"y\":[-2.0,0.0,3.0,1393.0,2209.0,-1618.0,692.0,111.0,-550.0,331.0,-213.0,337.0,114.0,-109.0,-607.0,-501.0,249.0,-32.0,-1.0,1.0,7.0,101.0,81.0,-1.0,-53.0,-19.0,133.0,176.0,-97.0,-148.0,346.0,-73.0,69.0,-220.0,399.0,-117.0,null,null,null,0.0,0.0,0.0,13.0,-12.0,1.0,801.0,-185.0,-616.0,5.0,2438.0,-1546.0,17.0,-507.0,-42.0],\"yaxis\":\"y\",\"type\":\"bar\"},{\"alignmentgroup\":\"True\",\"hovertemplate\":\"product=basic_insights\\u003cbr\\u003eyear_month=%{x}\\u003cbr\\u003eNew Users Gained=%{y}\\u003cextra\\u003e\\u003c\\u002fextra\\u003e\",\"legendgroup\":\"basic_insights\",\"marker\":{\"color\":\"#000002\",\"pattern\":{\"shape\":\"\"}},\"name\":\"basic_insights\",\"offsetgroup\":\"basic_insights\",\"orientation\":\"v\",\"showlegend\":true,\"textposition\":\"auto\",\"x\":[\"2022-01\",\"2022-02\",\"2022-03\",\"2022-04\",\"2022-05\",\"2022-06\",\"2022-07\",\"2022-08\",\"2022-09\",\"2022-10\",\"2022-11\",\"2022-12\",\"2023-01\",\"2023-02\",\"2023-03\",\"2023-04\",\"2023-05\",\"2023-06\",\"2022-01\",\"2022-02\",\"2022-03\",\"2022-04\",\"2022-05\",\"2022-06\",\"2022-07\",\"2022-08\",\"2022-09\",\"2022-10\",\"2022-11\",\"2022-12\",\"2023-01\",\"2023-02\",\"2023-03\",\"2023-04\",\"2023-05\",\"2023-06\",\"2022-01\",\"2022-02\",\"2022-03\",\"2022-04\",\"2022-05\",\"2022-06\",\"2022-07\",\"2022-08\",\"2022-09\",\"2022-10\",\"2022-11\",\"2022-12\",\"2023-01\",\"2023-02\",\"2023-03\",\"2023-04\",\"2023-05\",\"2023-06\"],\"xaxis\":\"x\",\"y\":[-182.0,628.0,879.0,1381.0,2133.0,4167.0,1564.0,-3555.0,-634.0,5034.0,2890.0,-8353.0,-1400.0,-119.0,-1616.0,-1085.0,-304.0,-200.0,237.0,142.0,148.0,-16.0,417.0,95.0,-8.0,270.0,-230.0,31.0,-115.0,-488.0,-27.0,-12.0,118.0,-827.0,67.0,17.0,-16.0,1675.0,118.0,525.0,534.0,944.0,1129.0,885.0,-878.0,939.0,-954.0,-717.0,496.0,-101.0,-934.0,-4041.0,-288.0,16.0],\"yaxis\":\"y\",\"type\":\"bar\"},{\"alignmentgroup\":\"True\",\"hovertemplate\":\"product=core\\u003cbr\\u003eyear_month=%{x}\\u003cbr\\u003eNew Users Gained=%{y}\\u003cextra\\u003e\\u003c\\u002fextra\\u003e\",\"legendgroup\":\"core\",\"marker\":{\"color\":\"#000003\",\"pattern\":{\"shape\":\"\"}},\"name\":\"core\",\"offsetgroup\":\"core\",\"orientation\":\"v\",\"showlegend\":true,\"textposition\":\"auto\",\"x\":[\"2022-01\",\"2022-02\",\"2022-03\",\"2022-04\",\"2022-05\",\"2022-06\",\"2022-07\",\"2022-08\",\"2022-09\",\"2022-10\",\"2022-11\",\"2022-12\",\"2023-01\",\"2023-02\",\"2023-03\",\"2023-04\",\"2023-05\",\"2023-06\",\"2022-01\",\"2022-02\",\"2022-03\",\"2022-04\",\"2022-05\",\"2022-06\",\"2022-07\",\"2022-08\",\"2022-09\",\"2022-10\",\"2022-11\",\"2022-12\",\"2023-01\",\"2023-02\",\"2023-03\",\"2023-04\",\"2023-05\",\"2023-06\",\"2022-01\",\"2022-02\",\"2022-03\",\"2022-04\",\"2022-05\",\"2022-06\",\"2022-07\",\"2022-08\",\"2022-09\",\"2022-10\",\"2022-11\",\"2022-12\",\"2023-01\",\"2023-02\",\"2023-03\",\"2023-04\",\"2023-05\",\"2023-06\"],\"xaxis\":\"x\",\"y\":[-196.0,1469.0,4577.0,3344.0,5794.0,5147.0,4687.0,8083.0,5171.0,4182.0,4228.0,6103.0,-4246.0,8609.0,12799.0,-88818.0,-333.0,-195.0,211.0,149.0,141.0,81.0,40.0,-5.0,-22.0,97.0,10.0,62.0,-139.0,-351.0,-25.0,-12.0,181.0,-292.0,60.0,22.0,0.0,70.0,-31.0,817.0,-688.0,574.0,111.0,861.0,-701.0,116.0,2601.0,-3291.0,364.0,-145.0,4.0,-663.0,7.0,-23.0],\"yaxis\":\"y\",\"type\":\"bar\"},{\"alignmentgroup\":\"True\",\"hovertemplate\":\"product=custom_websites\\u003cbr\\u003eyear_month=%{x}\\u003cbr\\u003eNew Users Gained=%{y}\\u003cextra\\u003e\\u003c\\u002fextra\\u003e\",\"legendgroup\":\"custom_websites\",\"marker\":{\"color\":\"#000004\",\"pattern\":{\"shape\":\"\"}},\"name\":\"custom_websites\",\"offsetgroup\":\"custom_websites\",\"orientation\":\"v\",\"showlegend\":true,\"textposition\":\"auto\",\"x\":[\"2022-01\",\"2022-02\",\"2022-03\",\"2022-04\",\"2022-05\",\"2022-06\",\"2022-07\",\"2022-08\",\"2022-09\",\"2022-10\",\"2022-11\",\"2022-12\",\"2023-01\",\"2023-02\",\"2023-03\",\"2023-04\",\"2023-05\",\"2023-06\",\"2022-01\",\"2022-02\",\"2022-03\",\"2022-04\",\"2022-05\",\"2022-06\",\"2022-07\",\"2022-08\",\"2022-09\",\"2022-10\",\"2022-11\",\"2022-12\",\"2023-01\",\"2023-02\",\"2023-03\",\"2023-04\",\"2023-05\",\"2023-06\",\"2022-01\",\"2022-02\",\"2022-03\",\"2022-04\",\"2022-05\",\"2022-06\",\"2022-07\",\"2022-08\",\"2022-09\",\"2022-10\",\"2022-11\",\"2022-12\",\"2023-01\",\"2023-02\",\"2023-03\",\"2023-04\",\"2023-05\",\"2023-06\"],\"xaxis\":\"x\",\"y\":[-1.0,9.0,2.0,2.0,1.0,1.0,14.0,150.0,-134.0,24.0,-1.0,391.0,32.0,-6.0,-1.0,-15.0,9.0,-36.0,0.0,0.0,0.0,0.0,0.0,0.0,13.0,91.0,-58.0,-29.0,6.0,62.0,37.0,19.0,11.0,-14.0,3.0,1.0,null,null,0.0,null,null,0.0,null,null,2.0,4.0,2.0,27.0,6.0,3.0,12.0,6.0,11.0,3.0],\"yaxis\":\"y\",\"type\":\"bar\"},{\"alignmentgroup\":\"True\",\"hovertemplate\":\"product=overall\\u003cbr\\u003eyear_month=%{x}\\u003cbr\\u003eNew Users Gained=%{y}\\u003cextra\\u003e\\u003c\\u002fextra\\u003e\",\"legendgroup\":\"overall\",\"marker\":{\"color\":\"#000005\",\"pattern\":{\"shape\":\"\"}},\"name\":\"overall\",\"offsetgroup\":\"overall\",\"orientation\":\"v\",\"showlegend\":true,\"textposition\":\"auto\",\"x\":[\"2022-01\",\"2022-02\",\"2022-03\",\"2022-04\",\"2022-05\",\"2022-06\",\"2022-07\",\"2022-08\",\"2022-09\",\"2022-10\",\"2022-11\",\"2022-12\",\"2023-01\",\"2023-02\",\"2023-03\",\"2023-04\",\"2023-05\",\"2023-06\",\"2022-01\",\"2022-02\",\"2022-03\",\"2022-04\",\"2022-05\",\"2022-06\",\"2022-07\",\"2022-08\",\"2022-09\",\"2022-10\",\"2022-11\",\"2022-12\",\"2023-01\",\"2023-02\",\"2023-03\",\"2023-04\",\"2023-05\",\"2023-06\",\"2022-01\",\"2022-02\",\"2022-03\",\"2022-04\",\"2022-05\",\"2022-06\",\"2022-07\",\"2022-08\",\"2022-09\",\"2022-10\",\"2022-11\",\"2022-12\",\"2023-01\",\"2023-02\",\"2023-03\",\"2023-04\",\"2023-05\",\"2023-06\"],\"xaxis\":\"x\",\"y\":[-446.0,4124.0,7532.0,8861.0,7338.0,7897.0,11585.0,10864.0,9718.0,9331.0,-13027.0,8940.0,2983.0,6826.0,22045.0,-6010.0,-95203.0,-247.0,41.0,158.0,153.0,12.0,428.0,67.0,-9.0,320.0,-96.0,107.0,-45.0,-521.0,52.0,-21.0,176.0,-820.0,79.0,21.0,-16.0,1614.0,100.0,531.0,579.0,1759.0,915.0,972.0,-851.0,1038.0,-1008.0,-550.0,-429.0,-94.0,-659.0,-3634.0,131.0,-242.0],\"yaxis\":\"y\",\"type\":\"bar\"},{\"alignmentgroup\":\"True\",\"hovertemplate\":\"product=premium\\u003cbr\\u003eyear_month=%{x}\\u003cbr\\u003eNew Users Gained=%{y}\\u003cextra\\u003e\\u003c\\u002fextra\\u003e\",\"legendgroup\":\"premium\",\"marker\":{\"color\":\"#000006\",\"pattern\":{\"shape\":\"\"}},\"name\":\"premium\",\"offsetgroup\":\"premium\",\"orientation\":\"v\",\"showlegend\":true,\"textposition\":\"auto\",\"x\":[\"2022-01\",\"2022-02\",\"2022-03\",\"2022-04\",\"2022-05\",\"2022-06\",\"2022-07\",\"2022-08\",\"2022-09\",\"2022-10\",\"2022-11\",\"2022-12\",\"2023-01\",\"2023-02\",\"2023-03\",\"2023-04\",\"2023-05\",\"2023-06\",\"2022-01\",\"2022-02\",\"2022-03\",\"2022-04\",\"2022-05\",\"2022-06\",\"2022-07\",\"2022-08\",\"2022-09\",\"2022-10\",\"2022-11\",\"2022-12\",\"2023-01\",\"2023-02\",\"2023-03\",\"2023-04\",\"2023-05\",\"2023-06\",\"2022-01\",\"2022-02\",\"2022-03\",\"2022-04\",\"2022-05\",\"2022-06\",\"2022-07\",\"2022-08\",\"2022-09\",\"2022-10\",\"2022-11\",\"2022-12\",\"2023-01\",\"2023-02\",\"2023-03\",\"2023-04\",\"2023-05\",\"2023-06\"],\"xaxis\":\"x\",\"y\":[-6.0,19.0,88.0,86.0,3.0,111.0,34.0,118.0,2.0,24.0,5.0,14.0,83.0,63.0,16.0,-28.0,-14.0,-7.0,-24.0,5.0,22.0,-1.0,2.0,3.0,-3.0,25.0,4.0,-3.0,-78.0,22.0,49.0,47.0,51.0,-2.0,35.0,28.0,0.0,4.0,0.0,1.0,0.0,10.0,0.0,30.0,-34.0,2.0,200.0,21.0,94.0,17.0,24.0,4.0,9.0,-2.0],\"yaxis\":\"y\",\"type\":\"bar\"},{\"alignmentgroup\":\"True\",\"hovertemplate\":\"product=super_insights\\u003cbr\\u003eyear_month=%{x}\\u003cbr\\u003eNew Users Gained=%{y}\\u003cextra\\u003e\\u003c\\u002fextra\\u003e\",\"legendgroup\":\"super_insights\",\"marker\":{\"color\":\"#000007\",\"pattern\":{\"shape\":\"\"}},\"name\":\"super_insights\",\"offsetgroup\":\"super_insights\",\"orientation\":\"v\",\"showlegend\":true,\"textposition\":\"auto\",\"x\":[\"2022-01\",\"2022-02\",\"2022-03\",\"2022-04\",\"2022-05\",\"2022-06\",\"2022-07\",\"2022-08\",\"2022-09\",\"2022-10\",\"2022-11\",\"2022-12\",\"2023-01\",\"2023-02\",\"2023-03\",\"2023-04\",\"2023-05\",\"2023-06\",\"2022-01\",\"2022-02\",\"2022-03\",\"2022-04\",\"2022-05\",\"2022-06\",\"2022-07\",\"2022-08\",\"2022-09\",\"2022-10\",\"2022-11\",\"2022-12\",\"2023-01\",\"2023-02\",\"2023-03\",\"2023-04\",\"2023-05\",\"2023-06\",\"2022-01\",\"2022-02\",\"2022-03\",\"2022-04\",\"2022-05\",\"2022-06\",\"2022-07\",\"2022-08\",\"2022-09\",\"2022-10\",\"2022-11\",\"2022-12\",\"2023-01\",\"2023-02\",\"2023-03\",\"2023-04\",\"2023-05\",\"2023-06\"],\"xaxis\":\"x\",\"y\":[-119.0,462.0,143.0,1735.0,-1133.0,7133.0,-2768.0,-2424.0,144.0,476.0,-1177.0,-174.0,-1429.0,-70.0,-197.0,-740.0,6.0,-140.0,-500.0,166.0,124.0,167.0,502.0,571.0,-294.0,225.0,-446.0,-20.0,-7.0,-26.0,-38.0,226.0,-196.0,-204.0,39.0,31.0,2.0,656.0,-968.0,42.0,818.0,871.0,2662.0,414.0,-3905.0,3181.0,-50.0,-3036.0,1863.0,-2255.0,-189.0,-607.0,7.0,-36.0],\"yaxis\":\"y\",\"type\":\"bar\"},{\"alignmentgroup\":\"True\",\"hovertemplate\":\"product=promos\\u003cbr\\u003eyear_month=%{x}\\u003cbr\\u003eNew Users Gained=%{y}\\u003cextra\\u003e\\u003c\\u002fextra\\u003e\",\"legendgroup\":\"promos\",\"marker\":{\"color\":\"#000008\",\"pattern\":{\"shape\":\"\"}},\"name\":\"promos\",\"offsetgroup\":\"promos\",\"orientation\":\"v\",\"showlegend\":true,\"textposition\":\"auto\",\"x\":[\"2022-02\",\"2022-03\",\"2022-05\",\"2022-06\",\"2022-07\",\"2022-08\",\"2022-09\",\"2022-10\",\"2022-11\",\"2022-12\",\"2023-01\",\"2023-02\",\"2023-03\",\"2023-04\",\"2023-05\",\"2023-06\",\"2022-02\",\"2022-03\",\"2022-05\",\"2022-06\",\"2022-07\",\"2022-08\",\"2022-09\",\"2022-10\",\"2022-11\",\"2022-12\",\"2023-01\",\"2023-02\",\"2023-03\",\"2023-04\",\"2023-05\",\"2023-06\",\"2022-02\",\"2022-03\",\"2022-05\",\"2022-06\",\"2022-07\",\"2022-08\",\"2022-09\",\"2022-10\",\"2022-11\",\"2022-12\",\"2023-01\",\"2023-02\",\"2023-03\",\"2023-04\",\"2023-05\",\"2023-06\"],\"xaxis\":\"x\",\"y\":[11.0,29.0,-9.0,1.0,20.0,17.0,23.0,23.0,null,11.0,29.0,49.0,59.0,16.0,-1.0,-14.0,null,null,null,null,null,null,0.0,0.0,0.0,0.0,0.0,1.0,0.0,1.0,5.0,0.0,null,null,null,null,null,null,null,null,null,null,null,null,null,null,null,null],\"yaxis\":\"y\",\"type\":\"bar\"}],                        {\"template\":{\"data\":{\"candlestick\":[{\"decreasing\":{\"line\":{\"color\":\"#000033\"}},\"increasing\":{\"line\":{\"color\":\"#000032\"}},\"type\":\"candlestick\"}],\"contourcarpet\":[{\"colorscale\":[[0.0,\"#000011\"],[0.1111111111111111,\"#000012\"],[0.2222222222222222,\"#000013\"],[0.3333333333333333,\"#000014\"],[0.4444444444444444,\"#000015\"],[0.5555555555555556,\"#000016\"],[0.6666666666666666,\"#000017\"],[0.7777777777777778,\"#000018\"],[0.8888888888888888,\"#000019\"],[1.0,\"#000020\"]],\"type\":\"contourcarpet\"}],\"contour\":[{\"colorscale\":[[0.0,\"#000011\"],[0.1111111111111111,\"#000012\"],[0.2222222222222222,\"#000013\"],[0.3333333333333333,\"#000014\"],[0.4444444444444444,\"#000015\"],[0.5555555555555556,\"#000016\"],[0.6666666666666666,\"#000017\"],[0.7777777777777778,\"#000018\"],[0.8888888888888888,\"#000019\"],[1.0,\"#000020\"]],\"type\":\"contour\"}],\"heatmap\":[{\"colorscale\":[[0.0,\"#000011\"],[0.1111111111111111,\"#000012\"],[0.2222222222222222,\"#000013\"],[0.3333333333333333,\"#000014\"],[0.4444444444444444,\"#000015\"],[0.5555555555555556,\"#000016\"],[0.6666666666666666,\"#000017\"],[0.7777777777777778,\"#000018\"],[0.8888888888888888,\"#000019\"],[1.0,\"#000020\"]],\"type\":\"heatmap\"}],\"histogram2d\":[{\"colorscale\":[[0.0,\"#000011\"],[0.1111111111111111,\"#000012\"],[0.2222222222222222,\"#000013\"],[0.3333333333333333,\"#000014\"],[0.4444444444444444,\"#000015\"],[0.5555555555555556,\"#000016\"],[0.6666666666666666,\"#000017\"],[0.7777777777777778,\"#000018\"],[0.8888888888888888,\"#000019\"],[1.0,\"#000020\"]],\"type\":\"histogram2d\"}],\"icicle\":[{\"textfont\":{\"color\":\"white\"},\"type\":\"icicle\"}],\"sankey\":[{\"textfont\":{\"color\":\"#000036\"},\"type\":\"sankey\"}],\"scatter\":[{\"marker\":{\"line\":{\"width\":0}},\"type\":\"scatter\"}],\"table\":[{\"cells\":{\"fill\":{\"color\":\"#000038\"},\"font\":{\"color\":\"#000037\"},\"line\":{\"color\":\"#000039\"}},\"header\":{\"fill\":{\"color\":\"#000040\"},\"font\":{\"color\":\"#000036\"},\"line\":{\"color\":\"#000039\"}},\"type\":\"table\"}],\"waterfall\":[{\"connector\":{\"line\":{\"color\":\"#000036\",\"width\":2}},\"decreasing\":{\"marker\":{\"color\":\"#000033\"}},\"increasing\":{\"marker\":{\"color\":\"#000032\"}},\"totals\":{\"marker\":{\"color\":\"#000034\"}},\"type\":\"waterfall\"}]},\"layout\":{\"coloraxis\":{\"colorscale\":[[0.0,\"#000011\"],[0.1111111111111111,\"#000012\"],[0.2222222222222222,\"#000013\"],[0.3333333333333333,\"#000014\"],[0.4444444444444444,\"#000015\"],[0.5555555555555556,\"#000016\"],[0.6666666666666666,\"#000017\"],[0.7777777777777778,\"#000018\"],[0.8888888888888888,\"#000019\"],[1.0,\"#000020\"]]},\"colorscale\":{\"diverging\":[[0.0,\"#000021\"],[0.1,\"#000022\"],[0.2,\"#000023\"],[0.3,\"#000024\"],[0.4,\"#000025\"],[0.5,\"#000026\"],[0.6,\"#000027\"],[0.7,\"#000028\"],[0.8,\"#000029\"],[0.9,\"#000030\"],[1.0,\"#000031\"]],\"sequential\":[[0.0,\"#000011\"],[0.1111111111111111,\"#000012\"],[0.2222222222222222,\"#000013\"],[0.3333333333333333,\"#000014\"],[0.4444444444444444,\"#000015\"],[0.5555555555555556,\"#000016\"],[0.6666666666666666,\"#000017\"],[0.7777777777777778,\"#000018\"],[0.8888888888888888,\"#000019\"],[1.0,\"#000020\"]],\"sequentialminus\":[[0.0,\"#000011\"],[0.1111111111111111,\"#000012\"],[0.2222222222222222,\"#000013\"],[0.3333333333333333,\"#000014\"],[0.4444444444444444,\"#000015\"],[0.5555555555555556,\"#000016\"],[0.6666666666666666,\"#000017\"],[0.7777777777777778,\"#000018\"],[0.8888888888888888,\"#000019\"],[1.0,\"#000020\"]]},\"colorway\":[\"#000001\",\"#000002\",\"#000003\",\"#000004\",\"#000005\",\"#000006\",\"#000007\",\"#000008\",\"#000009\",\"#000010\"]}},\"xaxis\":{\"anchor\":\"y\",\"domain\":[0.0,1.0],\"title\":{\"text\":\"Month\"}},\"yaxis\":{\"anchor\":\"x\",\"domain\":[0.0,1.0],\"title\":{\"text\":\"Total New Users Gained\"}},\"legend\":{\"title\":{\"text\":\"product\"},\"tracegroupgap\":0},\"title\":{\"text\":\"New Users Gained per Month per Region\"},\"barmode\":\"stack\",\"height\":600,\"width\":2000},                        {\"responsive\": true}                    ).then(function(){\n",
       "                            \n",
       "var gd = document.getElementById('0526f2a4-61ab-4fa7-b30c-8f8b36a85057');\n",
       "var x = new MutationObserver(function (mutations, observer) {{\n",
       "        var display = window.getComputedStyle(gd).display;\n",
       "        if (!display || display === 'none') {{\n",
       "            console.log([gd, 'removed!']);\n",
       "            Plotly.purge(gd);\n",
       "            observer.disconnect();\n",
       "        }}\n",
       "}});\n",
       "\n",
       "// Listen for the removal of the full notebook cells\n",
       "var notebookContainer = gd.closest('#notebook-container');\n",
       "if (notebookContainer) {{\n",
       "    x.observe(notebookContainer, {childList: true});\n",
       "}}\n",
       "\n",
       "// Listen for the clearing of the current output cell\n",
       "var outputEl = gd.closest('.output');\n",
       "if (outputEl) {{\n",
       "    x.observe(outputEl, {childList: true});\n",
       "}}\n",
       "\n",
       "                        })                };                });            </script>        </div>"
      ]
     },
     "metadata": {},
     "output_type": "display_data"
    }
   ],
   "source": [
    "# Convert year_month to string\n",
    "final_df['year_month'] = final_df['year_month'].astype(str)\n",
    "\n",
    "# Sort the DataFrame by 'year_month'\n",
    "final_df = final_df.sort_values(by='year_month')\n",
    "\n",
    "# Pivot the data to have months as rows, regions as columns, and products as stacking categories\n",
    "pivot_df = final_df.groupby(['year_month', 'region', 'product'])['new users gained'].sum().reset_index()\n",
    "pivot_df = pivot_df.pivot_table(index=['year_month', 'product'], columns='region', values='new users gained', aggfunc='sum').reset_index()\n",
    "\n",
    "# Create the stacked bar chart using Plotly Express\n",
    "fig = px.bar(\n",
    "    pivot_df,\n",
    "    x='year_month',\n",
    "    y=[column for column in pivot_df.columns if column not in ['year_month', 'product']],\n",
    "    color='product',\n",
    "    title='New Users Gained per Month per Region',\n",
    "    labels={'value': 'New Users Gained'},\n",
    "    height=600,\n",
    "    width=2000\n",
    ")\n",
    "\n",
    "fig.update_layout(barmode='stack', xaxis_title='Month', yaxis_title='Total New Users Gained')\n",
    "fig.show()\n"
   ]
  },
  {
   "cell_type": "code",
   "execution_count": 131,
   "id": "5ffb0f76-8f70-4dc2-9737-e58c7940e5db",
   "metadata": {},
   "outputs": [
    {
     "data": {
      "application/vnd.plotly.v1+json": {
       "config": {
        "plotlyServerURL": "https://plot.ly"
       },
       "data": [
        {
         "marker": {
          "color": "#1F7368"
         },
         "name": "overall",
         "type": "bar",
         "x": [
          "2022-01",
          "2022-02",
          "2022-03",
          "2022-04",
          "2022-05",
          "2022-06",
          "2022-07",
          "2022-08",
          "2022-09",
          "2022-10",
          "2022-11",
          "2022-12",
          "2023-01",
          "2023-02",
          "2023-03",
          "2023-04",
          "2023-05",
          "2023-06"
         ],
         "y": [
          -421,
          5896,
          7785,
          9404,
          8345,
          9723,
          12491,
          12156,
          8771,
          10476,
          -14080,
          7869,
          2606,
          6711,
          21562,
          -10464,
          -94993,
          -468
         ]
        },
        {
         "marker": {
          "color": "#237D74"
         },
         "name": "premium",
         "type": "bar",
         "x": [
          "2022-01",
          "2022-02",
          "2022-03",
          "2022-04",
          "2022-05",
          "2022-06",
          "2022-07",
          "2022-08",
          "2022-09",
          "2022-10",
          "2022-11",
          "2022-12",
          "2023-01",
          "2023-02",
          "2023-03",
          "2023-04",
          "2023-05",
          "2023-06"
         ],
         "y": [
          -30,
          28,
          110,
          86,
          5,
          124,
          31,
          173,
          -28,
          23,
          127,
          57,
          226,
          127,
          91,
          -26,
          30,
          19
         ]
        },
        {
         "marker": {
          "color": "#288781"
         },
         "name": "core",
         "type": "bar",
         "x": [
          "2022-01",
          "2022-02",
          "2022-03",
          "2022-04",
          "2022-05",
          "2022-06",
          "2022-07",
          "2022-08",
          "2022-09",
          "2022-10",
          "2022-11",
          "2022-12",
          "2023-01",
          "2023-02",
          "2023-03",
          "2023-04",
          "2023-05",
          "2023-06"
         ],
         "y": [
          15,
          1688,
          4687,
          4242,
          5146,
          5716,
          4776,
          9041,
          4480,
          4360,
          6690,
          2461,
          -3907,
          8452,
          12984,
          -89773,
          -266,
          -196
         ]
        },
        {
         "marker": {
          "color": "#2D918D"
         },
         "name": "promos",
         "type": "bar",
         "x": [
          "2022-02",
          "2022-03",
          "2022-05",
          "2022-06",
          "2022-07",
          "2022-08",
          "2022-09",
          "2022-10",
          "2022-11",
          "2022-12",
          "2023-01",
          "2023-02",
          "2023-03",
          "2023-04",
          "2023-05",
          "2023-06"
         ],
         "y": [
          11,
          29,
          -9,
          1,
          20,
          17,
          23,
          23,
          0,
          11,
          29,
          50,
          59,
          17,
          4,
          -14
         ]
        },
        {
         "marker": {
          "color": "#339B99"
         },
         "name": "custom_websites",
         "type": "bar",
         "x": [
          "2022-01",
          "2022-02",
          "2022-03",
          "2022-04",
          "2022-05",
          "2022-06",
          "2022-07",
          "2022-08",
          "2022-09",
          "2022-10",
          "2022-11",
          "2022-12",
          "2023-01",
          "2023-02",
          "2023-03",
          "2023-04",
          "2023-05",
          "2023-06"
         ],
         "y": [
          -1,
          9,
          2,
          2,
          1,
          1,
          27,
          241,
          -190,
          -1,
          7,
          480,
          75,
          16,
          22,
          -23,
          23,
          -32
         ]
        },
        {
         "marker": {
          "color": "#B185B4"
         },
         "name": "basic_insights",
         "type": "bar",
         "x": [
          "2022-01",
          "2022-02",
          "2022-03",
          "2022-04",
          "2022-05",
          "2022-06",
          "2022-07",
          "2022-08",
          "2022-09",
          "2022-10",
          "2022-11",
          "2022-12",
          "2023-01",
          "2023-02",
          "2023-03",
          "2023-04",
          "2023-05",
          "2023-06"
         ],
         "y": [
          39,
          2445,
          1145,
          1890,
          3084,
          5206,
          2685,
          -2400,
          -1742,
          6004,
          1821,
          -9558,
          -931,
          -232,
          -2432,
          -5953,
          -525,
          -167
         ]
        },
        {
         "marker": {
          "color": "#B590BA"
         },
         "name": "adv_insights",
         "type": "bar",
         "x": [
          "2022-01",
          "2022-02",
          "2022-03",
          "2022-04",
          "2022-05",
          "2022-06",
          "2022-07",
          "2022-08",
          "2022-09",
          "2022-10",
          "2022-11",
          "2022-12",
          "2023-01",
          "2023-02",
          "2023-03",
          "2023-04",
          "2023-05",
          "2023-06"
         ],
         "y": [
          -3,
          1,
          10,
          1494,
          2290,
          -1619,
          652,
          80,
          -416,
          1308,
          -495,
          -427,
          465,
          2256,
          -2084,
          -704,
          141,
          -191
         ]
        },
        {
         "marker": {
          "color": "#BA9BC0"
         },
         "name": "super_insights",
         "type": "bar",
         "x": [
          "2022-01",
          "2022-02",
          "2022-03",
          "2022-04",
          "2022-05",
          "2022-06",
          "2022-07",
          "2022-08",
          "2022-09",
          "2022-10",
          "2022-11",
          "2022-12",
          "2023-01",
          "2023-02",
          "2023-03",
          "2023-04",
          "2023-05",
          "2023-06"
         ],
         "y": [
          -617,
          1284,
          -701,
          1944,
          187,
          8575,
          -400,
          -1785,
          -4207,
          3637,
          -1234,
          -3236,
          396,
          -2099,
          -582,
          -1551,
          52,
          -145
         ]
        }
       ],
       "layout": {
        "annotations": [
         {
          "showarrow": false,
          "text": "<b>-1018</b>",
          "x": "2022-01",
          "xref": "x",
          "y": -1068.9,
          "yref": "y"
         },
         {
          "showarrow": false,
          "text": "<b>11362</b>",
          "x": "2022-02",
          "xref": "x",
          "y": 12270.96,
          "yref": "y"
         },
         {
          "showarrow": false,
          "text": "<b>13067</b>",
          "x": "2022-03",
          "xref": "x",
          "y": 14112.36,
          "yref": "y"
         },
         {
          "showarrow": false,
          "text": "<b>19062</b>",
          "x": "2022-04",
          "xref": "x",
          "y": 20586.96,
          "yref": "y"
         },
         {
          "showarrow": false,
          "text": "<b>19049</b>",
          "x": "2022-05",
          "xref": "x",
          "y": 20572.92,
          "yref": "y"
         },
         {
          "showarrow": false,
          "text": "<b>27727</b>",
          "x": "2022-06",
          "xref": "x",
          "y": 29945.16,
          "yref": "y"
         },
         {
          "showarrow": false,
          "text": "<b>20282</b>",
          "x": "2022-07",
          "xref": "x",
          "y": 21904.56,
          "yref": "y"
         },
         {
          "showarrow": false,
          "text": "<b>17523</b>",
          "x": "2022-08",
          "xref": "x",
          "y": 18924.84,
          "yref": "y"
         },
         {
          "showarrow": false,
          "text": "<b>6691</b>",
          "x": "2022-09",
          "xref": "x",
          "y": 7226.28,
          "yref": "y"
         },
         {
          "showarrow": false,
          "text": "<b>25830</b>",
          "x": "2022-10",
          "xref": "x",
          "y": 27896.4,
          "yref": "y"
         },
         {
          "showarrow": false,
          "text": "<b>-7164</b>",
          "x": "2022-11",
          "xref": "x",
          "y": -7522.2,
          "yref": "y"
         },
         {
          "showarrow": false,
          "text": "<b>-2343</b>",
          "x": "2022-12",
          "xref": "x",
          "y": -2460.15,
          "yref": "y"
         },
         {
          "showarrow": false,
          "text": "<b>-1041</b>",
          "x": "2023-01",
          "xref": "x",
          "y": -1093.05,
          "yref": "y"
         },
         {
          "showarrow": false,
          "text": "<b>15281</b>",
          "x": "2023-02",
          "xref": "x",
          "y": 16503.48,
          "yref": "y"
         },
         {
          "showarrow": false,
          "text": "<b>29620</b>",
          "x": "2023-03",
          "xref": "x",
          "y": 31989.6,
          "yref": "y"
         },
         {
          "showarrow": false,
          "text": "<b>-108477</b>",
          "x": "2023-04",
          "xref": "x",
          "y": -113900.85,
          "yref": "y"
         },
         {
          "showarrow": false,
          "text": "<b>-95534</b>",
          "x": "2023-05",
          "xref": "x",
          "y": -100310.7,
          "yref": "y"
         },
         {
          "showarrow": false,
          "text": "<b>-1194</b>",
          "x": "2023-06",
          "xref": "x",
          "y": -1253.7,
          "yref": "y"
         }
        ],
        "autosize": true,
        "bargap": 0.1,
        "barmode": "stack",
        "template": {
         "data": {
          "candlestick": [
           {
            "decreasing": {
             "line": {
              "color": "#000033"
             }
            },
            "increasing": {
             "line": {
              "color": "#000032"
             }
            },
            "type": "candlestick"
           }
          ],
          "contour": [
           {
            "colorscale": [
             [
              0,
              "#000011"
             ],
             [
              0.1111111111111111,
              "#000012"
             ],
             [
              0.2222222222222222,
              "#000013"
             ],
             [
              0.3333333333333333,
              "#000014"
             ],
             [
              0.4444444444444444,
              "#000015"
             ],
             [
              0.5555555555555556,
              "#000016"
             ],
             [
              0.6666666666666666,
              "#000017"
             ],
             [
              0.7777777777777778,
              "#000018"
             ],
             [
              0.8888888888888888,
              "#000019"
             ],
             [
              1,
              "#000020"
             ]
            ],
            "type": "contour"
           }
          ],
          "contourcarpet": [
           {
            "colorscale": [
             [
              0,
              "#000011"
             ],
             [
              0.1111111111111111,
              "#000012"
             ],
             [
              0.2222222222222222,
              "#000013"
             ],
             [
              0.3333333333333333,
              "#000014"
             ],
             [
              0.4444444444444444,
              "#000015"
             ],
             [
              0.5555555555555556,
              "#000016"
             ],
             [
              0.6666666666666666,
              "#000017"
             ],
             [
              0.7777777777777778,
              "#000018"
             ],
             [
              0.8888888888888888,
              "#000019"
             ],
             [
              1,
              "#000020"
             ]
            ],
            "type": "contourcarpet"
           }
          ],
          "heatmap": [
           {
            "colorscale": [
             [
              0,
              "#000011"
             ],
             [
              0.1111111111111111,
              "#000012"
             ],
             [
              0.2222222222222222,
              "#000013"
             ],
             [
              0.3333333333333333,
              "#000014"
             ],
             [
              0.4444444444444444,
              "#000015"
             ],
             [
              0.5555555555555556,
              "#000016"
             ],
             [
              0.6666666666666666,
              "#000017"
             ],
             [
              0.7777777777777778,
              "#000018"
             ],
             [
              0.8888888888888888,
              "#000019"
             ],
             [
              1,
              "#000020"
             ]
            ],
            "type": "heatmap"
           }
          ],
          "histogram2d": [
           {
            "colorscale": [
             [
              0,
              "#000011"
             ],
             [
              0.1111111111111111,
              "#000012"
             ],
             [
              0.2222222222222222,
              "#000013"
             ],
             [
              0.3333333333333333,
              "#000014"
             ],
             [
              0.4444444444444444,
              "#000015"
             ],
             [
              0.5555555555555556,
              "#000016"
             ],
             [
              0.6666666666666666,
              "#000017"
             ],
             [
              0.7777777777777778,
              "#000018"
             ],
             [
              0.8888888888888888,
              "#000019"
             ],
             [
              1,
              "#000020"
             ]
            ],
            "type": "histogram2d"
           }
          ],
          "icicle": [
           {
            "textfont": {
             "color": "white"
            },
            "type": "icicle"
           }
          ],
          "sankey": [
           {
            "textfont": {
             "color": "#000036"
            },
            "type": "sankey"
           }
          ],
          "scatter": [
           {
            "marker": {
             "line": {
              "width": 0
             }
            },
            "type": "scatter"
           }
          ],
          "table": [
           {
            "cells": {
             "fill": {
              "color": "#000038"
             },
             "font": {
              "color": "#000037"
             },
             "line": {
              "color": "#000039"
             }
            },
            "header": {
             "fill": {
              "color": "#000040"
             },
             "font": {
              "color": "#000036"
             },
             "line": {
              "color": "#000039"
             }
            },
            "type": "table"
           }
          ],
          "waterfall": [
           {
            "connector": {
             "line": {
              "color": "#000036",
              "width": 2
             }
            },
            "decreasing": {
             "marker": {
              "color": "#000033"
             }
            },
            "increasing": {
             "marker": {
              "color": "#000032"
             }
            },
            "totals": {
             "marker": {
              "color": "#000034"
             }
            },
            "type": "waterfall"
           }
          ]
         },
         "layout": {
          "coloraxis": {
           "colorscale": [
            [
             0,
             "#000011"
            ],
            [
             0.1111111111111111,
             "#000012"
            ],
            [
             0.2222222222222222,
             "#000013"
            ],
            [
             0.3333333333333333,
             "#000014"
            ],
            [
             0.4444444444444444,
             "#000015"
            ],
            [
             0.5555555555555556,
             "#000016"
            ],
            [
             0.6666666666666666,
             "#000017"
            ],
            [
             0.7777777777777778,
             "#000018"
            ],
            [
             0.8888888888888888,
             "#000019"
            ],
            [
             1,
             "#000020"
            ]
           ]
          },
          "colorscale": {
           "diverging": [
            [
             0,
             "#000021"
            ],
            [
             0.1,
             "#000022"
            ],
            [
             0.2,
             "#000023"
            ],
            [
             0.3,
             "#000024"
            ],
            [
             0.4,
             "#000025"
            ],
            [
             0.5,
             "#000026"
            ],
            [
             0.6,
             "#000027"
            ],
            [
             0.7,
             "#000028"
            ],
            [
             0.8,
             "#000029"
            ],
            [
             0.9,
             "#000030"
            ],
            [
             1,
             "#000031"
            ]
           ],
           "sequential": [
            [
             0,
             "#000011"
            ],
            [
             0.1111111111111111,
             "#000012"
            ],
            [
             0.2222222222222222,
             "#000013"
            ],
            [
             0.3333333333333333,
             "#000014"
            ],
            [
             0.4444444444444444,
             "#000015"
            ],
            [
             0.5555555555555556,
             "#000016"
            ],
            [
             0.6666666666666666,
             "#000017"
            ],
            [
             0.7777777777777778,
             "#000018"
            ],
            [
             0.8888888888888888,
             "#000019"
            ],
            [
             1,
             "#000020"
            ]
           ],
           "sequentialminus": [
            [
             0,
             "#000011"
            ],
            [
             0.1111111111111111,
             "#000012"
            ],
            [
             0.2222222222222222,
             "#000013"
            ],
            [
             0.3333333333333333,
             "#000014"
            ],
            [
             0.4444444444444444,
             "#000015"
            ],
            [
             0.5555555555555556,
             "#000016"
            ],
            [
             0.6666666666666666,
             "#000017"
            ],
            [
             0.7777777777777778,
             "#000018"
            ],
            [
             0.8888888888888888,
             "#000019"
            ],
            [
             1,
             "#000020"
            ]
           ]
          },
          "colorway": [
           "#000001",
           "#000002",
           "#000003",
           "#000004",
           "#000005",
           "#000006",
           "#000007",
           "#000008",
           "#000009",
           "#000010"
          ]
         }
        },
        "title": {
         "text": "New Users Gained per Month per Product"
        },
        "xaxis": {
         "autorange": true,
         "range": [
          "2021-12-18",
          "2023-06-15"
         ],
         "title": {
          "text": "Month"
         },
         "type": "date"
        },
        "yaxis": {
         "autorange": true,
         "range": [
          -116432.27777777778,
          42673.27777777778
         ],
         "title": {
          "text": "Total New Users Gained"
         },
         "type": "linear"
        }
       }
      },
      "text/html": [
       "<div>                            <div id=\"b1e5bb42-8ac2-4b9d-87d8-cba669c7fad9\" class=\"plotly-graph-div\" style=\"height:1000px; width:100%;\"></div>            <script type=\"text/javascript\">                require([\"plotly\"], function(Plotly) {                    window.PLOTLYENV=window.PLOTLYENV || {};                                    if (document.getElementById(\"b1e5bb42-8ac2-4b9d-87d8-cba669c7fad9\")) {                    Plotly.newPlot(                        \"b1e5bb42-8ac2-4b9d-87d8-cba669c7fad9\",                        [{\"marker\":{\"color\":\"#1F7368\"},\"name\":\"overall\",\"x\":[\"2022-01\",\"2022-02\",\"2022-03\",\"2022-04\",\"2022-05\",\"2022-06\",\"2022-07\",\"2022-08\",\"2022-09\",\"2022-10\",\"2022-11\",\"2022-12\",\"2023-01\",\"2023-02\",\"2023-03\",\"2023-04\",\"2023-05\",\"2023-06\"],\"y\":[-421.0,5896.0,7785.0,9404.0,8345.0,9723.0,12491.0,12156.0,8771.0,10476.0,-14080.0,7869.0,2606.0,6711.0,21562.0,-10464.0,-94993.0,-468.0],\"type\":\"bar\"},{\"marker\":{\"color\":\"#237D74\"},\"name\":\"premium\",\"x\":[\"2022-01\",\"2022-02\",\"2022-03\",\"2022-04\",\"2022-05\",\"2022-06\",\"2022-07\",\"2022-08\",\"2022-09\",\"2022-10\",\"2022-11\",\"2022-12\",\"2023-01\",\"2023-02\",\"2023-03\",\"2023-04\",\"2023-05\",\"2023-06\"],\"y\":[-30.0,28.0,110.0,86.0,5.0,124.0,31.0,173.0,-28.0,23.0,127.0,57.0,226.0,127.0,91.0,-26.0,30.0,19.0],\"type\":\"bar\"},{\"marker\":{\"color\":\"#288781\"},\"name\":\"core\",\"x\":[\"2022-01\",\"2022-02\",\"2022-03\",\"2022-04\",\"2022-05\",\"2022-06\",\"2022-07\",\"2022-08\",\"2022-09\",\"2022-10\",\"2022-11\",\"2022-12\",\"2023-01\",\"2023-02\",\"2023-03\",\"2023-04\",\"2023-05\",\"2023-06\"],\"y\":[15.0,1688.0,4687.0,4242.0,5146.0,5716.0,4776.0,9041.0,4480.0,4360.0,6690.0,2461.0,-3907.0,8452.0,12984.0,-89773.0,-266.0,-196.0],\"type\":\"bar\"},{\"marker\":{\"color\":\"#2D918D\"},\"name\":\"promos\",\"x\":[\"2022-02\",\"2022-03\",\"2022-05\",\"2022-06\",\"2022-07\",\"2022-08\",\"2022-09\",\"2022-10\",\"2022-11\",\"2022-12\",\"2023-01\",\"2023-02\",\"2023-03\",\"2023-04\",\"2023-05\",\"2023-06\"],\"y\":[11.0,29.0,-9.0,1.0,20.0,17.0,23.0,23.0,0.0,11.0,29.0,50.0,59.0,17.0,4.0,-14.0],\"type\":\"bar\"},{\"marker\":{\"color\":\"#339B99\"},\"name\":\"custom_websites\",\"x\":[\"2022-01\",\"2022-02\",\"2022-03\",\"2022-04\",\"2022-05\",\"2022-06\",\"2022-07\",\"2022-08\",\"2022-09\",\"2022-10\",\"2022-11\",\"2022-12\",\"2023-01\",\"2023-02\",\"2023-03\",\"2023-04\",\"2023-05\",\"2023-06\"],\"y\":[-1.0,9.0,2.0,2.0,1.0,1.0,27.0,241.0,-190.0,-1.0,7.0,480.0,75.0,16.0,22.0,-23.0,23.0,-32.0],\"type\":\"bar\"},{\"marker\":{\"color\":\"#B185B4\"},\"name\":\"basic_insights\",\"x\":[\"2022-01\",\"2022-02\",\"2022-03\",\"2022-04\",\"2022-05\",\"2022-06\",\"2022-07\",\"2022-08\",\"2022-09\",\"2022-10\",\"2022-11\",\"2022-12\",\"2023-01\",\"2023-02\",\"2023-03\",\"2023-04\",\"2023-05\",\"2023-06\"],\"y\":[39.0,2445.0,1145.0,1890.0,3084.0,5206.0,2685.0,-2400.0,-1742.0,6004.0,1821.0,-9558.0,-931.0,-232.0,-2432.0,-5953.0,-525.0,-167.0],\"type\":\"bar\"},{\"marker\":{\"color\":\"#B590BA\"},\"name\":\"adv_insights\",\"x\":[\"2022-01\",\"2022-02\",\"2022-03\",\"2022-04\",\"2022-05\",\"2022-06\",\"2022-07\",\"2022-08\",\"2022-09\",\"2022-10\",\"2022-11\",\"2022-12\",\"2023-01\",\"2023-02\",\"2023-03\",\"2023-04\",\"2023-05\",\"2023-06\"],\"y\":[-3.0,1.0,10.0,1494.0,2290.0,-1619.0,652.0,80.0,-416.0,1308.0,-495.0,-427.0,465.0,2256.0,-2084.0,-704.0,141.0,-191.0],\"type\":\"bar\"},{\"marker\":{\"color\":\"#BA9BC0\"},\"name\":\"super_insights\",\"x\":[\"2022-01\",\"2022-02\",\"2022-03\",\"2022-04\",\"2022-05\",\"2022-06\",\"2022-07\",\"2022-08\",\"2022-09\",\"2022-10\",\"2022-11\",\"2022-12\",\"2023-01\",\"2023-02\",\"2023-03\",\"2023-04\",\"2023-05\",\"2023-06\"],\"y\":[-617.0,1284.0,-701.0,1944.0,187.0,8575.0,-400.0,-1785.0,-4207.0,3637.0,-1234.0,-3236.0,396.0,-2099.0,-582.0,-1551.0,52.0,-145.0],\"type\":\"bar\"}],                        {\"template\":{\"data\":{\"candlestick\":[{\"decreasing\":{\"line\":{\"color\":\"#000033\"}},\"increasing\":{\"line\":{\"color\":\"#000032\"}},\"type\":\"candlestick\"}],\"contourcarpet\":[{\"colorscale\":[[0.0,\"#000011\"],[0.1111111111111111,\"#000012\"],[0.2222222222222222,\"#000013\"],[0.3333333333333333,\"#000014\"],[0.4444444444444444,\"#000015\"],[0.5555555555555556,\"#000016\"],[0.6666666666666666,\"#000017\"],[0.7777777777777778,\"#000018\"],[0.8888888888888888,\"#000019\"],[1.0,\"#000020\"]],\"type\":\"contourcarpet\"}],\"contour\":[{\"colorscale\":[[0.0,\"#000011\"],[0.1111111111111111,\"#000012\"],[0.2222222222222222,\"#000013\"],[0.3333333333333333,\"#000014\"],[0.4444444444444444,\"#000015\"],[0.5555555555555556,\"#000016\"],[0.6666666666666666,\"#000017\"],[0.7777777777777778,\"#000018\"],[0.8888888888888888,\"#000019\"],[1.0,\"#000020\"]],\"type\":\"contour\"}],\"heatmap\":[{\"colorscale\":[[0.0,\"#000011\"],[0.1111111111111111,\"#000012\"],[0.2222222222222222,\"#000013\"],[0.3333333333333333,\"#000014\"],[0.4444444444444444,\"#000015\"],[0.5555555555555556,\"#000016\"],[0.6666666666666666,\"#000017\"],[0.7777777777777778,\"#000018\"],[0.8888888888888888,\"#000019\"],[1.0,\"#000020\"]],\"type\":\"heatmap\"}],\"histogram2d\":[{\"colorscale\":[[0.0,\"#000011\"],[0.1111111111111111,\"#000012\"],[0.2222222222222222,\"#000013\"],[0.3333333333333333,\"#000014\"],[0.4444444444444444,\"#000015\"],[0.5555555555555556,\"#000016\"],[0.6666666666666666,\"#000017\"],[0.7777777777777778,\"#000018\"],[0.8888888888888888,\"#000019\"],[1.0,\"#000020\"]],\"type\":\"histogram2d\"}],\"icicle\":[{\"textfont\":{\"color\":\"white\"},\"type\":\"icicle\"}],\"sankey\":[{\"textfont\":{\"color\":\"#000036\"},\"type\":\"sankey\"}],\"scatter\":[{\"marker\":{\"line\":{\"width\":0}},\"type\":\"scatter\"}],\"table\":[{\"cells\":{\"fill\":{\"color\":\"#000038\"},\"font\":{\"color\":\"#000037\"},\"line\":{\"color\":\"#000039\"}},\"header\":{\"fill\":{\"color\":\"#000040\"},\"font\":{\"color\":\"#000036\"},\"line\":{\"color\":\"#000039\"}},\"type\":\"table\"}],\"waterfall\":[{\"connector\":{\"line\":{\"color\":\"#000036\",\"width\":2}},\"decreasing\":{\"marker\":{\"color\":\"#000033\"}},\"increasing\":{\"marker\":{\"color\":\"#000032\"}},\"totals\":{\"marker\":{\"color\":\"#000034\"}},\"type\":\"waterfall\"}]},\"layout\":{\"coloraxis\":{\"colorscale\":[[0.0,\"#000011\"],[0.1111111111111111,\"#000012\"],[0.2222222222222222,\"#000013\"],[0.3333333333333333,\"#000014\"],[0.4444444444444444,\"#000015\"],[0.5555555555555556,\"#000016\"],[0.6666666666666666,\"#000017\"],[0.7777777777777778,\"#000018\"],[0.8888888888888888,\"#000019\"],[1.0,\"#000020\"]]},\"colorscale\":{\"diverging\":[[0.0,\"#000021\"],[0.1,\"#000022\"],[0.2,\"#000023\"],[0.3,\"#000024\"],[0.4,\"#000025\"],[0.5,\"#000026\"],[0.6,\"#000027\"],[0.7,\"#000028\"],[0.8,\"#000029\"],[0.9,\"#000030\"],[1.0,\"#000031\"]],\"sequential\":[[0.0,\"#000011\"],[0.1111111111111111,\"#000012\"],[0.2222222222222222,\"#000013\"],[0.3333333333333333,\"#000014\"],[0.4444444444444444,\"#000015\"],[0.5555555555555556,\"#000016\"],[0.6666666666666666,\"#000017\"],[0.7777777777777778,\"#000018\"],[0.8888888888888888,\"#000019\"],[1.0,\"#000020\"]],\"sequentialminus\":[[0.0,\"#000011\"],[0.1111111111111111,\"#000012\"],[0.2222222222222222,\"#000013\"],[0.3333333333333333,\"#000014\"],[0.4444444444444444,\"#000015\"],[0.5555555555555556,\"#000016\"],[0.6666666666666666,\"#000017\"],[0.7777777777777778,\"#000018\"],[0.8888888888888888,\"#000019\"],[1.0,\"#000020\"]]},\"colorway\":[\"#000001\",\"#000002\",\"#000003\",\"#000004\",\"#000005\",\"#000006\",\"#000007\",\"#000008\",\"#000009\",\"#000010\"]}},\"barmode\":\"stack\",\"title\":{\"text\":\"New Users Gained per Month per Product\"},\"xaxis\":{\"title\":{\"text\":\"Month\"}},\"yaxis\":{\"title\":{\"text\":\"Total New Users Gained\"}},\"bargap\":0.1,\"annotations\":[{\"showarrow\":false,\"text\":\"\\u003cb\\u003e-1018\\u003c\\u002fb\\u003e\",\"x\":\"2022-01\",\"xref\":\"x\",\"y\":-1068.9,\"yref\":\"y\"},{\"showarrow\":false,\"text\":\"\\u003cb\\u003e11362\\u003c\\u002fb\\u003e\",\"x\":\"2022-02\",\"xref\":\"x\",\"y\":12270.96,\"yref\":\"y\"},{\"showarrow\":false,\"text\":\"\\u003cb\\u003e13067\\u003c\\u002fb\\u003e\",\"x\":\"2022-03\",\"xref\":\"x\",\"y\":14112.36,\"yref\":\"y\"},{\"showarrow\":false,\"text\":\"\\u003cb\\u003e19062\\u003c\\u002fb\\u003e\",\"x\":\"2022-04\",\"xref\":\"x\",\"y\":20586.96,\"yref\":\"y\"},{\"showarrow\":false,\"text\":\"\\u003cb\\u003e19049\\u003c\\u002fb\\u003e\",\"x\":\"2022-05\",\"xref\":\"x\",\"y\":20572.92,\"yref\":\"y\"},{\"showarrow\":false,\"text\":\"\\u003cb\\u003e27727\\u003c\\u002fb\\u003e\",\"x\":\"2022-06\",\"xref\":\"x\",\"y\":29945.16,\"yref\":\"y\"},{\"showarrow\":false,\"text\":\"\\u003cb\\u003e20282\\u003c\\u002fb\\u003e\",\"x\":\"2022-07\",\"xref\":\"x\",\"y\":21904.56,\"yref\":\"y\"},{\"showarrow\":false,\"text\":\"\\u003cb\\u003e17523\\u003c\\u002fb\\u003e\",\"x\":\"2022-08\",\"xref\":\"x\",\"y\":18924.84,\"yref\":\"y\"},{\"showarrow\":false,\"text\":\"\\u003cb\\u003e6691\\u003c\\u002fb\\u003e\",\"x\":\"2022-09\",\"xref\":\"x\",\"y\":7226.28,\"yref\":\"y\"},{\"showarrow\":false,\"text\":\"\\u003cb\\u003e25830\\u003c\\u002fb\\u003e\",\"x\":\"2022-10\",\"xref\":\"x\",\"y\":27896.4,\"yref\":\"y\"},{\"showarrow\":false,\"text\":\"\\u003cb\\u003e-7164\\u003c\\u002fb\\u003e\",\"x\":\"2022-11\",\"xref\":\"x\",\"y\":-7522.2,\"yref\":\"y\"},{\"showarrow\":false,\"text\":\"\\u003cb\\u003e-2343\\u003c\\u002fb\\u003e\",\"x\":\"2022-12\",\"xref\":\"x\",\"y\":-2460.15,\"yref\":\"y\"},{\"showarrow\":false,\"text\":\"\\u003cb\\u003e-1041\\u003c\\u002fb\\u003e\",\"x\":\"2023-01\",\"xref\":\"x\",\"y\":-1093.05,\"yref\":\"y\"},{\"showarrow\":false,\"text\":\"\\u003cb\\u003e15281\\u003c\\u002fb\\u003e\",\"x\":\"2023-02\",\"xref\":\"x\",\"y\":16503.48,\"yref\":\"y\"},{\"showarrow\":false,\"text\":\"\\u003cb\\u003e29620\\u003c\\u002fb\\u003e\",\"x\":\"2023-03\",\"xref\":\"x\",\"y\":31989.6,\"yref\":\"y\"},{\"showarrow\":false,\"text\":\"\\u003cb\\u003e-108477\\u003c\\u002fb\\u003e\",\"x\":\"2023-04\",\"xref\":\"x\",\"y\":-113900.85,\"yref\":\"y\"},{\"showarrow\":false,\"text\":\"\\u003cb\\u003e-95534\\u003c\\u002fb\\u003e\",\"x\":\"2023-05\",\"xref\":\"x\",\"y\":-100310.7,\"yref\":\"y\"},{\"showarrow\":false,\"text\":\"\\u003cb\\u003e-1194\\u003c\\u002fb\\u003e\",\"x\":\"2023-06\",\"xref\":\"x\",\"y\":-1253.7,\"yref\":\"y\"}],\"height\":1000},                        {\"responsive\": true}                    ).then(function(){\n",
       "                            \n",
       "var gd = document.getElementById('b1e5bb42-8ac2-4b9d-87d8-cba669c7fad9');\n",
       "var x = new MutationObserver(function (mutations, observer) {{\n",
       "        var display = window.getComputedStyle(gd).display;\n",
       "        if (!display || display === 'none') {{\n",
       "            console.log([gd, 'removed!']);\n",
       "            Plotly.purge(gd);\n",
       "            observer.disconnect();\n",
       "        }}\n",
       "}});\n",
       "\n",
       "// Listen for the removal of the full notebook cells\n",
       "var notebookContainer = gd.closest('#notebook-container');\n",
       "if (notebookContainer) {{\n",
       "    x.observe(notebookContainer, {childList: true});\n",
       "}}\n",
       "\n",
       "// Listen for the clearing of the current output cell\n",
       "var outputEl = gd.closest('.output');\n",
       "if (outputEl) {{\n",
       "    x.observe(outputEl, {childList: true});\n",
       "}}\n",
       "\n",
       "                        })                };                });            </script>        </div>"
      ]
     },
     "metadata": {},
     "output_type": "display_data"
    }
   ],
   "source": [
    "import plotly.graph_objects as go\n",
    "\n",
    "# Convert year_month to string\n",
    "final_df['year_month'] = final_df['year_month'].astype(str)\n",
    "\n",
    "# Sort the DataFrame by 'year_month'\n",
    "final_df = final_df.sort_values(by='year_month')\n",
    "\n",
    "# Group data\n",
    "grouped_data = final_df.groupby(['year_month', 'product'])['new users gained'].sum().reset_index()\n",
    "\n",
    "# Define the colors for each product\n",
    "product_colors = dict(zip(products, palette))\n",
    "\n",
    "fig = go.Figure()\n",
    "\n",
    "# Loop through each product and add a bar\n",
    "for product in products:\n",
    "    subset = grouped_data[grouped_data['product'] == product]\n",
    "    fig.add_trace(\n",
    "        go.Bar(\n",
    "            x=subset['year_month'],\n",
    "            y=subset['new users gained'],\n",
    "            name=product,\n",
    "            marker_color=product_colors[product]\n",
    "        )\n",
    "    )\n",
    "\n",
    "# Calculate monthly totals\n",
    "monthly_totals = grouped_data.groupby('year_month')['new users gained'].sum()\n",
    "\n",
    "# Add annotations\n",
    "annotations = []\n",
    "for month, total in monthly_totals.items():\n",
    "    # Determine the position of the annotation. If positive, then slightly above, if negative, then slightly below.\n",
    "    position = total + (0.08 * abs(total)) if total >= 0 else total - (0.05 * abs(total))\n",
    "    annotations.append(\n",
    "        dict(\n",
    "            x=month,\n",
    "            y=position,\n",
    "            xref=\"x\",\n",
    "            yref=\"y\",\n",
    "            text=f\"<b>{int(total)}</b>\",\n",
    "            showarrow=False\n",
    "        )\n",
    "    )\n",
    "\n",
    "fig.update_layout(\n",
    "    barmode='stack',\n",
    "    title='New Users Gained per Month per Product',\n",
    "    xaxis_title='Month',\n",
    "    yaxis_title='Total New Users Gained',\n",
    "    bargap=0.1,\n",
    "    annotations=annotations,\n",
    "    height = 1000\n",
    ")\n",
    "fig.show()\n"
   ]
  },
  {
   "cell_type": "code",
   "execution_count": null,
   "id": "9cdf08cd-03b8-4bfc-8c61-ec79b0582e71",
   "metadata": {},
   "outputs": [],
   "source": []
  }
 ],
 "metadata": {
  "kernelspec": {
   "display_name": "Python 3 (ipykernel)",
   "language": "python",
   "name": "python3"
  },
  "language_info": {
   "codemirror_mode": {
    "name": "ipython",
    "version": 3
   },
   "file_extension": ".py",
   "mimetype": "text/x-python",
   "name": "python",
   "nbconvert_exporter": "python",
   "pygments_lexer": "ipython3",
   "version": "3.8.10"
  }
 },
 "nbformat": 4,
 "nbformat_minor": 5
}
